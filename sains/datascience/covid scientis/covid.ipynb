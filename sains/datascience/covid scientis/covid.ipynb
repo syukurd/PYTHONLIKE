{
 "cells": [
  {
   "cell_type": "code",
   "execution_count": null,
   "source": [
    "bersatulawancovid = ['cuci tangan', 'pakai masker', 'jaga jarak']\r\n",
    "print(bersatulawancovid)"
   ],
   "outputs": [],
   "metadata": {}
  },
  {
   "cell_type": "code",
   "execution_count": null,
   "source": [
    "import requests\r\n",
    "resp = requests.get(' https://data.covid19.go.id/public/api/update.json')\r\n",
    "resp"
   ],
   "outputs": [],
   "metadata": {}
  },
  {
   "cell_type": "code",
   "execution_count": null,
   "source": [
    "resp.headers"
   ],
   "outputs": [],
   "metadata": {}
  },
  {
   "cell_type": "code",
   "execution_count": null,
   "source": [
    "cov_id_raw = resp.json()\r\n",
    "cov_id_raw"
   ],
   "outputs": [],
   "metadata": {}
  },
  {
   "cell_type": "code",
   "execution_count": null,
   "source": [
    "import requests\r\n",
    "resp = requests.get('https://data.covid19.go.id/public/api/update.json')\r\n",
    "cov_id_raw = resp.json()\r\n",
    "\r\n",
    "print('Length of cov_id_raw : %d.' %len(cov_id_raw))\r\n",
    "print('Komponen cov_id_raw  : %s.' %cov_id_raw.keys())\r\n",
    "cov_id_update = cov_id_raw['update']\r\n"
   ],
   "outputs": [],
   "metadata": {}
  },
  {
   "cell_type": "markdown",
   "source": [
    "# Analisa Data\r\n",
    "# Sekarang Anda diminta untuk fokus pada obyek cov_id_update untuk menjawab pertanyaan-pertanyaan berikut:\r\n",
    "\r\n",
    "## Kapan tanggal pembaharuan data penambahan kasus?\r\n",
    "## Berapa jumlah penambahan kasus sembuh?\r\n",
    "## Berapa jumlah penambahan kasus meninggal?\r\n",
    "## Berapa jumlah total kasus positif hingga saat ini?\r\n",
    "## Berapa jumlah total kasus meninggal hingga saat ini?"
   ],
   "metadata": {}
  },
  {
   "cell_type": "code",
   "execution_count": null,
   "source": [
    "import requests\r\n",
    "resp = requests.get('https://data.covid19.go.id/public/api/update.json')\r\n",
    "cov_id_raw = resp.json()\r\n",
    "cov_id_update = cov_id_raw['update']\r\n",
    "\r\n",
    "print('Tanggal pembaharuan data penambahan kasus   :', cov_id_update['penambahan']['tanggal'])\r\n",
    "print('Jumlah penambahann kasus sembuh   :', cov_id_update['penambahan']['jumlah_sembuh'])\r\n",
    "print('Jumlah penambahan kasus meninggal :', cov_id_update['penambahan']['jumlah_meninggal'])\r\n",
    "print('Jumlah total kasus positif hingga saat ini :', cov_id_update['total']['jumlah_positif'])\r\n",
    "print('Jumlah total kasus meninggal hingga saat ini :', cov_id_update['total']['jumlah_meninggal'])\r\n"
   ],
   "outputs": [],
   "metadata": {}
  },
  {
   "cell_type": "code",
   "execution_count": 10,
   "source": [
    "import requests\r\n",
    "resp_jabar = requests.get('https://data.covid19.go.id/public/api/prov_detail_JAWA_BARAT.json')\r\n",
    "cov_jabar_raw = resp_jabar.json()"
   ],
   "outputs": [],
   "metadata": {}
  }
 ],
 "metadata": {
  "orig_nbformat": 4,
  "language_info": {
   "name": "python",
   "version": "3.9.5",
   "mimetype": "text/x-python",
   "codemirror_mode": {
    "name": "ipython",
    "version": 3
   },
   "pygments_lexer": "ipython3",
   "nbconvert_exporter": "python",
   "file_extension": ".py"
  },
  "kernelspec": {
   "name": "python3",
   "display_name": "Python 3.9.5 64-bit"
  },
  "interpreter": {
   "hash": "2647ea34e536f865ab67ff9ddee7fd78773d956cec0cab53c79b32cd10da5d83"
  }
 },
 "nbformat": 4,
 "nbformat_minor": 2
}