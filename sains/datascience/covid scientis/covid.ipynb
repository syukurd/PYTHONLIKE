{
 "cells": [
  {
   "cell_type": "code",
   "execution_count": null,
   "source": [
    "bersatulawancovid = ['cuci tangan', 'pakai masker', 'jaga jarak']\r\n",
    "print(bersatulawancovid)"
   ],
   "outputs": [],
   "metadata": {}
  }
 ],
 "metadata": {
  "orig_nbformat": 4,
  "language_info": {
   "name": "python"
  }
 },
 "nbformat": 4,
 "nbformat_minor": 2
}