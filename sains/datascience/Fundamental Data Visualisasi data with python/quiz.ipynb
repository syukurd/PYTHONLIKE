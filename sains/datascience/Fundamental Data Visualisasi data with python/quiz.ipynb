{
 "cells": [
  {
   "cell_type": "code",
   "execution_count": null,
   "source": [
    "import pandas as pd\r\n",
    "import matplotlib.pyplot as plt\r\n",
    "\r\n",
    "tabel = (pd.read_csv(\"https://storage.googleapis.com/dqlab-dataset/usia_karyawan.csv\").sort_values(\"Kelompok Usia\", ascending = False).set_index(\"Kelompok Usia\"))\r\n",
    "\r\n",
    "tabel[\"Laki-laki\"] = -tabel[\"Laki-laki\"]"
   ],
   "outputs": [],
   "metadata": {}
  },
  {
   "cell_type": "markdown",
   "source": [
    "# buat figure"
   ],
   "metadata": {}
  },
  {
   "cell_type": "code",
   "execution_count": null,
   "source": [
    "fig, axes = plt.subplots(1,2, figsize = (14,6))\r\n",
    "fig.suptitle(\"Perbandingan Jumlah Karyawan Laki-laki dan Perempuan\\nBerdasarkan Kelompok Usia\", \r\n",
    "x =0., y = 1.0, fontsize = 24, fontweight = 'bold', ha = 'left')\r\n",
    "tabel[\"Laki-laki\"].plot(kind = 'barh', ax=axes[0], color =\"tab:blue\", xlim=[-550,0])\r\n",
    "tabel[\"Perempuan\"].plot(kind = 'barh', ax=axes[1], color =\"tab:orange\", fontsize=14, xlim=[0, 550])\r\n",
    "\r\n",
    "axes[0].set_ylabel(\"\")\r\n",
    "axes[0].tick_params(left = False, bottom = False, labelleft = False, labelbottom = False)\r\n",
    "axes[0].legend([\"Laki-laki\"], fontsize = 14, bbox_to_anchor = (0.,0.,1.0,.05))\r\n",
    "axes[0].set_frame_on(False)\r\n",
    "\r\n",
    "axes[1].set_ylabel(\"\")\r\n",
    "axes[1].tick_params(left=False, bottom=False, labelbottom=False)\r\n",
    "axes[1].legend([\"Perempuan\"], fontsize=14, bbox_to_anchor=(0., 0., 0.3, .05))\r\n",
    "axes[1].set_frame_on(False)\r\n",
    "\r\n",
    "for i, m, w in zip(range(tabel.shape[0]), list(tabel['Laki-laki']), list(tabel['Perempuan'])):\r\n",
    "    \r\n",
    "    axes[0].annotate(str(abs(m)), (m+20, i), xytext = (m+20, i), color ='w', va = 'center', ha = 'center', fontsize=14),\r\n",
    "    axes[1].annotate(str(abs(w)), (w-20, i), xytext = (w-20, i), color ='w', va = 'center', ha = 'center', fontsize=14) \r\n",
    "\r\n",
    "\r\n",
    "plt.tight_layout(rect=(0,0,1,0.88))\r\n",
    "plt.show()\r\n",
    "\r\n"
   ],
   "outputs": [],
   "metadata": {}
  },
  {
   "cell_type": "markdown",
   "source": [
    "# Hasil quis yang benar"
   ],
   "metadata": {}
  },
  {
   "cell_type": "code",
   "execution_count": null,
   "source": [
    "import pandas as pd\r\n",
    "import matplotlib.pyplot as plt\r\n",
    "\r\n",
    "tabel = (pd.read_csv(\"https://storage.googleapis.com/dqlab-dataset/usia_karyawan.csv\")\r\n",
    "           .sort_values(\"Kelompok Usia\", ascending=False)\r\n",
    "           .set_index(\"Kelompok Usia\")\r\n",
    "         )\r\n",
    "tabel[\"Laki-laki\"] = -tabel[\"Laki-laki\"]\r\n",
    "\r\n",
    "fig, axes = plt.subplots(1, 2, figsize = (14, 6))\r\n",
    "fig.suptitle(\"Perbandingan Jumlah Karyawan Laki-laki dan Perempuan\\nBerdasarkan Kelompok Usia\",\r\n",
    "             x=0., y=1.0, fontsize=24, fontweight ='bold', ha=\"left\")\r\n",
    "tabel[\"Laki-laki\"].plot(kind=\"barh\", ax=axes[0], color=\"tab:blue\", xlim=[-550, 0])\r\n",
    "tabel[\"Perempuan\"].plot(kind=\"barh\", ax=axes[1], color=\"tab:orange\", fontsize= 14, xlim=[0, 550])\r\n",
    "axes[0].set_ylabel(\"\")\r\n",
    "axes[0].tick_params(left=False, bottom=False, labelleft=False, labelbottom=False)\r\n",
    "axes[0].legend([\"Laki-laki\"], fontsize=14, bbox_to_anchor=(0., 0., 1., .05))\r\n",
    "axes[0].set_frame_on(False)\r\n",
    "axes[1].set_ylabel(\"\")\r\n",
    "axes[1].tick_params(left=False, bottom=False, labelbottom=False)\r\n",
    "axes[1].legend([\"Perempuan\"], fontsize=14, bbox_to_anchor=(0., 0., 0.3, .05))\r\n",
    "axes[1].set_frame_on(False)\r\n",
    "for i, m, w in zip(range(tabel.shape[0]), list(tabel['Laki-laki']), list(tabel['Perempuan'])):\r\n",
    "        axes[0].annotate(str(abs(m)), (m+20, i), xytext= (m+20, i),\r\n",
    "                         color=\"w\", va=\"center\", ha=\"center\", fontsize=14)\r\n",
    "        axes[1].annotate(str(abs(w)), (w-20, i), xytext= (w-20, i),\r\n",
    "                         color=\"w\", va=\"center\", ha=\"center\", fontsize=14)\r\n",
    "plt.tight_layout(rect=(0,0,1,0.88))\r\n",
    "plt.show()"
   ],
   "outputs": [],
   "metadata": {}
  },
  {
   "cell_type": "code",
   "execution_count": null,
   "source": [],
   "outputs": [],
   "metadata": {}
  },
  {
   "cell_type": "code",
   "execution_count": null,
   "source": [],
   "outputs": [],
   "metadata": {}
  }
 ],
 "metadata": {
  "orig_nbformat": 4,
  "language_info": {
   "name": "python",
   "version": "3.9.5",
   "mimetype": "text/x-python",
   "codemirror_mode": {
    "name": "ipython",
    "version": 3
   },
   "pygments_lexer": "ipython3",
   "nbconvert_exporter": "python",
   "file_extension": ".py"
  },
  "kernelspec": {
   "name": "python3",
   "display_name": "Python 3.9.5 64-bit"
  },
  "interpreter": {
   "hash": "2647ea34e536f865ab67ff9ddee7fd78773d956cec0cab53c79b32cd10da5d83"
  }
 },
 "nbformat": 4,
 "nbformat_minor": 2
}