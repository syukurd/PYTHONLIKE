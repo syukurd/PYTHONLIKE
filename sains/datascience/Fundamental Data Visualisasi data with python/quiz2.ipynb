{
 "cells": [
  {
   "cell_type": "code",
   "execution_count": null,
   "source": [
    "import pandas as pd\r\n",
    "import matplotlib.pyplot as plt\r\n",
    "\r\n",
    "tabel = pd.read_csv(\"https://storage.googleapis.com/dqlab-dataset/produktivitas_karyawan.csv\", index_col=\"Bulan\") / 1000\r\n",
    "\r\n",
    "fig, ax = plt.subplots(1, 1, figsize=(12, 6))\r\n",
    "fig.suptitle(\"Best Employee 2019\", x=0.028, y=1.05, fontsize=24, fontweight='bold', ha=\"left\")\r\n",
    "ax.set_title(\"Lima karyawan dengan produktivitas tertinggi\\n\", fontsize=18, ha=\"right\")\r\n",
    "\r\n",
    "colors = [\"tab:gray\", \"tab:gray\", \"tab:gray\", \"tab:gray\", \"darkblue\"]\r\n",
    "line_widths = [ 1.5, 2, 1, 2.5, 3.]\r\n",
    "lp = tabel.plot(kind=\"line\", ax=ax, xlim=[0, 11], ylim=[10, 40], color=colors,\r\n",
    "\t\t\t\txticks=range(tabel.shape[0]), yticks=[10, 20, 30, 40])\r\n",
    "\r\n",
    "add_lbl_pos = [ 0.3,  0.5, 1.2, -1.0, 0.5]\r\n",
    "add_avg_pos = [-0.7, -0.5, 0.2, -2.0, -0.5]\r\n",
    "for i, item in enumerate(lp.get_lines()):\r\n",
    "\titem.set_linewidth(line_widths[i])\r\n",
    "\tlbl = item.get_label()\r\n",
    "\tax.annotate(lbl, (11, tabel.loc[\"Desember\", lbl]),(11.2, tabel.loc[\"Desember\",lbl] + add_lbl_pos[i]),\r\n",
    "\t\t\t\t            fontweight=\"bold\", fontsize=12, color=colors[i], va=\"center\",\r\n",
    "\t\t\t\t            arrowprops={\"arrowstyle\": \"-\", \"color\": colors[i]})\r\n",
    "\tax.annotate(\"(avg: %.4f)\" % tabel[lbl].mean(), (11, tabel.loc[\"Desember\",lbl]),\r\n",
    "\t\t\t\t                (11.2, tabel.loc[\"Desember\",lbl] + add_avg_pos[i]),\r\n",
    "\t\t\t\tfontsize=11, color=colors[i], va=\"center\")\r\n",
    "highest_prod = tabel[\"Karyawan E\"].max()\r\n",
    "ax.annotate(\"Produktivitas\\ntertinggi\\n%.4f\" % highest_prod, (8, highest_prod), (7.75, highest_prod+1.5), \r\n",
    "\t\t\t        ha=\"left\", color=colors[-1], arrowprops={\"arrowstyle\": \"-\", \"color\": colors[-1]})\r\n",
    "ax.set_xticklabels([item[:3] for item in tabel.index], fontsize=12)\r\n",
    "ax.set_yticklabels([str(i) for i in [10, 20, 30, 40]], fontsize=12)\r\n",
    "ax.set_xlabel(\"\")\r\n",
    "ax.set_ylabel(\"Jumlah produk (ribuan)\\n\", fontsize=14)\r\n",
    "ax.spines[\"top\"].set_color(\"none\")\r\n",
    "ax.spines[\"right\"].set_color(\"none\")\r\n",
    "ax.spines[\"bottom\"].set_color(\"none\")\r\n",
    "ax.get_legend().remove()\r\n",
    "\r\n",
    "plt.show()"
   ],
   "outputs": [],
   "metadata": {}
  },
  {
   "cell_type": "code",
   "execution_count": null,
   "source": [
    "lp.get_lines()"
   ],
   "outputs": [],
   "metadata": {}
  }
 ],
 "metadata": {
  "orig_nbformat": 4,
  "language_info": {
   "name": "python",
   "version": "3.9.5",
   "mimetype": "text/x-python",
   "codemirror_mode": {
    "name": "ipython",
    "version": 3
   },
   "pygments_lexer": "ipython3",
   "nbconvert_exporter": "python",
   "file_extension": ".py"
  },
  "kernelspec": {
   "name": "python3",
   "display_name": "Python 3.9.5 64-bit"
  },
  "interpreter": {
   "hash": "2647ea34e536f865ab67ff9ddee7fd78773d956cec0cab53c79b32cd10da5d83"
  }
 },
 "nbformat": 4,
 "nbformat_minor": 2
}