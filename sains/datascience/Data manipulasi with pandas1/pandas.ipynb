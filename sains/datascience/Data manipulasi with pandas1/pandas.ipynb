{
 "cells": [
  {
   "cell_type": "code",
   "execution_count": null,
   "source": [
    "import pandas as pd\r\n",
    "# Series\r\n",
    "number_list = pd.Series([1,2,3,4,5,6])\r\n",
    "print(\"Series:\")\r\n",
    "print(number_list)\r\n",
    "# DataFrame\r\n",
    "matrix = [[1,2,3],\r\n",
    "          ['a','b','c'],\r\n",
    "          [3,4,5],\r\n",
    "          ['d',4,6]]\r\n",
    "matrix_list = pd.DataFrame(matrix)\r\n",
    "print(\"DataFrame:\")\r\n",
    "print(matrix_list)"
   ],
   "outputs": [],
   "metadata": {}
  },
  {
   "cell_type": "code",
   "execution_count": null,
   "source": [
    "import pandas as pd\r\n",
    "# Series\r\n",
    "number_list = pd.Series([1,2,3,4,5,6])\r\n",
    "# DataFrame\r\n",
    "matrix_list = pd.DataFrame([[1,2,3],\r\n",
    "\t\t\t\t            ['a','b','c'],\r\n",
    "\t\t\t\t            [3,4,5],\r\n",
    "\t\t\t\t            ['d',4,6]])\r\n",
    "# [1] attribute .info()\r\n",
    "print(\"[1] attribute .info()\")\r\n",
    "print(matrix_list.info())\r\n",
    "# [2] attribute .shape\r\n",
    "print(\"\\n[2] attribute .shape\")\r\n",
    "print(\"    Shape dari number_list:\", number_list.shape)\r\n",
    "print(\"    Shape dari matrix_list:\", matrix_list.shape)\r\n",
    "# [3] attribute .dtypes\r\n",
    "print(\"\\n[3] attribute .dtypes\")\r\n",
    "print(\"    Tipe data number_list:\", number_list.dtypes)\r\n",
    "print(\"    Tipe data matrix_list:\", matrix_list.dtypes)\r\n",
    "# [4] attribute .astype()\r\n",
    "print(\"\\n[4] attribute .astype()\")\r\n",
    "print(\"    Konversi number_list ke str:\", number_list.astype(\"str\"))\r\n",
    "print(\"    Konversi matrix_list ke str:\", matrix_list.astype(\"str\"))"
   ],
   "outputs": [],
   "metadata": {}
  },
  {
   "cell_type": "markdown",
   "source": [
    "## Attribute .copy() digunakan melakukan duplikat, untuk disimpan di variable yang berbeda mungkin supaya tidak loading data lagi.\r\n",
    "## Attribute .to_list() digunakan untuk mengubah series menjadi list dan tidak dapat digunakan untuk dataframe\r\n",
    "## Attribute .unique() digunakan menghasilkan nilai unik dari suatu kolom, hasilnya dalam bentuk numpy array. Attribute ini hanya digunakan pada series saja."
   ],
   "metadata": {}
  },
  {
   "cell_type": "code",
   "execution_count": null,
   "source": [
    "import pandas as pd\r\n",
    "# Series\r\n",
    "number_list = pd.Series([1,2,3,4,5,6])\r\n",
    "# DataFrame\r\n",
    "matrix_list = pd.DataFrame([[1,2,3],\r\n",
    "\t\t\t\t            ['a','b','c'],\r\n",
    "\t\t\t\t            [3,4,5],\r\n",
    "\t\t\t\t            ['d',4,6]])\r\n",
    "# [5] attribute .copy()\r\n",
    "print(\"[5] attribute .copy()\")\r\n",
    "num_list = number_list.copy()\r\n",
    "print(\"    Copy number_list ke num_list:\", num_list)\r\n",
    "mtr_list = matrix_list.copy()\r\n",
    "print(\"    Copy matrix_list ke mtr_list:\", mtr_list)\t\r\n",
    "# [6] attribute .to_list()\r\n",
    "print(\"[6] attribute .to_list()\")\r\n",
    "print(number_list.to_list())\r\n",
    "# [7] attribute .unique()\r\n",
    "print(\"[7] attribute .unique()\")\r\n",
    "print(number_list.unique())"
   ],
   "outputs": [],
   "metadata": {}
  },
  {
   "cell_type": "code",
   "execution_count": null,
   "source": [
    "import pandas as pd\r\n",
    "# Series\r\n",
    "number_list = pd.Series([1,2,3,4,5,6])\r\n",
    "# DataFrame\r\n",
    "matrix_list = pd.DataFrame([[1,2,3],\r\n",
    "\t\t\t\t            ['a','b','c'],\r\n",
    "\t\t\t\t            [3,4,5],\r\n",
    "\t\t\t\t            ['d',4,6]])\r\n",
    "# [8] attribute .index\r\n",
    "print(\"[8] attribute .index\")\r\n",
    "print(\"    Index number_list:\", number_list.index)\r\n",
    "print(\"    Index matrix_list:\", matrix_list.index)\t\r\n",
    "# [9] attribute .columns\r\n",
    "print(\"[9] attribute .columns\")\r\n",
    "print(\"    Column matrix_list:\", matrix_list.columns)\r\n",
    "# [10] attribute .loc\r\n",
    "print(\"[10] attribute .loc\")\r\n",
    "print(\"    .loc[0:1] pada number_list:\", number_list.loc[0:1])\r\n",
    "print(\"    .loc[0:1] pada matrix_list:\", matrix_list.loc[0:1])\r\n",
    "# [11] attribute .iloc\r\n",
    "print(\"[11] attribute .iloc\")\r\n",
    "print(\"    iloc[0:1] pada number_list:\", number_list.iloc[0:1])\r\n",
    "print(\"    iloc[0:1] pada matrix_list:\", matrix_list.iloc[0:1])\t"
   ],
   "outputs": [],
   "metadata": {}
  },
  {
   "cell_type": "markdown",
   "source": [],
   "metadata": {}
  }
 ],
 "metadata": {
  "orig_nbformat": 4,
  "language_info": {
   "name": "python",
   "version": "3.9.5",
   "mimetype": "text/x-python",
   "codemirror_mode": {
    "name": "ipython",
    "version": 3
   },
   "pygments_lexer": "ipython3",
   "nbconvert_exporter": "python",
   "file_extension": ".py"
  },
  "kernelspec": {
   "name": "python3",
   "display_name": "Python 3.9.5 64-bit"
  },
  "interpreter": {
   "hash": "2647ea34e536f865ab67ff9ddee7fd78773d956cec0cab53c79b32cd10da5d83"
  }
 },
 "nbformat": 4,
 "nbformat_minor": 2
}