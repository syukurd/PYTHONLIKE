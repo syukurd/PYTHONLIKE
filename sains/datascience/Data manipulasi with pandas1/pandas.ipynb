{
 "cells": [
  {
   "cell_type": "code",
   "execution_count": null,
   "source": [
    "import pandas as pd\r\n",
    "# Series\r\n",
    "number_list = pd.Series([1,2,3,4,5,6])\r\n",
    "print(\"Series:\")\r\n",
    "print(number_list)\r\n",
    "# DataFrame\r\n",
    "matrix = [[1,2,3],\r\n",
    "          ['a','b','c'],\r\n",
    "          [3,4,5],\r\n",
    "          ['d',4,6]]\r\n",
    "matrix_list = pd.DataFrame(matrix)\r\n",
    "print(\"DataFrame:\")\r\n",
    "print(matrix_list)"
   ],
   "outputs": [],
   "metadata": {}
  },
  {
   "cell_type": "code",
   "execution_count": null,
   "source": [],
   "outputs": [],
   "metadata": {}
  },
  {
   "cell_type": "code",
   "execution_count": null,
   "source": [
    "import pandas as pd\r\n",
    "# Series\r\n",
    "number_list = pd.Series([1,2,3,4,5,6])\r\n",
    "# DataFrame\r\n",
    "matrix_list = pd.DataFrame([[1,2,3],\r\n",
    "\t\t\t\t            ['a','b','c'],\r\n",
    "\t\t\t\t            [3,4,5],\r\n",
    "\t\t\t\t            ['d',4,6]])\r\n",
    "# [1] attribute .info()\r\n",
    "print(\"[1] attribute .info()\")\r\n",
    "print(matrix_list.info())\r\n",
    "# [2] attribute .shape\r\n",
    "print(\"\\n[2] attribute .shape\")\r\n",
    "print(\"    Shape dari number_list:\", number_list.shape)\r\n",
    "print(\"    Shape dari matrix_list:\", matrix_list.shape)\r\n",
    "# [3] attribute .dtypes\r\n",
    "print(\"\\n[3] attribute .dtypes\")\r\n",
    "print(\"    Tipe data number_list:\", number_list.dtypes)\r\n",
    "print(\"    Tipe data matrix_list:\", matrix_list.dtypes)\r\n",
    "# [4] attribute .astype()\r\n",
    "print(\"\\n[4] attribute .astype()\")\r\n",
    "print(\"    Konversi number_list ke str:\", number_list.astype(\"str\"))\r\n",
    "print(\"    Konversi matrix_list ke str:\", matrix_list.astype(\"str\"))"
   ],
   "outputs": [],
   "metadata": {}
  },
  {
   "cell_type": "markdown",
   "source": [
    "## Attribute .copy() digunakan melakukan duplikat, untuk disimpan di variable yang berbeda mungkin supaya tidak loading data lagi.\r\n",
    "## Attribute .to_list() digunakan untuk mengubah series menjadi list dan tidak dapat digunakan untuk dataframe\r\n",
    "## Attribute .unique() digunakan menghasilkan nilai unik dari suatu kolom, hasilnya dalam bentuk numpy array. Attribute ini hanya digunakan pada series saja."
   ],
   "metadata": {}
  },
  {
   "cell_type": "code",
   "execution_count": null,
   "source": [
    "import pandas as pd\r\n",
    "# Series\r\n",
    "number_list = pd.Series([1,2,3,4,5,6])\r\n",
    "# DataFrame\r\n",
    "matrix_list = pd.DataFrame([[1,2,3],\r\n",
    "\t\t\t\t            ['a','b','c'],\r\n",
    "\t\t\t\t            [3,4,5],\r\n",
    "\t\t\t\t            ['d',4,6]])\r\n",
    "# [5] attribute .copy()\r\n",
    "print(\"[5] attribute .copy()\")\r\n",
    "num_list = number_list.copy()\r\n",
    "print(\"    Copy number_list ke num_list:\", num_list)\r\n",
    "mtr_list = matrix_list.copy()\r\n",
    "print(\"    Copy matrix_list ke mtr_list:\", mtr_list)\t\r\n",
    "# [6] attribute .to_list()\r\n",
    "print(\"[6] attribute .to_list()\")\r\n",
    "print(number_list.to_list())\r\n",
    "# [7] attribute .unique()\r\n",
    "print(\"[7] attribute .unique()\")\r\n",
    "print(number_list.unique())"
   ],
   "outputs": [],
   "metadata": {}
  },
  {
   "cell_type": "code",
   "execution_count": null,
   "source": [
    "import pandas as pd\r\n",
    "# Series\r\n",
    "number_list = pd.Series([1,2,3,4,5,6])\r\n",
    "# DataFrame\r\n",
    "matrix_list = pd.DataFrame([[1,2,3],\r\n",
    "\t\t\t\t            ['a','b','c'],\r\n",
    "\t\t\t\t            [3,4,5],\r\n",
    "\t\t\t\t            ['d',4,6]])\r\n",
    "# [8] attribute .index\r\n",
    "print(\"[8] attribute .index\")\r\n",
    "print(\"    Index number_list:\", number_list.index)\r\n",
    "print(\"    Index matrix_list:\", matrix_list.index)\t\r\n",
    "# [9] attribute .columns\r\n",
    "print(\"[9] attribute .columns\")\r\n",
    "print(\"    Column matrix_list:\", matrix_list.columns)\r\n",
    "# [10] attribute .loc\r\n",
    "print(\"[10] attribute .loc\")\r\n",
    "print(\"    .loc[0:1] pada number_list:\", number_list.loc[0:1])\r\n",
    "print(\"    .loc[0:1] pada matrix_list:\", matrix_list.loc[0:1])\r\n",
    "# [11] attribute .iloc\r\n",
    "print(\"[11] attribute .iloc\")\r\n",
    "print(\"    iloc[0:1] pada number_list:\", number_list.iloc[0:1])\r\n",
    "print(\"    iloc[0:1] pada matrix_list:\", matrix_list.iloc[0:1])\t"
   ],
   "outputs": [],
   "metadata": {}
  },
  {
   "cell_type": "markdown",
   "source": [
    "## Atribut DataFrame & Series - Part 3\r\n",
    "## Dataframe dan Series memiliki sangat banyak atribut yang digunakan untuk transformasi data, tetapi ada beberapa attribute yang sering dipakai. Di sini series number_list dan data frame matrix_list pada subbab sebelumnya digunakan kembali.\r\n",
    "## 8. Attribute .index\r\n",
    "## Attribute .index digunakan untuk mencari index/key dari Series atau Dataframe.\r\n",
    "## 9. Attribute .columns\r\n",
    "## Attribute .columns digunakan untuk mengetahui apa saja kolom yang tersedia di dataframe tersebut (hanya digunakan untuk dataframe saja). \r\n",
    "## 10. Attribute .loc\r\n",
    "## Attribute .loc digunakan slice dataframe atau series berdasarkan nama kolom dan/atau nama index.\r\n",
    "## 11. Attribute .iloc\r\n",
    "## Output di console untuk penggunaan attribute .iloc[] ini adalah\r\n",
    "\r\n",
    "\r\n",
    "\r\n",
    " \r\n",
    "\r\n"
   ],
   "metadata": {}
  },
  {
   "cell_type": "markdown",
   "source": [],
   "metadata": {}
  },
  {
   "cell_type": "code",
   "execution_count": null,
   "source": [
    "# QUIS\r\n",
    "matrix = [[1,2,3],\r\n",
    "          ['a','b','c'],\r\n",
    "          [3,4,5],\r\n",
    "          ['d',4,6]]\r\n",
    "matrix_list = pd.DataFrame(matrix)\r\n",
    "matrix_list.iloc[0:2,1].to_list()\r\n"
   ],
   "outputs": [],
   "metadata": {}
  },
  {
   "cell_type": "markdown",
   "source": [
    "# Membuat dataframe dari list of list"
   ],
   "metadata": {}
  },
  {
   "cell_type": "code",
   "execution_count": null,
   "source": [
    "import pandas as pd\r\n",
    "# Creating series from list\r\n",
    "ex_list = ['a',1,3,5,'c','d']\r\n",
    "ex_series = pd.Series(ex_list)\r\n",
    "print(ex_series)\r\n",
    "# Creating dataframe from list of list\r\n",
    "ex_list_of_list = [[1 ,'a','b' ,'c'],\r\n",
    "                   [2.5,'d','e','f'],\r\n",
    "\t\t           [5 ,'g','g' ,'i'],\r\n",
    "\t\t           [7.5,'j',10.5,'1']]\r\n",
    "index = ['dq','lab','kar','lan']\r\n",
    "cols = ['float','char','obj','char']\r\n",
    "ex_df = pd.DataFrame(ex_list_of_list, index=index, columns=cols)\r\n",
    "print(ex_df)"
   ],
   "outputs": [],
   "metadata": {}
  },
  {
   "cell_type": "markdown",
   "source": [
    "# Membuat Data Series dari Dictonary & DataFrame dari dictonary"
   ],
   "metadata": {}
  },
  {
   "cell_type": "markdown",
   "source": [],
   "metadata": {}
  },
  {
   "cell_type": "code",
   "execution_count": null,
   "source": [
    "import pandas as pd\r\n",
    "# Creating series from dictionary\r\n",
    "dict_series = {'1':'a',\r\n",
    "\t\t\t   '2':'b',\r\n",
    "\t\t\t   '3':'c'}\r\n",
    "ex_series = pd.Series(dict_series)\r\n",
    "print(ex_series)\r\n",
    "# Creating dataframe from dictionary\r\n",
    "df_series = {'1':['a','b','c'],\r\n",
    "             '2':['b','c','d'],\r\n",
    "             '4':[2,3,'z']}\r\n",
    "ex_df = pd.DataFrame(df_series)\r\n",
    "print(ex_df)"
   ],
   "outputs": [],
   "metadata": {}
  },
  {
   "cell_type": "markdown",
   "source": [
    "# Membuat data array dengan memanfaatkan numpy"
   ],
   "metadata": {}
  },
  {
   "cell_type": "code",
   "execution_count": null,
   "source": [
    "import pandas as pd\r\n",
    "import numpy as np\r\n",
    "# Creating series from numpy array (1D)\r\n",
    "arr_series = np.array([1,2,3,4,5,6,6,7])\r\n",
    "ex_series = pd.Series(arr_series)\r\n",
    "print(ex_series)\r\n",
    "# Creating dataframe from numpy array (2D)\r\n",
    "arr_df = np.array([[1 ,2 ,3 ,5],\r\n",
    "                   [5 ,6 ,7 ,8],\r\n",
    "                   ['a','b','c',10]])\r\n",
    "ex_df = pd.DataFrame(arr_df)\r\n",
    "print(ex_df)"
   ],
   "outputs": [],
   "metadata": {}
  },
  {
   "cell_type": "code",
   "execution_count": null,
   "source": [
    "arr_df = np.array([ [1,2,3,5],\r\n",
    "                    [5,6,7,8],\r\n",
    "                    ['a','b',9,10]])\r\n",
    "df = pd.DataFrame(arr_df)\r\n",
    "print('ini iloc :\\n ',df.iloc[2,0:2])\r\n",
    "print('ini loc :\\n ',df.loc[2,0:1])\r\n"
   ],
   "outputs": [],
   "metadata": {}
  },
  {
   "cell_type": "markdown",
   "source": [
    "# Membaca File"
   ],
   "metadata": {}
  },
  {
   "cell_type": "code",
   "execution_count": null,
   "source": [
    "import pandas as pd\r\n",
    "# File CSV\r\n",
    "df_csv = pd.read_csv( \"https://storage.googleapis.com/dqlab-dataset/sample_csv.csv\")\r\n",
    "print(df_csv.head(3)) # Menampilkan 3 data teratas\r\n",
    "# File TSV\r\n",
    "df_tsv = pd.read_csv(\"https://storage.googleapis.com/dqlab-dataset/sample_tsv.tsv\", sep='\\t')\r\n",
    "print(df_tsv.head(3)) # Menampilkan 3 data teratas\r\n",
    "\r\n",
    "import pandas as pd\r\n",
    "# File xlsx dengan data di sheet \"test\"\r\n",
    "df_excel = pd.read_excel(\"https://storage.googleapis.com/dqlab-dataset/sample_excel.xlsx\", sheet_name=\"test\")\r\n",
    "print(df_excel.head(4)) # Menampilkan 4 data teratas\r\n",
    "\r\n"
   ],
   "outputs": [],
   "metadata": {}
  },
  {
   "cell_type": "markdown",
   "source": [
    "# Baca Json"
   ],
   "metadata": {}
  },
  {
   "cell_type": "code",
   "execution_count": null,
   "source": [
    "\r\n",
    "import pandas as pd\r\n",
    "# File JSON\r\n",
    "url = \"https://storage.googleapis.com/dqlab-dataset/covid2019-api-herokuapp-v2.json\"\r\n",
    "df_json = pd.read_json(url)\r\n",
    "print(df_json.head(10)) # Menampilkan 10 data teratas"
   ],
   "outputs": [],
   "metadata": {}
  },
  {
   "cell_type": "code",
   "execution_count": null,
   "source": [
    "import pandas as pd\r\n",
    "# Baca file sample_csv.csv\r\n",
    "df = pd.read_csv(\"https://storage.googleapis.com/dqlab-dataset/sample_csv.csv\")\r\n",
    "# Tampilkan 3 data teratas\r\n",
    "print(\"Tiga data teratas:\\n\", df.head(3))\r\n",
    "# Tampilkan 3 data terbawah\r\n",
    "print(\"Tiga data terbawah:\\n\", df.tail(3))"
   ],
   "outputs": [],
   "metadata": {}
  },
  {
   "cell_type": "code",
   "execution_count": null,
   "source": [
    "import pandas as pd\r\n",
    "# Baca file TSV sample_tsv.tsv\r\n",
    "df = pd.read_csv(\"https://storage.googleapis.com/dqlab-dataset/sample_tsv.tsv\", sep='\\t')\r\n",
    "# Index dari df\r\n",
    "print(\"Index:\",df.index)\r\n",
    "# Column dari df\r\n",
    "print(\"Columns:\", df.columns)"
   ],
   "outputs": [],
   "metadata": {}
  },
  {
   "cell_type": "code",
   "execution_count": null,
   "source": [
    "import pandas as pd\r\n",
    "# Baca file TSV sample_tsv.tsv\r\n",
    "df = pd.read_csv(\"https://storage.googleapis.com/dqlab-dataset/sample_csv.tsv\", sep=\"\\t\")\r\n",
    "# Set multi index df\r\n",
    "df_x = df.set_index(['order_date', 'city', 'costumer_id'])"
   ],
   "outputs": [],
   "metadata": {}
  },
  {
   "cell_type": "markdown",
   "source": [
    "Perlu diketahui bahwa kumpulan index dari multi index adalah list dari banyak tuples, tuples nya merupakan kombinasi yang ada dari gabungan index-index tersebut. Dari multi index tersebut juga terdapat atribut levels yang menunjukkan urutan index, dalam case ini 'order_id' > 'customer_id' > 'product_id' > 'order_date'.\r\n",
    "\r\n"
   ],
   "metadata": {}
  },
  {
   "cell_type": "code",
   "execution_count": null,
   "source": [
    "import pandas as pd\r\n",
    "# Baca file TSV sample_tsv.tsv\r\n",
    "df = pd.read_csv(\"https://storage.googleapis.com/dqlab-dataset/sample_tsv.tsv\", sep=\"\\t\")\r\n",
    "# Set multi index df\r\n",
    "df_x = df.set_index(['order_date', 'city', 'customer_id'])\r\n",
    "# Print nama dan level dari multi index\r\n",
    "for name, level in zip(df_x.index.names, df_x.index.levels):\r\n",
    "    print(name,':',level)\r\n"
   ],
   "outputs": [],
   "metadata": {}
  },
  {
   "cell_type": "markdown",
   "source": [
    "# GAK MASUK DI OTAK"
   ],
   "metadata": {}
  },
  {
   "cell_type": "code",
   "execution_count": null,
   "source": [
    "import pandas as pd\r\n",
    "# Baca file sample_tsv.tsv untuk 10 baris pertama saja\r\n",
    "df = pd.read_csv( \"https://storage.googleapis.com/dqlab-dataset/sample_tsv.tsv\", sep=\"\\t\", nrows=10)\r\n",
    "# Cetak data frame awal\r\n",
    "# print(\"Dataframe awal:\\n\", df)\r\n",
    "\r\n",
    "# Set index baru\r\n",
    "df.index = [\"Pesanan ke-\" + str(i) for i in range(1, 11)]\r\n",
    "# Cetak data frame dengan index baru\r\n",
    "print(\"Dataframe dengan index baru:\\n\", df)"
   ],
   "outputs": [],
   "metadata": {}
  },
  {
   "cell_type": "markdown",
   "source": [
    "# Tampilkan 8 isi kolom database"
   ],
   "metadata": {}
  },
  {
   "cell_type": "code",
   "execution_count": null,
   "source": [
    "import pandas as pd\r\n",
    "# Baca file sample_tsv.tsv dan set lah index_col sesuai instruksi\r\n",
    "df = pd.read_csv(\" https://storage.googleapis.com/dqlab-dataset/sample_tsv.tsv\", sep=\"\\t\", index_col=[\"order_date\"])\r\n",
    "# Cetak data frame untuk 8 data teratas\r\n",
    "print(\"Dataframe:\\n\", df.head(8))"
   ],
   "outputs": [],
   "metadata": {}
  }
 ],
 "metadata": {
  "orig_nbformat": 4,
  "language_info": {
   "name": "python",
   "version": "3.9.5",
   "mimetype": "text/x-python",
   "codemirror_mode": {
    "name": "ipython",
    "version": 3
   },
   "pygments_lexer": "ipython3",
   "nbconvert_exporter": "python",
   "file_extension": ".py"
  },
  "kernelspec": {
   "name": "python3",
   "display_name": "Python 3.9.5 64-bit"
  },
  "interpreter": {
   "hash": "2647ea34e536f865ab67ff9ddee7fd78773d956cec0cab53c79b32cd10da5d83"
  }
 },
 "nbformat": 4,
 "nbformat_minor": 2
}