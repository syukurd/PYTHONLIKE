{
 "cells": [
  {
   "cell_type": "code",
   "execution_count": null,
   "source": [
    "import pandas as pd\r\n",
    "# Series\r\n",
    "number_list = pd.Series([1,2,3,4,5,6])\r\n",
    "print(\"Series:\")\r\n",
    "print(number_list)\r\n",
    "# DataFrame\r\n",
    "matrix = [[1,2,3],\r\n",
    "          ['a','b','c'],\r\n",
    "          [3,4,5],\r\n",
    "          ['d',4,6]]\r\n",
    "matrix_list = pd.DataFrame(matrix)\r\n",
    "print(\"DataFrame:\")\r\n",
    "print(matrix_list)"
   ],
   "outputs": [],
   "metadata": {}
  },
  {
   "cell_type": "code",
   "execution_count": 4,
   "source": [
    "import pandas as pd\r\n",
    "# Series\r\n",
    "number_list = pd.Series([1,2,3,4,5,6])\r\n",
    "# DataFrame\r\n",
    "matrix_list = pd.DataFrame([[1,2,3],\r\n",
    "\t\t\t\t            ['a','b','c'],\r\n",
    "\t\t\t\t            [3,4,5],\r\n",
    "\t\t\t\t            ['d',4,6]])\r\n",
    "# [1] attribute .info()\r\n",
    "print(\"[1] attribute .info()\")\r\n",
    "print(matrix_list.info())\r\n",
    "# [2] attribute .shape\r\n",
    "print(\"\\n[2] attribute .shape\")\r\n",
    "print(\"    Shape dari number_list:\", number_list.shape)\r\n",
    "print(\"    Shape dari matrix_list:\", matrix_list.shape)\r\n",
    "# [3] attribute .dtypes\r\n",
    "print(\"\\n[3] attribute .dtypes\")\r\n",
    "print(\"    Tipe data number_list:\", number_list.dtypes)\r\n",
    "print(\"    Tipe data matrix_list:\", matrix_list.dtypes)\r\n",
    "# [4] attribute .astype()\r\n",
    "print(\"\\n[4] attribute .astype()\")\r\n",
    "print(\"    Konversi number_list ke str:\", number_list.astype(\"str\"))\r\n",
    "print(\"    Konversi matrix_list ke str:\", matrix_list.astype(\"str\"))"
   ],
   "outputs": [
    {
     "output_type": "stream",
     "name": "stdout",
     "text": [
      "[1] attribute .info()\n",
      "<class 'pandas.core.frame.DataFrame'>\n",
      "RangeIndex: 4 entries, 0 to 3\n",
      "Data columns (total 3 columns):\n",
      " #   Column  Non-Null Count  Dtype \n",
      "---  ------  --------------  ----- \n",
      " 0   0       4 non-null      object\n",
      " 1   1       4 non-null      object\n",
      " 2   2       4 non-null      object\n",
      "dtypes: object(3)\n",
      "memory usage: 224.0+ bytes\n",
      "None\n",
      "\n",
      "[2] attribute .shape\n",
      "    Shape dari number_list: (6,)\n",
      "    Shape dari matrix_list: (4, 3)\n",
      "\n",
      "[3] attribute .dtypes\n"
     ]
    },
    {
     "output_type": "error",
     "ename": "TypeError",
     "evalue": "'numpy.dtype[int64]' object is not callable",
     "traceback": [
      "\u001b[1;31m---------------------------------------------------------------------------\u001b[0m",
      "\u001b[1;31mTypeError\u001b[0m                                 Traceback (most recent call last)",
      "\u001b[1;32m~\\AppData\\Local\\Temp/ipykernel_17676/499733166.py\u001b[0m in \u001b[0;36m<module>\u001b[1;34m\u001b[0m\n\u001b[0;32m     16\u001b[0m \u001b[1;31m# [3] attribute .dtypes\u001b[0m\u001b[1;33m\u001b[0m\u001b[1;33m\u001b[0m\u001b[1;33m\u001b[0m\u001b[0m\n\u001b[0;32m     17\u001b[0m \u001b[0mprint\u001b[0m\u001b[1;33m(\u001b[0m\u001b[1;34m\"\\n[3] attribute .dtypes\"\u001b[0m\u001b[1;33m)\u001b[0m\u001b[1;33m\u001b[0m\u001b[1;33m\u001b[0m\u001b[0m\n\u001b[1;32m---> 18\u001b[1;33m \u001b[0mprint\u001b[0m\u001b[1;33m(\u001b[0m\u001b[1;34m\"    Tipe data number_list:\"\u001b[0m\u001b[1;33m,\u001b[0m \u001b[0mnumber_list\u001b[0m\u001b[1;33m.\u001b[0m\u001b[0mdtypes\u001b[0m\u001b[1;33m(\u001b[0m\u001b[1;33m)\u001b[0m\u001b[1;33m)\u001b[0m\u001b[1;33m\u001b[0m\u001b[1;33m\u001b[0m\u001b[0m\n\u001b[0m\u001b[0;32m     19\u001b[0m \u001b[0mprint\u001b[0m\u001b[1;33m(\u001b[0m\u001b[1;34m\"    Tipe data matrix_list:\"\u001b[0m\u001b[1;33m,\u001b[0m \u001b[0mmatrix_list\u001b[0m\u001b[1;33m.\u001b[0m\u001b[0mdtypes\u001b[0m\u001b[1;33m(\u001b[0m\u001b[1;33m)\u001b[0m\u001b[1;33m)\u001b[0m\u001b[1;33m\u001b[0m\u001b[1;33m\u001b[0m\u001b[0m\n\u001b[0;32m     20\u001b[0m \u001b[1;31m# [4] attribute .astype()\u001b[0m\u001b[1;33m\u001b[0m\u001b[1;33m\u001b[0m\u001b[1;33m\u001b[0m\u001b[0m\n",
      "\u001b[1;31mTypeError\u001b[0m: 'numpy.dtype[int64]' object is not callable"
     ]
    }
   ],
   "metadata": {}
  }
 ],
 "metadata": {
  "orig_nbformat": 4,
  "language_info": {
   "name": "python",
   "version": "3.9.5",
   "mimetype": "text/x-python",
   "codemirror_mode": {
    "name": "ipython",
    "version": 3
   },
   "pygments_lexer": "ipython3",
   "nbconvert_exporter": "python",
   "file_extension": ".py"
  },
  "kernelspec": {
   "name": "python3",
   "display_name": "Python 3.9.5 64-bit"
  },
  "interpreter": {
   "hash": "2647ea34e536f865ab67ff9ddee7fd78773d956cec0cab53c79b32cd10da5d83"
  }
 },
 "nbformat": 4,
 "nbformat_minor": 2
}