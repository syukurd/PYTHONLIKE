{
    "cells": [
        {
            "cell_type": "code",
            "execution_count": 3,
            "source": [
                "import pandas as pd\r\n",
                "import numpy as np\r\n",
                "import io\r\n",
                "# import pandas_profiling\r\n",
                "\r\n",
                "retail_raw = pd.read_csv('https://storage.googleapis.com/dqlab-dataset/retail_raw_reduced_data_quality.csv')\r\n",
                "# Kolom city\r\n",
                "length_city = len(retail_raw['city'])\r\n",
                "print('Length kolom city:', length_city)\r\n",
                "\r\n",
                "# Tugas Praktek: Kolom product_id\r\n",
                "length_product_id = len(retail_raw['product_id'])\r\n",
                "print('Length kolom product_id:', length_product_id)\r\n"
            ],
            "outputs": [
                {
                    "output_type": "stream",
                    "name": "stdout",
                    "text": [
                        "Length kolom city: 5000\n",
                        "Length kolom product_id: 5000\n"
                    ]
                }
            ],
            "metadata": {}
        }
    ],
    "metadata": {
        "orig_nbformat": 4,
        "language_info": {
            "name": "python",
            "version": "3.9.5",
            "mimetype": "text/x-python",
            "codemirror_mode": {
                "name": "ipython",
                "version": 3
            },
            "pygments_lexer": "ipython3",
            "nbconvert_exporter": "python",
            "file_extension": ".py"
        },
        "kernelspec": {
            "name": "python3",
            "display_name": "Python 3.9.5 64-bit"
        },
        "interpreter": {
            "hash": "2647ea34e536f865ab67ff9ddee7fd78773d956cec0cab53c79b32cd10da5d83"
        }
    },
    "nbformat": 4,
    "nbformat_minor": 2
}