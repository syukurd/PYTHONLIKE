{
    "cells": [
        {
            "cell_type": "code",
            "execution_count": 3,
            "source": [
                "import pandas as pd\r\n",
                "import numpy as np\r\n",
                "import io\r\n",
                "# import pandas_profiling\r\n",
                "\r\n",
                "retail_raw = pd.read_csv('https://storage.googleapis.com/dqlab-dataset/retail_raw_reduced_data_quality.csv')\r\n",
                "# Kolom city\r\n",
                "length_city = len(retail_raw['city'])\r\n",
                "print('Length kolom city:', length_city)\r\n",
                "\r\n",
                "# Tugas Praktek: Kolom product_id\r\n",
                "length_product_id = len(retail_raw['product_id'])\r\n",
                "print('Length kolom product_id:', length_product_id)\r\n",
                "\r\n"
            ],
            "outputs": [
                {
                    "output_type": "stream",
                    "name": "stdout",
                    "text": [
                        "Length kolom city: 5000\n",
                        "Length kolom product_id: 5000\n"
                    ]
                }
            ],
            "metadata": {}
        },
        {
            "cell_type": "markdown",
            "source": [
                "# Fungsi Count untuk menghitung jumlah value yang non-null"
            ],
            "metadata": {}
        },
        {
            "cell_type": "code",
            "execution_count": 4,
            "source": [
                "# Count kolom city\r\n",
                "count_city = retail_raw['city'].count()\r\n",
                "print('Count kolom count_city:',count_city)\r\n",
                "\r\n",
                "# Tugas praktek: count kolom product_id\r\n",
                "count_product_id = retail_raw['product_id'].count()\r\n",
                "print('Count kolom count_product_id:', count_product_id)"
            ],
            "outputs": [
                {
                    "output_type": "stream",
                    "name": "stdout",
                    "text": [
                        "Count kolom count_city: 4984\n",
                        "Count kolom count_product_id: 4989\n"
                    ]
                }
            ],
            "metadata": {}
        },
        {
            "cell_type": "markdown",
            "source": [
                "# Melakukan missing value"
            ],
            "metadata": {}
        },
        {
            "cell_type": "code",
            "execution_count": 6,
            "source": [
                "# Missing value pada kolom city\r\n",
                "number_of_missing_values_city = length_city - count_city\r\n",
                "float_of_missing_values_city = float(number_of_missing_values_city/length_city)\r\n",
                "pct_of_missing_values_city = '{0:.1f}%'.format(float_of_missing_values_city * 100)\r\n",
                "print('Persentase missing value kolom city:', pct_of_missing_values_city)\r\n",
                "\r\n",
                "# Tugas praktek: Missing value pada kolom product_id\r\n",
                "number_of_missing_values_product_id = length_product_id - count_product_id\r\n",
                "float_of_missing_values_product_id = float(number_of_missing_values_product_id/length_product_id)\r\n",
                "pct_of_missing_values_product_id = '{0:.1f}%'.format(float_of_missing_values_product_id * 100)\r\n",
                "print('Persentase missing value kolom product_id:', pct_of_missing_values_product_id)"
            ],
            "outputs": [
                {
                    "output_type": "stream",
                    "name": "stdout",
                    "text": [
                        "Persentase missing value kolom city: 0.3%\n",
                        "Persentase missing value kolom product_id: 0.2%\n"
                    ]
                }
            ],
            "metadata": {}
        },
        {
            "cell_type": "markdown",
            "source": [
                "# Fungsi fungsi yang digunakan mean,median,modus,standar deviasi,max,min"
            ],
            "metadata": {}
        },
        {
            "cell_type": "code",
            "execution_count": 7,
            "source": [
                "# Deskriptif statistics kolom quantity\r\n",
                "print('Kolom quantity')\r\n",
                "print('Minimum value: ', retail_raw['quantity'].min())\r\n",
                "print('Maximum value: ',retail_raw['quantity'].max())\r\n",
                "print('Mean value: ', retail_raw['quantity'].mean())\r\n",
                "print('Mode value: ', retail_raw['quantity'].mode())\r\n",
                "print('Median value: ',retail_raw['quantity'].median())\r\n",
                "print('Standard Deviation value: ', retail_raw['quantity'].std())\r\n",
                "\r\n",
                "# Tugas praktek: Deskriptif statistics kolom item_price\r\n",
                "print('')\r\n",
                "print('Kolom item_price')\r\n",
                "print('Minimum value: ', retail_raw['item_price'].min())\r\n",
                "print('Maximum value: ', retail_raw['item_price'].max())\r\n",
                "print('Mean value: ', retail_raw['item_price'].mean())\r\n",
                "print('Median value: ', retail_raw['item_price'].median())\r\n",
                "print('Standard Deviation value: ', retail_raw['item_price'].std())"
            ],
            "outputs": [
                {
                    "output_type": "stream",
                    "name": "stdout",
                    "text": [
                        "Kolom quantity\n",
                        "Minimum value:  1.0\n",
                        "Maximum value:  720.0\n",
                        "Mean value:  11.423987164059366\n",
                        "Mode value:  0    1.0\n",
                        "dtype: float64\n",
                        "Median value:  5.0\n",
                        "Standard Deviation value:  29.44202501081146\n",
                        "\n",
                        "Kolom item_price\n",
                        "Minimum value:  26000.0\n",
                        "Maximum value:  29762000.0\n",
                        "Mean value:  933742.7311008623\n",
                        "Median value:  604000.0\n",
                        "Standard Deviation value:  1030829.8104242847\n"
                    ]
                }
            ],
            "metadata": {}
        },
        {
            "cell_type": "markdown",
            "source": [
                "# Cari Quartile"
            ],
            "metadata": {}
        },
        {
            "cell_type": "code",
            "execution_count": 8,
            "source": [
                "# Quantile statistics kolom quantity\r\n",
                "print('Kolom quantity:')\r\n",
                "print(retail_raw['quantity'].quantile([0.25, 0.5, 0.75]))\r\n",
                "\r\n",
                "# Tugas praktek: Quantile statistics kolom item_price\r\n",
                "print('')\r\n",
                "print('Kolom item_price:')\r\n",
                "print(retail_raw['item_price'].quantile([0.25, 0.5, 0.75]))"
            ],
            "outputs": [
                {
                    "output_type": "stream",
                    "name": "stdout",
                    "text": [
                        "Kolom quantity:\n",
                        "0.25     2.0\n",
                        "0.50     5.0\n",
                        "0.75    12.0\n",
                        "Name: quantity, dtype: float64\n",
                        "\n",
                        "Kolom item_price:\n",
                        "0.25     450000.0\n",
                        "0.50     604000.0\n",
                        "0.75    1045000.0\n",
                        "Name: item_price, dtype: float64\n"
                    ]
                }
            ],
            "metadata": {}
        },
        {
            "cell_type": "markdown",
            "source": [
                "# Korelasi"
            ],
            "metadata": {}
        },
        {
            "cell_type": "code",
            "execution_count": null,
            "source": [
                "print('Korelasi quantity dengan item_price')\r\n",
                "print(retail_raw[['quantity', 'item_price']].corr())"
            ],
            "outputs": [],
            "metadata": {}
        }
    ],
    "metadata": {
        "orig_nbformat": 4,
        "language_info": {
            "name": "python",
            "version": "3.9.5",
            "mimetype": "text/x-python",
            "codemirror_mode": {
                "name": "ipython",
                "version": 3
            },
            "pygments_lexer": "ipython3",
            "nbconvert_exporter": "python",
            "file_extension": ".py"
        },
        "kernelspec": {
            "name": "python3",
            "display_name": "Python 3.9.5 64-bit"
        },
        "interpreter": {
            "hash": "2647ea34e536f865ab67ff9ddee7fd78773d956cec0cab53c79b32cd10da5d83"
        }
    },
    "nbformat": 4,
    "nbformat_minor": 2
}