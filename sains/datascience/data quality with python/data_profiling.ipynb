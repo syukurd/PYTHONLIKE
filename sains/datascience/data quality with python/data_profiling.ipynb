{
    "cells": [
        {
            "cell_type": "code",
            "execution_count": null,
            "source": [
                "import pandas as pd\r\n",
                "import numpy as np\r\n",
                "import io\r\n",
                "# import pandas_profiling\r\n",
                "\r\n",
                "retail_raw = pd.read_csv('https://storage.googleapis.com/dqlab-dataset/retail_raw_reduced_data_quality.csv')\r\n",
                "# Kolom city\r\n",
                "length_city = len(retail_raw['city'])\r\n",
                "print('Length kolom city:', length_city)\r\n",
                "\r\n",
                "# Tugas Praktek: Kolom product_id\r\n",
                "length_product_id = len(retail_raw['product_id'])\r\n",
                "print('Length kolom product_id:', length_product_id)\r\n",
                "\r\n"
            ],
            "outputs": [],
            "metadata": {}
        },
        {
            "cell_type": "markdown",
            "source": [
                "# Fungsi Count untuk menghitung jumlah value yang non-null"
            ],
            "metadata": {}
        },
        {
            "cell_type": "code",
            "execution_count": null,
            "source": [
                "# Count kolom city\r\n",
                "count_city = retail_raw['city'].count()\r\n",
                "print('Count kolom count_city:',count_city)\r\n",
                "\r\n",
                "# Tugas praktek: count kolom product_id\r\n",
                "count_product_id = retail_raw['product_id'].count()\r\n",
                "print('Count kolom count_product_id:', count_product_id)"
            ],
            "outputs": [],
            "metadata": {}
        },
        {
            "cell_type": "markdown",
            "source": [
                "# Melakukan missing value"
            ],
            "metadata": {}
        },
        {
            "cell_type": "code",
            "execution_count": null,
            "source": [
                "# Missing value pada kolom city\r\n",
                "number_of_missing_values_city = length_city - count_city\r\n",
                "float_of_missing_values_city = float(number_of_missing_values_city/length_city)\r\n",
                "pct_of_missing_values_city = '{0:.1f}%'.format(float_of_missing_values_city * 100)\r\n",
                "print('Persentase missing value kolom city:', pct_of_missing_values_city)\r\n",
                "\r\n",
                "# Tugas praktek: Missing value pada kolom product_id\r\n",
                "number_of_missing_values_product_id = length_product_id - count_product_id\r\n",
                "float_of_missing_values_product_id = float(number_of_missing_values_product_id/length_product_id)\r\n",
                "pct_of_missing_values_product_id = '{0:.1f}%'.format(float_of_missing_values_product_id * 100)\r\n",
                "print('Persentase missing value kolom product_id:', pct_of_missing_values_product_id)"
            ],
            "outputs": [],
            "metadata": {}
        },
        {
            "cell_type": "markdown",
            "source": [
                "# Fungsi fungsi yang digunakan mean,median,modus,standar deviasi,max,min"
            ],
            "metadata": {}
        },
        {
            "cell_type": "code",
            "execution_count": null,
            "source": [
                "# Deskriptif statistics kolom quantity\r\n",
                "print('Kolom quantity')\r\n",
                "print('Minimum value: ', retail_raw['quantity'].min())\r\n",
                "print('Maximum value: ',retail_raw['quantity'].max())\r\n",
                "print('Mean value: ', retail_raw['quantity'].mean())\r\n",
                "print('Mode value: ', retail_raw['quantity'].mode())\r\n",
                "print('Median value: ',retail_raw['quantity'].median())\r\n",
                "print('Standard Deviation value: ', retail_raw['quantity'].std())\r\n",
                "\r\n",
                "# Tugas praktek: Deskriptif statistics kolom item_price\r\n",
                "print('')\r\n",
                "print('Kolom item_price')\r\n",
                "print('Minimum value: ', retail_raw['item_price'].min())\r\n",
                "print('Maximum value: ', retail_raw['item_price'].max())\r\n",
                "print('Mean value: ', retail_raw['item_price'].mean())\r\n",
                "print('Median value: ', retail_raw['item_price'].median())\r\n",
                "print('Standard Deviation value: ', retail_raw['item_price'].std())"
            ],
            "outputs": [],
            "metadata": {}
        },
        {
            "cell_type": "markdown",
            "source": [
                "# Cari Quartile"
            ],
            "metadata": {}
        },
        {
            "cell_type": "code",
            "execution_count": null,
            "source": [
                "# Quantile statistics kolom quantity\r\n",
                "print('Kolom quantity:')\r\n",
                "print(retail_raw['quantity'].quantile([0.25, 0.5, 0.75]))\r\n",
                "\r\n",
                "# Tugas praktek: Quantile statistics kolom item_price\r\n",
                "print('')\r\n",
                "print('Kolom item_price:')\r\n",
                "print(retail_raw['item_price'].quantile([0.25, 0.5, 0.75]))"
            ],
            "outputs": [],
            "metadata": {}
        },
        {
            "cell_type": "markdown",
            "source": [
                "# Korelasi"
            ],
            "metadata": {}
        },
        {
            "cell_type": "code",
            "execution_count": null,
            "source": [
                "print('Korelasi quantity dengan item_price')\r\n",
                "print(retail_raw[['quantity', 'item_price']].corr())"
            ],
            "outputs": [],
            "metadata": {}
        },
        {
            "cell_type": "markdown",
            "source": [
                "# Menggunakan pandas_profiling, pandas_profiling adalah mewakili dari keseluruhan kode statistika yang sudah dipelajari"
            ],
            "metadata": {}
        },
        {
            "cell_type": "code",
            "execution_count": 11,
            "source": [
                "#gak berhasil karna pandas_profilling belum terinstall\r\n",
                "# pandas_profiling.ProfileReport(retail_raw)"
            ],
            "outputs": [
                {
                    "output_type": "error",
                    "ename": "NameError",
                    "evalue": "name 'pandas_profiling' is not defined",
                    "traceback": [
                        "\u001b[1;31m---------------------------------------------------------------------------\u001b[0m",
                        "\u001b[1;31mNameError\u001b[0m                                 Traceback (most recent call last)",
                        "\u001b[1;32m~\\AppData\\Local\\Temp/ipykernel_11096/1161521992.py\u001b[0m in \u001b[0;36m<module>\u001b[1;34m\u001b[0m\n\u001b[1;32m----> 1\u001b[1;33m \u001b[0mpandas_profiling\u001b[0m\u001b[1;33m.\u001b[0m\u001b[0mProfileReport\u001b[0m\u001b[1;33m(\u001b[0m\u001b[0mretail_raw\u001b[0m\u001b[1;33m)\u001b[0m\u001b[1;33m\u001b[0m\u001b[1;33m\u001b[0m\u001b[0m\n\u001b[0m",
                        "\u001b[1;31mNameError\u001b[0m: name 'pandas_profiling' is not defined"
                    ]
                }
            ],
            "metadata": {}
        },
        {
            "cell_type": "code",
            "execution_count": null,
            "source": [],
            "outputs": [],
            "metadata": {}
        },
        {
            "cell_type": "markdown",
            "source": [
                "# Sunday -> dqlab maintanance dan network lagi ga bersahabat"
            ],
            "metadata": {}
        },
        {
            "cell_type": "code",
            "execution_count": 1,
            "source": [
                "# import pandas_profiling\r\n",
                "# minggu 25 juli menenangkan pikiran, refreshing, pijat, jadi senin besok harus semangat beljarnya ingat 2 modul harus siap besok\r\n"
            ],
            "outputs": [],
            "metadata": {}
        }
    ],
    "metadata": {
        "orig_nbformat": 4,
        "language_info": {
            "name": "python",
            "version": "3.9.5",
            "mimetype": "text/x-python",
            "codemirror_mode": {
                "name": "ipython",
                "version": 3
            },
            "pygments_lexer": "ipython3",
            "nbconvert_exporter": "python",
            "file_extension": ".py"
        },
        "kernelspec": {
            "name": "python3",
            "display_name": "Python 3.9.5 64-bit"
        },
        "interpreter": {
            "hash": "2647ea34e536f865ab67ff9ddee7fd78773d956cec0cab53c79b32cd10da5d83"
        }
    },
    "nbformat": 4,
    "nbformat_minor": 2
}