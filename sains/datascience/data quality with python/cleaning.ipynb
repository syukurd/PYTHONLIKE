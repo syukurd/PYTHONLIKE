{
 "cells": [
  {
   "cell_type": "code",
   "execution_count": null,
   "source": [
    "import pandas as pd\r\n",
    "import numpy as np\r\n",
    "import io\r\n",
    "# import pandas_profiling\r\n",
    "\r\n",
    "retail_raw = pd.read_csv('https://storage.googleapis.com/dqlab-dataset/retail_raw_reduced_data_quality.csv')\r\n",
    "# Kolom city\r\n",
    "length_city = len(retail_raw['city'])\r\n",
    "print('Length kolom city:', length_city)\r\n",
    "\r\n",
    "# Tugas Praktek: Kolom product_id\r\n",
    "length_product_id = len(retail_raw['product_id'])\r\n",
    "print('Length kolom product_id:', length_product_id)"
   ],
   "outputs": [],
   "metadata": {}
  },
  {
   "cell_type": "markdown",
   "source": [
    "# Cleaning Data"
   ],
   "metadata": {}
  },
  {
   "cell_type": "code",
   "execution_count": null,
   "source": [
    "# Check kolom yang memiliki missing data\r\n",
    "print('Check kolom yang memiliki missing data:')\r\n",
    "print(retail_raw.isnull().any())\r\n",
    "\r\n",
    "# Filling the missing value (imputasi)\r\n",
    "print('\\nFilling the missing value (imputasi):')\r\n",
    "print(retail_raw['quantity'].fillna(retail_raw.quantity.mean()))\r\n",
    "\r\n",
    "# Drop missing value\r\n",
    "print('\\nDrop missing value:')\r\n",
    "print(retail_raw['quantity'].dropna())"
   ],
   "outputs": [],
   "metadata": {}
  },
  {
   "cell_type": "code",
   "execution_count": null,
   "source": [
    "print(retail_raw['item_price'].fillna(retail_raw['item_price'].mean()))"
   ],
   "outputs": [],
   "metadata": {}
  },
  {
   "cell_type": "code",
   "execution_count": null,
   "source": [],
   "outputs": [],
   "metadata": {}
  },
  {
   "cell_type": "markdown",
   "source": [
    "# Data Cleansing menggunakan quantile ingat : IQR (Interquartile range)\r\n"
   ],
   "metadata": {}
  },
  {
   "cell_type": "code",
   "execution_count": null,
   "source": [
    "Q1 = retail_raw['quantity'].quantile(0.25)\r\n",
    "Q3 = retail_raw['quantity'].quantile(0.75)\r\n",
    "IQR = Q3 -Q1\r\n",
    "\r\n",
    "# Check ukuran (baris dan kolom) sebelum data yang outliers dibuang\r\n",
    "print('Shape awal : ', retail_raw.shape)\r\n",
    "\r\n",
    "# Removing outliers\r\n",
    "retail_raw = retail_raw[~((retail_raw['quantity'] < (Q1 - 1.5 *  IQR)) | (retail_raw['quantity'] > (Q3 + 1.5 * IQR)))]\r\n",
    "\r\n",
    "# print shape setelah dilakukan removing outliers\r\n",
    "print('Shape akhir : ', retail_raw.shape)"
   ],
   "outputs": [],
   "metadata": {}
  },
  {
   "cell_type": "markdown",
   "source": [
    "## Tugas Praktek"
   ],
   "metadata": {}
  },
  {
   "cell_type": "code",
   "execution_count": null,
   "source": [
    "# Q1, Q3, dan IQR\r\n",
    "Q1 = retail_raw['quantity'].quantile(0.25)\r\n",
    "Q3 = retail_raw['quantity'].quantile(0.75)\r\n",
    "IQR = Q3 - Q1\r\n",
    "\r\n",
    "# Check ukuran (baris dan kolom) sebelum data yang outliers dibuang\r\n",
    "print('Shape awal: ', retail_raw.shape)\r\n",
    "\r\n",
    "# Removing outliers\r\n",
    "retail_raw = retail_raw[~((retail_raw['quantity'] < (Q1 - 1.5 * IQR)) | (retail_raw['quantity'] > (Q3 + 1.5 * IQR)))]\r\n",
    "\r\n",
    "\r\n",
    "# Check ukuran (baris dan kolom) setelah data yang outliers dibuang\r\n",
    "print('Shape akhir: ', retail_raw.shape)"
   ],
   "outputs": [],
   "metadata": {}
  },
  {
   "cell_type": "markdown",
   "source": [
    "Duplikasi data merupakan data dengan kondisi pada row-row tertentu memiliki kesamaan data di seluruh kolomnya. Tentunya ada data yang duplikat dalam dataset yang dimiliki. Kondisi duplikasi harus diatasi dengan jalan mengeliminir baris yang mengalami duplikasi, sehingga proses ini dikenal dengan deduplikasi.\r\n",
    "\r\n",
    "Untuk mencek duplikasi data:\r\n",
    "nama_dataframe.duplicate(subset=None)\r\n",
    "\r\n",
    "\r\n",
    "Syntax untuk membuang duplikasi:\r\n",
    "nama_dataframe.drop_duplicate()\r\n"
   ],
   "metadata": {}
  },
  {
   "cell_type": "code",
   "execution_count": null,
   "source": [
    "retail_raw.duplicated(subset=None)\r\n",
    "retail_raw.drop_duplicates(inplace=True)"
   ],
   "outputs": [],
   "metadata": {}
  },
  {
   "cell_type": "markdown",
   "source": [
    "# CASE STUDY DATA PROFILLING"
   ],
   "metadata": {}
  },
  {
   "cell_type": "code",
   "execution_count": null,
   "source": [
    "# Baca dataset uncleaned_raw.csv\r\n",
    "uncleaned_raw = pd.read_csv('https://storage.googleapis.com/dqlab-dataset/uncleaned_raw.csv')\r\n",
    "\r\n",
    "#inspeksi dataframe uncleaned_raw\r\n",
    "print('Lima data teratas:') \r\n",
    "print(uncleaned_raw.head())\r\n",
    "\r\n",
    "#Check kolom yang mengandung missing value\r\n",
    "print('\\nKolom dengan missing value:') \r\n",
    "print(uncleaned_raw.isnull().any())\r\n",
    "\r\n",
    "#Persentase missing value\r\n",
    "length_qty = len(uncleaned_raw['Quantity'])\r\n",
    "count_qty = uncleaned_raw['Quantity'].count()\r\n",
    "\r\n",
    "#mengurangi length dengan count\r\n",
    "number_of_missing_values_qty = length_qty - count_qty\r\n",
    "\r\n",
    "#mengubah ke bentuk float\r\n",
    "float_of_missing_values_qty = float(number_of_missing_values_qty / length_qty) \r\n",
    "\r\n",
    "#mengubah ke dalam bentuk persen\r\n",
    "pct_of_missing_values_qty = '{0:.1f}%'.format(float_of_missing_values_qty*100) \r\n",
    "\r\n",
    "#print hasil percent dari missing value\r\n",
    "print('Persentase missing value kolom Quantity:', pct_of_missing_values_qty)\r\n",
    "\r\n",
    "#Mengisi missing value tersebut dengan mean dari kolom tersebut\r\n",
    "uncleaned_raw['Quantity'] = uncleaned_raw['Quantity'].fillna(uncleaned_raw['Quantity'].mean())\r\n"
   ],
   "outputs": [],
   "metadata": {}
  },
  {
   "cell_type": "code",
   "execution_count": 14,
   "source": [
    "import matplotlib.pyplot as plt\r\n",
    "\r\n",
    "#Mengetahui kolom yang memiliki outliers!\r\n",
    "uncleaned_raw.boxplot()\r\n",
    "plt.show()"
   ],
   "outputs": [
    {
     "output_type": "display_data",
     "data": {
      "text/plain": [
       "<Figure size 432x288 with 1 Axes>"
      ],
      "image/png": "[encoded data removed]"
     },
     "metadata": {
      "needs_background": "light"
     }
    }
   ],
   "metadata": {}
  }
 ],
 "metadata": {
  "orig_nbformat": 4,
  "language_info": {
   "name": "python",
   "version": "3.9.5",
   "mimetype": "text/x-python",
   "codemirror_mode": {
    "name": "ipython",
    "version": 3
   },
   "pygments_lexer": "ipython3",
   "nbconvert_exporter": "python",
   "file_extension": ".py"
  },
  "kernelspec": {
   "name": "python3",
   "display_name": "Python 3.9.5 64-bit"
  },
  "interpreter": {
   "hash": "2647ea34e536f865ab67ff9ddee7fd78773d956cec0cab53c79b32cd10da5d83"
  }
 },
 "nbformat": 4,
 "nbformat_minor": 2
}