{
 "cells": [
  {
   "cell_type": "code",
   "execution_count": 37,
   "source": [
    "import pandas as pd\r\n",
    "import numpy as np\r\n",
    "import io\r\n",
    "# import pandas_profiling\r\n",
    "\r\n",
    "retail_raw = pd.read_csv('https://storage.googleapis.com/dqlab-dataset/retail_raw_reduced_data_quality.csv')\r\n",
    "# Kolom city\r\n",
    "length_city = len(retail_raw['city'])\r\n",
    "print('Length kolom city:', length_city)\r\n",
    "\r\n",
    "# Tugas Praktek: Kolom product_id\r\n",
    "length_product_id = len(retail_raw['product_id'])\r\n",
    "print('Length kolom product_id:', length_product_id)"
   ],
   "outputs": [
    {
     "output_type": "stream",
     "name": "stdout",
     "text": [
      "Length kolom city: 5000\n",
      "Length kolom product_id: 5000\n"
     ]
    }
   ],
   "metadata": {}
  },
  {
   "cell_type": "markdown",
   "source": [
    "# Cleaning Data"
   ],
   "metadata": {}
  },
  {
   "cell_type": "code",
   "execution_count": 38,
   "source": [
    "# Check kolom yang memiliki missing data\r\n",
    "print('Check kolom yang memiliki missing data:')\r\n",
    "print(retail_raw.isnull().any())\r\n",
    "\r\n",
    "# Filling the missing value (imputasi)\r\n",
    "print('\\nFilling the missing value (imputasi):')\r\n",
    "print(retail_raw['quantity'].fillna(retail_raw.quantity.mean()))\r\n",
    "\r\n",
    "# Drop missing value\r\n",
    "print('\\nDrop missing value:')\r\n",
    "print(retail_raw['quantity'].dropna())"
   ],
   "outputs": [
    {
     "output_type": "stream",
     "name": "stdout",
     "text": [
      "Check kolom yang memiliki missing data:\n",
      "order_id       False\n",
      "order_date     False\n",
      "customer_id    False\n",
      "city            True\n",
      "province        True\n",
      "product_id      True\n",
      "brand          False\n",
      "quantity        True\n",
      "item_price      True\n",
      "dtype: bool\n",
      "\n",
      "Filling the missing value (imputasi):\n",
      "0       10.0\n",
      "1        2.0\n",
      "2        8.0\n",
      "3        4.0\n",
      "4        2.0\n",
      "        ... \n",
      "4995     2.0\n",
      "4996     3.0\n",
      "4997     4.0\n",
      "4998     8.0\n",
      "4999     1.0\n",
      "Name: quantity, Length: 5000, dtype: float64\n",
      "\n",
      "Drop missing value:\n",
      "0       10.0\n",
      "1        2.0\n",
      "2        8.0\n",
      "3        4.0\n",
      "4        2.0\n",
      "        ... \n",
      "4995     2.0\n",
      "4996     3.0\n",
      "4997     4.0\n",
      "4998     8.0\n",
      "4999     1.0\n",
      "Name: quantity, Length: 4986, dtype: float64\n"
     ]
    }
   ],
   "metadata": {}
  },
  {
   "cell_type": "code",
   "execution_count": 39,
   "source": [
    "print(retail_raw['item_price'].fillna(retail_raw['item_price'].mean()))"
   ],
   "outputs": [
    {
     "output_type": "stream",
     "name": "stdout",
     "text": [
      "0       7.400000e+05\n",
      "1       6.040000e+05\n",
      "2       1.045000e+06\n",
      "3       2.050000e+05\n",
      "4       9.337427e+05\n",
      "            ...     \n",
      "4995    4.500000e+05\n",
      "4996    1.465000e+06\n",
      "4997    7.470000e+05\n",
      "4998    6.950000e+05\n",
      "4999    1.045000e+06\n",
      "Name: item_price, Length: 5000, dtype: float64\n"
     ]
    }
   ],
   "metadata": {}
  },
  {
   "cell_type": "code",
   "execution_count": null,
   "source": [],
   "outputs": [],
   "metadata": {}
  },
  {
   "cell_type": "markdown",
   "source": [
    "# Data Cleansing menggunakan quantile ingat : IQR (Interquartile range)\r\n"
   ],
   "metadata": {}
  },
  {
   "cell_type": "code",
   "execution_count": 40,
   "source": [
    "Q1 = retail_raw['quantity'].quantile(0.25)\r\n",
    "Q3 = retail_raw['quantity'].quantile(0.75)\r\n",
    "IQR = Q3 -Q1\r\n",
    "\r\n",
    "# Check ukuran (baris dan kolom) sebelum data yang outliers dibuang\r\n",
    "print('Shape awal : ', retail_raw.shape)\r\n",
    "\r\n",
    "# Removing outliers\r\n",
    "retail_raw = retail_raw[~((retail_raw['quantity'] < (Q1 - 1.5 *  IQR)) | (retail_raw['quantity'] > (Q3 + 1.5 * IQR)))]\r\n",
    "\r\n",
    "# print shape setelah dilakukan removing outliers\r\n",
    "print('Shape akhir : ', retail_raw.shape)"
   ],
   "outputs": [
    {
     "output_type": "stream",
     "name": "stdout",
     "text": [
      "Shape awal :  (5000, 9)\n",
      "Shape akhir :  (4699, 9)\n"
     ]
    }
   ],
   "metadata": {}
  },
  {
   "cell_type": "markdown",
   "source": [
    "## Tugas Praktek"
   ],
   "metadata": {}
  },
  {
   "cell_type": "code",
   "execution_count": 41,
   "source": [
    "# Q1, Q3, dan IQR\r\n",
    "Q1 = retail_raw['quantity'].quantile(0.25)\r\n",
    "Q3 = retail_raw['quantity'].quantile(0.75)\r\n",
    "IQR = Q3 - Q1\r\n",
    "\r\n",
    "# Check ukuran (baris dan kolom) sebelum data yang outliers dibuang\r\n",
    "print('Shape awal: ', retail_raw.shape)\r\n",
    "\r\n",
    "# Removing outliers\r\n",
    "retail_raw = retail_raw[~((retail_raw['quantity'] < (Q1 - 1.5 * IQR)) | (retail_raw['quantity'] > (Q3 + 1.5 * IQR)))]\r\n",
    "\r\n",
    "\r\n",
    "# Check ukuran (baris dan kolom) setelah data yang outliers dibuang\r\n",
    "print('Shape akhir: ', retail_raw.shape)"
   ],
   "outputs": [
    {
     "output_type": "stream",
     "name": "stdout",
     "text": [
      "Shape awal:  (4699, 9)\n",
      "Shape akhir:  (4621, 9)\n"
     ]
    }
   ],
   "metadata": {}
  },
  {
   "cell_type": "markdown",
   "source": [
    "Duplikasi data merupakan data dengan kondisi pada row-row tertentu memiliki kesamaan data di seluruh kolomnya. Tentunya ada data yang duplikat dalam dataset yang dimiliki. Kondisi duplikasi harus diatasi dengan jalan mengeliminir baris yang mengalami duplikasi, sehingga proses ini dikenal dengan deduplikasi.\r\n",
    "\r\n",
    "Untuk mencek duplikasi data:\r\n",
    "nama_dataframe.duplicate(subset=None)\r\n",
    "\r\n",
    "\r\n",
    "Syntax untuk membuang duplikasi:\r\n",
    "nama_dataframe.drop_duplicate()\r\n"
   ],
   "metadata": {}
  },
  {
   "cell_type": "code",
   "execution_count": 42,
   "source": [
    "retail_raw.duplicated(subset=None)\r\n",
    "retail_raw.drop_duplicates(inplace=True)"
   ],
   "outputs": [],
   "metadata": {}
  },
  {
   "cell_type": "markdown",
   "source": [
    "# CASE STUDY DATA PROFILLING"
   ],
   "metadata": {}
  },
  {
   "cell_type": "code",
   "execution_count": 43,
   "source": [
    "# Baca dataset uncleaned_raw.csv\r\n",
    "uncleaned_raw = pd.read_csv('https://storage.googleapis.com/dqlab-dataset/uncleaned_raw.csv')\r\n",
    "\r\n",
    "#inspeksi dataframe uncleaned_raw\r\n",
    "print('Lima data teratas:') \r\n",
    "print(uncleaned_raw.head())\r\n",
    "\r\n",
    "#Check kolom yang mengandung missing value\r\n",
    "print('\\nKolom dengan missing value:') \r\n",
    "print(uncleaned_raw.isnull().any())\r\n",
    "\r\n",
    "#Persentase missing value\r\n",
    "length_qty = len(uncleaned_raw['Quantity'])\r\n",
    "count_qty = uncleaned_raw['Quantity'].count()\r\n",
    "\r\n",
    "#mengurangi length dengan count\r\n",
    "number_of_missing_values_qty = length_qty - count_qty\r\n",
    "\r\n",
    "#mengubah ke bentuk float\r\n",
    "float_of_missing_values_qty = float(number_of_missing_values_qty / length_qty) \r\n",
    "\r\n",
    "#mengubah ke dalam bentuk persen\r\n",
    "pct_of_missing_values_qty = '{0:.1f}%'.format(float_of_missing_values_qty*100) \r\n",
    "\r\n",
    "#print hasil percent dari missing value\r\n",
    "print('Persentase missing value kolom Quantity:', pct_of_missing_values_qty)\r\n",
    "\r\n",
    "#Mengisi missing value tersebut dengan mean dari kolom tersebut\r\n",
    "uncleaned_raw['Quantity'] = uncleaned_raw['Quantity'].fillna(uncleaned_raw['Quantity'].mean())\r\n"
   ],
   "outputs": [
    {
     "output_type": "stream",
     "name": "stdout",
     "text": [
      "Lima data teratas:\n",
      "   InvoiceNo                          Description  Quantity     InvoiceDate  \\\n",
      "0     536365   WHITE HANGING HEART T-LIGHT HOLDER       6.0  12/01/10 08.26   \n",
      "1     536366                  WHITE METAL LANTERN       6.0  12/01/10 08.26   \n",
      "2     536367       CREAM CUPID HEARTS COAT HANGER       8.0  12/01/10 08.26   \n",
      "3     536368  KNITTED UNION FLAG HOT WATER BOTTLE       6.0  12/01/10 08.26   \n",
      "4     536369       RED WOOLLY HOTTIE WHITE HEART.       6.0  12/01/10 08.26   \n",
      "\n",
      "   UnitPrice  CustomerID      City  \n",
      "0      29000       17850  Surabaya  \n",
      "1      41000       17850  Surabaya  \n",
      "2      18000       17850  Surabaya  \n",
      "3      38000       17850   Jakarta  \n",
      "4      27000       17850     Medan  \n",
      "\n",
      "Kolom dengan missing value:\n",
      "InvoiceNo      False\n",
      "Description    False\n",
      "Quantity        True\n",
      "InvoiceDate    False\n",
      "UnitPrice      False\n",
      "CustomerID     False\n",
      "City           False\n",
      "dtype: bool\n",
      "Persentase missing value kolom Quantity: 4.0%\n"
     ]
    }
   ],
   "metadata": {}
  },
  {
   "cell_type": "code",
   "execution_count": 44,
   "source": [
    "import matplotlib.pyplot as plt\r\n",
    "\r\n",
    "#Mengetahui kolom yang memiliki outliers!\r\n",
    "uncleaned_raw.boxplot()\r\n",
    "plt.show()"
   ],
   "outputs": [
    {
     "output_type": "display_data",
     "data": {
      "text/plain": [
       "<Figure size 432x288 with 1 Axes>"
      ],
      "image/png": "[encoded data removed]"
     },
     "metadata": {
      "needs_background": "light"
     }
    }
   ],
   "metadata": {}
  },
  {
   "cell_type": "markdown",
   "source": [
    "## Melakukan removing ouliers dan remove duplicates pada studi case"
   ],
   "metadata": {}
  },
  {
   "cell_type": "code",
   "execution_count": 45,
   "source": [
    "#Check IQR\r\n",
    "Q1 = uncleaned_raw['UnitPrice'].quantile(0.25)\r\n",
    "Q3 = uncleaned_raw['UnitPrice'].quantile(0.75)\r\n",
    "IQR = Q3 - Q1\r\n",
    "\r\n",
    "#removing outliers\r\n",
    "uncleaned_raw = uncleaned_raw[~((uncleaned_raw[['UnitPrice']] < (Q1 - 1.5 * IQR)) | (uncleaned_raw[['UnitPrice']] > (Q3 + 1.5 * IQR)))]\r\n",
    "\r\n",
    "#check for duplication\r\n",
    "print(uncleaned_raw.duplicated(subset=None))\r\n",
    "\r\n",
    "#remove duplication\r\n",
    "uncleaned_raw = uncleaned_raw.drop_duplicates()"
   ],
   "outputs": [
    {
     "output_type": "stream",
     "name": "stdout",
     "text": [
      "0      False\n",
      "1      False\n",
      "2      False\n",
      "3      False\n",
      "4      False\n",
      "       ...  \n",
      "500     True\n",
      "501     True\n",
      "502     True\n",
      "503     True\n",
      "504     True\n",
      "Length: 505, dtype: bool\n"
     ]
    }
   ],
   "metadata": {}
  }
 ],
 "metadata": {
  "orig_nbformat": 4,
  "language_info": {
   "name": "python",
   "version": "3.9.5",
   "mimetype": "text/x-python",
   "codemirror_mode": {
    "name": "ipython",
    "version": 3
   },
   "pygments_lexer": "ipython3",
   "nbconvert_exporter": "python",
   "file_extension": ".py"
  },
  "kernelspec": {
   "name": "python3",
   "display_name": "Python 3.9.5 64-bit"
  },
  "interpreter": {
   "hash": "2647ea34e536f865ab67ff9ddee7fd78773d956cec0cab53c79b32cd10da5d83"
  }
 },
 "nbformat": 4,
 "nbformat_minor": 2
}