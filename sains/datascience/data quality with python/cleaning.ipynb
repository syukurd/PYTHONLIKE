{
 "cells": [
  {
   "cell_type": "code",
   "execution_count": null,
   "source": [
    "import pandas as pd\r\n",
    "import numpy as np\r\n",
    "import io\r\n",
    "# import pandas_profiling\r\n",
    "\r\n",
    "retail_raw = pd.read_csv('https://storage.googleapis.com/dqlab-dataset/retail_raw_reduced_data_quality.csv')\r\n",
    "# Kolom city\r\n",
    "length_city = len(retail_raw['city'])\r\n",
    "print('Length kolom city:', length_city)\r\n",
    "\r\n",
    "# Tugas Praktek: Kolom product_id\r\n",
    "length_product_id = len(retail_raw['product_id'])\r\n",
    "print('Length kolom product_id:', length_product_id)"
   ],
   "outputs": [],
   "metadata": {}
  },
  {
   "cell_type": "markdown",
   "source": [
    "# Cleaning Data"
   ],
   "metadata": {}
  },
  {
   "cell_type": "code",
   "execution_count": 13,
   "source": [
    "# Check kolom yang memiliki missing data\r\n",
    "print('Check kolom yang memiliki missing data:')\r\n",
    "print(retail_raw.isnull().any())\r\n",
    "\r\n",
    "# Filling the missing value (imputasi)\r\n",
    "print('\\nFilling the missing value (imputasi):')\r\n",
    "print(retail_raw['quantity'].fillna(retail_raw.quantity.mean()))\r\n",
    "\r\n",
    "# Drop missing value\r\n",
    "print('\\nDrop missing value:')\r\n",
    "print(retail_raw['quantity'].dropna())"
   ],
   "outputs": [
    {
     "output_type": "stream",
     "name": "stdout",
     "text": [
      "Check kolom yang memiliki missing data:\n",
      "order_id       False\n",
      "order_date     False\n",
      "customer_id    False\n",
      "city            True\n",
      "province        True\n",
      "product_id      True\n",
      "brand          False\n",
      "quantity        True\n",
      "item_price      True\n",
      "dtype: bool\n",
      "\n",
      "Filling the missing value (imputasi):\n",
      "0       10.0\n",
      "1        2.0\n",
      "2        8.0\n",
      "3        4.0\n",
      "4        2.0\n",
      "        ... \n",
      "4995     2.0\n",
      "4996     3.0\n",
      "4997     4.0\n",
      "4998     8.0\n",
      "4999     1.0\n",
      "Name: quantity, Length: 5000, dtype: float64\n",
      "\n",
      "Drop missing value:\n",
      "0       10.0\n",
      "1        2.0\n",
      "2        8.0\n",
      "3        4.0\n",
      "4        2.0\n",
      "        ... \n",
      "4995     2.0\n",
      "4996     3.0\n",
      "4997     4.0\n",
      "4998     8.0\n",
      "4999     1.0\n",
      "Name: quantity, Length: 4986, dtype: float64\n"
     ]
    }
   ],
   "metadata": {}
  },
  {
   "cell_type": "code",
   "execution_count": 14,
   "source": [
    "print(retail_raw['item_price'].fillna(retail_raw['item_price'].mean()))"
   ],
   "outputs": [
    {
     "output_type": "stream",
     "name": "stdout",
     "text": [
      "0       7.400000e+05\n",
      "1       6.040000e+05\n",
      "2       1.045000e+06\n",
      "3       2.050000e+05\n",
      "4       9.337427e+05\n",
      "            ...     \n",
      "4995    4.500000e+05\n",
      "4996    1.465000e+06\n",
      "4997    7.470000e+05\n",
      "4998    6.950000e+05\n",
      "4999    1.045000e+06\n",
      "Name: item_price, Length: 5000, dtype: float64\n"
     ]
    }
   ],
   "metadata": {}
  }
 ],
 "metadata": {
  "orig_nbformat": 4,
  "language_info": {
   "name": "python",
   "version": "3.9.5",
   "mimetype": "text/x-python",
   "codemirror_mode": {
    "name": "ipython",
    "version": 3
   },
   "pygments_lexer": "ipython3",
   "nbconvert_exporter": "python",
   "file_extension": ".py"
  },
  "kernelspec": {
   "name": "python3",
   "display_name": "Python 3.9.5 64-bit"
  },
  "interpreter": {
   "hash": "2647ea34e536f865ab67ff9ddee7fd78773d956cec0cab53c79b32cd10da5d83"
  }
 },
 "nbformat": 4,
 "nbformat_minor": 2
}