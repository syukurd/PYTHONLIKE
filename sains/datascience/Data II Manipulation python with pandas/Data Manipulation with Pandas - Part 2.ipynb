{
 "cells": [
  {
   "cell_type": "markdown",
   "source": [
    "# Append"
   ],
   "metadata": {}
  },
  {
   "cell_type": "code",
   "execution_count": null,
   "source": [
    "import pandas as pd\r\n",
    "# Buat series of int (s1) dan series of string (s2)\r\n",
    "s1 = pd.Series([1,2,3,4,5,6])\r\n",
    "s2 = pd.Series([\"a\",\"b\",\"c\",\"d\",\"e\",\"f\"])\r\n",
    "# Terapkan method append\r\n",
    "s2_append_s1 = s2.append(s1)\r\n",
    "print(\"Series - append:\\n\", s2_append_s1)\r\n",
    "# Buat dataframe df1 dan df2\r\n",
    "df1 = pd.DataFrame({'a':[1,2],\r\n",
    "'b':[3,4]})\r\n",
    "df2 = pd.DataFrame({'b':[1,2],\r\n",
    "'a':[3,4]})\r\n",
    "# Terapkan method append\r\n",
    "df2_append_df1 = df2.append(df1)\r\n",
    "print(\"Dataframe - append:\\n\", df2_append_df1)"
   ],
   "outputs": [],
   "metadata": {}
  },
  {
   "cell_type": "markdown",
   "source": [
    "# Concat"
   ],
   "metadata": {}
  },
  {
   "cell_type": "code",
   "execution_count": null,
   "source": [
    "import pandas as pd\r\n",
    "# Buat dataframe df1 dan df2\r\n",
    "df1 = pd.DataFrame({'a':[1,2],\r\n",
    "     'b':[3,4]})\r\n",
    "df2 = pd.DataFrame({'b':[1,2],\r\n",
    "     'a':[3,4]})\r\n",
    "# Terapkan method concat row-wise\r\n",
    "row_wise_concat = pd.concat([df2,df1])\r\n",
    "print(\"Row-wise - concat:\\n\", row_wise_concat)\r\n",
    "# Terapkan method concat column-wise\r\n",
    "col_wise_concat = pd.concat([df2,df1],axis=1)\r\n",
    "print(\"Column-wise - concat:\\n\", col_wise_concat)\r\n",
    "# Penambahan identifier --> membentuk hasil penggabungan multiindex\r\n",
    "multiindex_concat = pd.concat([df2,df1], axis=0, keys=['df1', 'df2'])\r\n",
    "print(\"Multiindex - concat:\\n\", multiindex_concat)"
   ],
   "outputs": [],
   "metadata": {}
  },
  {
   "cell_type": "markdown",
   "source": [
    "# Merge"
   ],
   "metadata": {}
  },
  {
   "cell_type": "code",
   "execution_count": null,
   "source": [
    "import pandas as pd\r\n",
    "# Buat dataframe df1 dan df2\r\n",
    "df1 = pd.DataFrame({\r\n",
    "   'key':['k1','k2','k3','k4','k5'],\r\n",
    "   'val1':[200, 500, 0, 500, 100],\r\n",
    "   'val2':[30, 50, 100, 20, 10]\r\n",
    "})\r\n",
    "df2 = pd.DataFrame({\r\n",
    "   'key':['k1','k3','k5','k7','k10'],\r\n",
    "   'val3':[1,2,3,4,5],\r\n",
    "   'val4':[6,7,8,8,10]\r\n",
    "})\r\n",
    "# Merge yang ekivalen dengan SQL left join\r\n",
    "merge_df_left = pd.merge(left=df2, right=df1, how='left', left_on='key', right_on='key')\r\n",
    "print('Merge - Left:\\n', merge_df_left)\r\n",
    "# Merge yang ekivalen dengan SQL right join\r\n",
    "merge_df_right = pd.merge(left=df2, right=df1, how='right', left_on='key', right_on='key')\r\n",
    "print('Merge - Right:\\n', merge_df_right)\r\n",
    "# Merge yang ekivalen dengan SQL inner join\r\n",
    "merge_df_inner = pd.merge(left=df2, right=df1, how='inner', left_on='key', right_on='key')\r\n",
    "print('Merge - Inner:\\n', merge_df_inner)\r\n",
    "# Merge yang ekivalen dengan SQL outer join\r\n",
    "merge_df_outer = pd.merge(left=df2, right=df1, how='outer', left_on='key', right_on='key')\r\n",
    "print('Merge - Outer:\\n', merge_df_outer)"
   ],
   "outputs": [],
   "metadata": {}
  },
  {
   "cell_type": "markdown",
   "source": [
    "# Set Index value"
   ],
   "metadata": {}
  },
  {
   "cell_type": "code",
   "execution_count": 12,
   "source": [
    "import pandas as pd\r\n",
    "# Buat dataframe df1 dan df2\r\n",
    "df1 = pd.DataFrame({\r\n",
    "   'key':['k1','k2','k3','k4','k5'],\r\n",
    "   'val1':[200, 500, 0, 500, 100],\r\n",
    "   'val2':[30, 50, 100, 20, 10]\r\n",
    "}).set_index(['key','val2'])\r\n",
    "print('Dataframe 1:\\n', df1)\r\n",
    "df2 = pd.DataFrame({\r\n",
    "   'key':['k1','k3','k5','k7','k10'],\r\n",
    "   'val3':[1,2,3,4,5],\r\n",
    "   'val4':[6,7,8,8,10]\r\n",
    "}).set_index(['key','val3'])\r\n",
    "print('Dataframe 2:\\n', df2)\r\n",
    "# Merge dataframe yang memiliki multi index\r\n",
    "df_merge = pd.merge(df1.reset_index(),df2.reset_index())\r\n",
    "print('Merging dataframe:\\n', df_merge)"
   ],
   "outputs": [
    {
     "output_type": "stream",
     "name": "stdout",
     "text": [
      "Dataframe 1:\n",
      "           val1\n",
      "key val2      \n",
      "k1  30     200\n",
      "k2  50     500\n",
      "k3  100      0\n",
      "k4  20     500\n",
      "k5  10     100\n",
      "Dataframe 2:\n",
      "           val4\n",
      "key val3      \n",
      "k1  1        6\n",
      "k3  2        7\n",
      "k5  3        8\n",
      "k7  4        8\n",
      "k10 5       10\n"
     ]
    },
    {
     "output_type": "error",
     "ename": "MergeError",
     "evalue": "No common columns to perform merge on. Merge options: left_on=None, right_on=None, left_index=False, right_index=False",
     "traceback": [
      "\u001b[1;31m---------------------------------------------------------------------------\u001b[0m",
      "\u001b[1;31mMergeError\u001b[0m                                Traceback (most recent call last)",
      "\u001b[1;32m~\\AppData\\Local\\Temp/ipykernel_11720/4094702031.py\u001b[0m in \u001b[0;36m<module>\u001b[1;34m\u001b[0m\n\u001b[0;32m     14\u001b[0m \u001b[0mprint\u001b[0m\u001b[1;33m(\u001b[0m\u001b[1;34m'Dataframe 2:\\n'\u001b[0m\u001b[1;33m,\u001b[0m \u001b[0mdf2\u001b[0m\u001b[1;33m)\u001b[0m\u001b[1;33m\u001b[0m\u001b[1;33m\u001b[0m\u001b[0m\n\u001b[0;32m     15\u001b[0m \u001b[1;31m# Merge dataframe yang memiliki multi index\u001b[0m\u001b[1;33m\u001b[0m\u001b[1;33m\u001b[0m\u001b[1;33m\u001b[0m\u001b[0m\n\u001b[1;32m---> 16\u001b[1;33m \u001b[0mdf_merge\u001b[0m \u001b[1;33m=\u001b[0m \u001b[0mpd\u001b[0m\u001b[1;33m.\u001b[0m\u001b[0mmerge\u001b[0m\u001b[1;33m(\u001b[0m\u001b[0mdf1\u001b[0m\u001b[1;33m,\u001b[0m\u001b[0mdf2\u001b[0m\u001b[1;33m)\u001b[0m\u001b[1;33m\u001b[0m\u001b[1;33m\u001b[0m\u001b[0m\n\u001b[0m\u001b[0;32m     17\u001b[0m \u001b[0mprint\u001b[0m\u001b[1;33m(\u001b[0m\u001b[1;34m'Merging dataframe:\\n'\u001b[0m\u001b[1;33m,\u001b[0m \u001b[0mdf_merge\u001b[0m\u001b[1;33m)\u001b[0m\u001b[1;33m\u001b[0m\u001b[1;33m\u001b[0m\u001b[0m\n",
      "\u001b[1;32m~\\AppData\\Local\\Programs\\Python\\Python39\\lib\\site-packages\\pandas\\core\\reshape\\merge.py\u001b[0m in \u001b[0;36mmerge\u001b[1;34m(left, right, how, on, left_on, right_on, left_index, right_index, sort, suffixes, copy, indicator, validate)\u001b[0m\n\u001b[0;32m     72\u001b[0m     \u001b[0mvalidate\u001b[0m\u001b[1;33m=\u001b[0m\u001b[1;32mNone\u001b[0m\u001b[1;33m,\u001b[0m\u001b[1;33m\u001b[0m\u001b[1;33m\u001b[0m\u001b[0m\n\u001b[0;32m     73\u001b[0m ) -> \"DataFrame\":\n\u001b[1;32m---> 74\u001b[1;33m     op = _MergeOperation(\n\u001b[0m\u001b[0;32m     75\u001b[0m         \u001b[0mleft\u001b[0m\u001b[1;33m,\u001b[0m\u001b[1;33m\u001b[0m\u001b[1;33m\u001b[0m\u001b[0m\n\u001b[0;32m     76\u001b[0m         \u001b[0mright\u001b[0m\u001b[1;33m,\u001b[0m\u001b[1;33m\u001b[0m\u001b[1;33m\u001b[0m\u001b[0m\n",
      "\u001b[1;32m~\\AppData\\Local\\Programs\\Python\\Python39\\lib\\site-packages\\pandas\\core\\reshape\\merge.py\u001b[0m in \u001b[0;36m__init__\u001b[1;34m(self, left, right, how, on, left_on, right_on, axis, left_index, right_index, sort, suffixes, copy, indicator, validate)\u001b[0m\n\u001b[0;32m    648\u001b[0m             \u001b[0mwarnings\u001b[0m\u001b[1;33m.\u001b[0m\u001b[0mwarn\u001b[0m\u001b[1;33m(\u001b[0m\u001b[0mmsg\u001b[0m\u001b[1;33m,\u001b[0m \u001b[0mUserWarning\u001b[0m\u001b[1;33m)\u001b[0m\u001b[1;33m\u001b[0m\u001b[1;33m\u001b[0m\u001b[0m\n\u001b[0;32m    649\u001b[0m \u001b[1;33m\u001b[0m\u001b[0m\n\u001b[1;32m--> 650\u001b[1;33m         \u001b[0mself\u001b[0m\u001b[1;33m.\u001b[0m\u001b[0m_validate_specification\u001b[0m\u001b[1;33m(\u001b[0m\u001b[1;33m)\u001b[0m\u001b[1;33m\u001b[0m\u001b[1;33m\u001b[0m\u001b[0m\n\u001b[0m\u001b[0;32m    651\u001b[0m \u001b[1;33m\u001b[0m\u001b[0m\n\u001b[0;32m    652\u001b[0m         \u001b[0mcross_col\u001b[0m \u001b[1;33m=\u001b[0m \u001b[1;32mNone\u001b[0m\u001b[1;33m\u001b[0m\u001b[1;33m\u001b[0m\u001b[0m\n",
      "\u001b[1;32m~\\AppData\\Local\\Programs\\Python\\Python39\\lib\\site-packages\\pandas\\core\\reshape\\merge.py\u001b[0m in \u001b[0;36m_validate_specification\u001b[1;34m(self)\u001b[0m\n\u001b[0;32m   1281\u001b[0m                 \u001b[0mcommon_cols\u001b[0m \u001b[1;33m=\u001b[0m \u001b[0mleft_cols\u001b[0m\u001b[1;33m.\u001b[0m\u001b[0mintersection\u001b[0m\u001b[1;33m(\u001b[0m\u001b[0mright_cols\u001b[0m\u001b[1;33m)\u001b[0m\u001b[1;33m\u001b[0m\u001b[1;33m\u001b[0m\u001b[0m\n\u001b[0;32m   1282\u001b[0m                 \u001b[1;32mif\u001b[0m \u001b[0mlen\u001b[0m\u001b[1;33m(\u001b[0m\u001b[0mcommon_cols\u001b[0m\u001b[1;33m)\u001b[0m \u001b[1;33m==\u001b[0m \u001b[1;36m0\u001b[0m\u001b[1;33m:\u001b[0m\u001b[1;33m\u001b[0m\u001b[1;33m\u001b[0m\u001b[0m\n\u001b[1;32m-> 1283\u001b[1;33m                     raise MergeError(\n\u001b[0m\u001b[0;32m   1284\u001b[0m                         \u001b[1;34m\"No common columns to perform merge on. \"\u001b[0m\u001b[1;33m\u001b[0m\u001b[1;33m\u001b[0m\u001b[0m\n\u001b[0;32m   1285\u001b[0m                         \u001b[1;34mf\"Merge options: left_on={self.left_on}, \"\u001b[0m\u001b[1;33m\u001b[0m\u001b[1;33m\u001b[0m\u001b[0m\n",
      "\u001b[1;31mMergeError\u001b[0m: No common columns to perform merge on. Merge options: left_on=None, right_on=None, left_index=False, right_index=False"
     ]
    }
   ],
   "metadata": {}
  }
 ],
 "metadata": {
  "orig_nbformat": 4,
  "language_info": {
   "name": "python",
   "version": "3.9.5",
   "mimetype": "text/x-python",
   "codemirror_mode": {
    "name": "ipython",
    "version": 3
   },
   "pygments_lexer": "ipython3",
   "nbconvert_exporter": "python",
   "file_extension": ".py"
  },
  "kernelspec": {
   "name": "python3",
   "display_name": "Python 3.9.5 64-bit"
  },
  "interpreter": {
   "hash": "2647ea34e536f865ab67ff9ddee7fd78773d956cec0cab53c79b32cd10da5d83"
  }
 },
 "nbformat": 4,
 "nbformat_minor": 2
}