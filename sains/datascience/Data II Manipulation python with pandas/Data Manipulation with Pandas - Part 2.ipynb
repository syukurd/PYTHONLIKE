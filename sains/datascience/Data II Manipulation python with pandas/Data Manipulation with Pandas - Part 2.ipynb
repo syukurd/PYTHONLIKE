{
 "cells": [
  {
   "cell_type": "markdown",
   "source": [
    "# Append"
   ],
   "metadata": {}
  },
  {
   "cell_type": "code",
   "execution_count": null,
   "source": [
    "import pandas as pd\r\n",
    "# Buat series of int (s1) dan series of string (s2)\r\n",
    "s1 = pd.Series([1,2,3,4,5,6])\r\n",
    "s2 = pd.Series([\"a\",\"b\",\"c\",\"d\",\"e\",\"f\"])\r\n",
    "# Terapkan method append\r\n",
    "s2_append_s1 = s2.append(s1)\r\n",
    "print(\"Series - append:\\n\", s2_append_s1)\r\n",
    "# Buat dataframe df1 dan df2\r\n",
    "df1 = pd.DataFrame({'a':[1,2],\r\n",
    "'b':[3,4]})\r\n",
    "df2 = pd.DataFrame({'b':[1,2],\r\n",
    "'a':[3,4]})\r\n",
    "# Terapkan method append\r\n",
    "df2_append_df1 = df2.append(df1)\r\n",
    "print(\"Dataframe - append:\\n\", df2_append_df1)"
   ],
   "outputs": [],
   "metadata": {}
  },
  {
   "cell_type": "markdown",
   "source": [
    "# Concat"
   ],
   "metadata": {}
  },
  {
   "cell_type": "code",
   "execution_count": null,
   "source": [
    "import pandas as pd\r\n",
    "# Buat dataframe df1 dan df2\r\n",
    "df1 = pd.DataFrame({'a':[1,2],\r\n",
    "     'b':[3,4]})\r\n",
    "df2 = pd.DataFrame({'b':[1,2],\r\n",
    "     'a':[3,4]})\r\n",
    "# Terapkan method concat row-wise\r\n",
    "row_wise_concat = pd.concat([df2,df1])\r\n",
    "print(\"Row-wise - concat:\\n\", row_wise_concat)\r\n",
    "# Terapkan method concat column-wise\r\n",
    "col_wise_concat = pd.concat([df2,df1],axis=1)\r\n",
    "print(\"Column-wise - concat:\\n\", col_wise_concat)\r\n",
    "# Penambahan identifier --> membentuk hasil penggabungan multiindex\r\n",
    "multiindex_concat = pd.concat([df2,df1], axis=0, keys=['df1', 'df2'])\r\n",
    "print(\"Multiindex - concat:\\n\", multiindex_concat)"
   ],
   "outputs": [],
   "metadata": {}
  },
  {
   "cell_type": "markdown",
   "source": [
    "# Merge"
   ],
   "metadata": {}
  },
  {
   "cell_type": "code",
   "execution_count": 11,
   "source": [
    "import pandas as pd\r\n",
    "# Buat dataframe df1 dan df2\r\n",
    "df1 = pd.DataFrame({\r\n",
    "   'key':['k1','k2','k3','k4','k5'],\r\n",
    "   'val1':[200, 500, 0, 500, 100],\r\n",
    "   'val2':[30, 50, 100, 20, 10]\r\n",
    "})\r\n",
    "df2 = pd.DataFrame({\r\n",
    "   'key':['k1','k3','k5','k7','k10'],\r\n",
    "   'val3':[1,2,3,4,5],\r\n",
    "   'val4':[6,7,8,8,10]\r\n",
    "})\r\n",
    "# Merge yang ekivalen dengan SQL left join\r\n",
    "merge_df_left = pd.merge(left=df2, right=df1, how='left', left_on='key', right_on='key')\r\n",
    "print('Merge - Left:\\n', merge_df_left)\r\n",
    "# Merge yang ekivalen dengan SQL right join\r\n",
    "merge_df_right = pd.merge(left=df2, right=df1, how='right', left_on='key', right_on='key')\r\n",
    "print('Merge - Right:\\n', merge_df_right)\r\n",
    "# Merge yang ekivalen dengan SQL inner join\r\n",
    "merge_df_inner = pd.merge(left=df2, right=df1, how='inner', left_on='key', right_on='key')\r\n",
    "print('Merge - Inner:\\n', merge_df_inner)\r\n",
    "# Merge yang ekivalen dengan SQL outer join\r\n",
    "merge_df_outer = pd.merge(left=df2, right=df1, how='outer', left_on='key', right_on='key')\r\n",
    "print('Merge - Outer:\\n', merge_df_outer)"
   ],
   "outputs": [
    {
     "output_type": "stream",
     "name": "stdout",
     "text": [
      "Merge - Left:\n",
      "   key  val1  val2  val3  val4\n",
      "0  k1   200    30   1.0   6.0\n",
      "1  k2   500    50   NaN   NaN\n",
      "2  k3     0   100   2.0   7.0\n",
      "3  k4   500    20   NaN   NaN\n",
      "4  k5   100    10   3.0   8.0\n",
      "Merge - Right:\n",
      "    key   val1   val2  val3  val4\n",
      "0   k1  200.0   30.0     1     6\n",
      "1   k3    0.0  100.0     2     7\n",
      "2   k5  100.0   10.0     3     8\n",
      "3   k7    NaN    NaN     4     8\n",
      "4  k10    NaN    NaN     5    10\n",
      "Merge - Inner:\n",
      "   key  val1  val2  val3  val4\n",
      "0  k1   200    30     1     6\n",
      "1  k3     0   100     2     7\n",
      "2  k5   100    10     3     8\n",
      "Merge - Outer:\n",
      "    key   val1   val2  val3  val4\n",
      "0   k1  200.0   30.0   1.0   6.0\n",
      "1   k2  500.0   50.0   NaN   NaN\n",
      "2   k3    0.0  100.0   2.0   7.0\n",
      "3   k4  500.0   20.0   NaN   NaN\n",
      "4   k5  100.0   10.0   3.0   8.0\n",
      "5   k7    NaN    NaN   4.0   8.0\n",
      "6  k10    NaN    NaN   5.0  10.0\n"
     ]
    }
   ],
   "metadata": {}
  }
 ],
 "metadata": {
  "orig_nbformat": 4,
  "language_info": {
   "name": "python",
   "version": "3.9.5",
   "mimetype": "text/x-python",
   "codemirror_mode": {
    "name": "ipython",
    "version": 3
   },
   "pygments_lexer": "ipython3",
   "nbconvert_exporter": "python",
   "file_extension": ".py"
  },
  "kernelspec": {
   "name": "python3",
   "display_name": "Python 3.9.5 64-bit"
  },
  "interpreter": {
   "hash": "2647ea34e536f865ab67ff9ddee7fd78773d956cec0cab53c79b32cd10da5d83"
  }
 },
 "nbformat": 4,
 "nbformat_minor": 2
}