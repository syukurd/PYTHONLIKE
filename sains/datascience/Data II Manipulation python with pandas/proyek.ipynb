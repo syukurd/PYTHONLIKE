{
 "cells": [
  {
   "cell_type": "markdown",
   "source": [
    "Performa Penjualan di Setiap Cabang - Part 1\r\n",
    "Diberikan 4 csv files yang isinya retail data untuk tiap Quarter:\r\n",
    "\r\n",
    "csv (data dari bulan January - March)       --> https://storage.googleapis.com/dqlab-dataset/10%25_original_randomstate%3D42/retail_data_from_1_until_3_reduce.csv\r\n",
    "csv (data dari bulan April - June)              --> https://storage.googleapis.com/dqlab-dataset/10%25_original_randomstate%3D42/retail_data_from_4_until_6_reduce.csv\r\n",
    "csv (data dari bulan July - September)      --> https://storage.googleapis.com/dqlab-dataset/10%25_original_randomstate%3D42/retail_data_from_7_until_9_reduce.csv\r\n",
    "csv (data dari bulan October - December)  --> https://storage.googleapis.com/dqlab-dataset/10%25_original_randomstate%3D42/retail_data_from_10_until_12_reduce.csv\r\n",
    " \r\n",
    "\r\n",
    "Goal: Automation untuk pembuatan grafik dari measurement yang dibutuhkan.\r\n",
    "\r\n",
    " \r\n",
    "\r\n",
    "Untuk part 1 ini yang perlu dilakukan:\r\n",
    "\r\n",
    "[1]. Load masing-masing data *.csv dengan Pandas\r\n",
    "\r\n",
    "[2]. Pengecekan dan Transformasi Data \r\n",
    "\r\n",
    "Cek data sekilas (melihat bentuk data biasanya 5 data teratas)\r\n",
    "Cek list kolom untuk semua dataframe apakah seluruh kolom dari keempat dataframe yang terpisah itu sama\r\n",
    "Jika sama digabungkan.\r\n",
    "Cek informasi dataframe yang telah digabungkan\r\n",
    "Statistik deskriptif dari dataframe yang telah digabungkan."
   ],
   "metadata": {}
  },
  {
   "cell_type": "code",
   "execution_count": null,
   "source": [
    "import pandas as pd\r\n",
    "import matplotlib.pyplot as plt\r\n",
    "\r\n",
    "# [1]. Load masing-masing data dengan pandas\r\n",
    "retail_data1 = pd.read_csv('https://storage.googleapis.com/dqlab-dataset/10%25_original_randomstate%3D42/retail_data_from_1_until_3_reduce.csv')\r\n",
    "retail_data2 = pd.read_csv('https://storage.googleapis.com/dqlab-dataset/10%25_original_randomstate%3D42/retail_data_from_4_until_6_reduce.csv')\r\n",
    "retail_data3 = pd.read_csv('https://storage.googleapis.com/dqlab-dataset/10%25_original_randomstate%3D42/retail_data_from_7_until_9_reduce.csv')\r\n",
    "retail_data4 = pd.read_csv('https://storage.googleapis.com/dqlab-dataset/10%25_original_randomstate%3D42/retail_data_from_10_until_12_reduce.csv')\r\n",
    "\r\n",
    "# [2]. Pengecekan Data\r\n",
    "print('PENGECEKAN DATA\\n\\n')\r\n",
    "#      Cek data sekilas (tampilkan 5 baris teratas)\r\n",
    "print(retail_data1.head())\r\n",
    "#      Cek list kolom untuk semua dataframe\r\n",
    "print('Kolom retail_data1: %s' %retail_data1.columns)\r\n",
    "print('Kolom retail_data2: %s' %retail_data2.columns)\r\n",
    "print('Kolom retail_data3: %s' %retail_data3.columns)\r\n",
    "print('Kolom retail_data4: %s' %retail_data4.columns)\r\n",
    "#      Concat multiple dataframe menjadi 1 dataframe\r\n",
    "retail_table = pd.concat([retail_data1,retail_data2,retail_data3,retail_data4])\r\n",
    "print('\\nJumlah baris:', retail_table.shape[0])\r\n",
    "#      Pengecekan dataframe info\r\n",
    "print('\\nInfo:')\r\n",
    "print(retail_table.info())\r\n",
    "#      Pengecekan statistik deskriptif\r\n",
    "print('\\nStatistik deskriptif:\\n', retail_table.describe())"
   ],
   "outputs": [],
   "metadata": {}
  },
  {
   "cell_type": "markdown",
   "source": [],
   "metadata": {}
  },
  {
   "cell_type": "markdown",
   "source": [
    "# Oke GO"
   ],
   "metadata": {}
  },
  {
   "cell_type": "code",
   "execution_count": 2,
   "source": [
    "import pandas as pd\r\n",
    "import matplotlib.pyplot as plt\r\n",
    "\r\n",
    "retail_data1 = pd.read_csv('https://storage.googleapis.com/dqlab-dataset/10%25_original_randomstate%3D42/retail_data_from_1_until_3_reduce.csv')\r\n",
    "retail_data2 = pd.read_csv('https://storage.googleapis.com/dqlab-dataset/10%25_original_randomstate%3D42/retail_data_from_4_until_6_reduce.csv')\r\n",
    "retail_data3 = pd.read_csv('https://storage.googleapis.com/dqlab-dataset/10%25_original_randomstate%3D42/retail_data_from_7_until_9_reduce.csv')\r\n",
    "retail_data4 = pd.read_csv('https://storage.googleapis.com/dqlab-dataset/10%25_original_randomstate%3D42/retail_data_from_10_until_12_reduce.csv')\r\n",
    "\r\n",
    "retail_table = pd.concat([retail_data1, retail_data2, retail_data3, retail_data4])\r\n",
    "\r\n",
    "# [3]. Transformasi Data\r\n",
    "print('TRANSFORMASI DATA\\n\\n')\r\n",
    "#      Memastikan data yang memiliki item_price < 0 atau total_price < 0\r\n",
    "cek = retail_table.loc[(retail_table['item_price'] < 0) | retail_table['total_price']]\r\n",
    "print('\\nitem_price < 0 atau total_price < 0:\\n', cek)\r\n",
    "#      Jika tidak masuk akal datanya dapat dibuang\r\n",
    "if cek.shape[0] != 0:\r\n",
    "\tretail_table = retail_table.loc[(retail_table['item_price'] > 0) & (retail_table['total_price'])]\r\n",
    "#      Cek apakah masih ada order_id yang bernilai undefined dan delete row tersebut\r\n",
    "cek = retail_table.loc[retail_table['order_id']=='undefined']\r\n",
    "print('\\norder_id yang bernilai undefined:\\n', cek)\r\n",
    "#      Jika ada maka buang baris tersebut\r\n",
    "if cek.shape != 0:\r\n",
    "\tretail_table = retail_table.loc[retail_table['order_id']!='undefined']\r\n",
    "\r\n",
    "#      Transform order_id menjadi int64\r\n",
    "retail_table['order_id'] = retail_table['order_id'].astype('int64')\r\n",
    "#      Transform order_date menjadi datetime Pandas\r\n",
    "retail_table['order_date'] = pd.to_datetime(retail_table['order_date'])\r\n",
    "#      Cek dataframe info kembali untuk memastikan\r\n",
    "print('\\nInfo:')\r\n",
    "print(retail_table.info())\r\n",
    "#      Cek statistik deskriptif kembali, untuk memastikan\r\n",
    "print('\\nStatistik deskriptif:\\n', retail_table.describe())"
   ],
   "outputs": [
    {
     "output_type": "stream",
     "name": "stdout",
     "text": [
      "TRANSFORMASI DATA\n",
      "\n",
      "\n",
      "\n",
      "item_price < 0 atau total_price < 0:\n",
      "       order_id order_date  customer_id        city     province product_id  \\\n",
      "0      1612885   01-01-19        16293      Malang   Jawa Timur      P1301   \n",
      "1      1612387   01-01-19        17228       Bogor   Jawa Barat      P2086   \n",
      "2      1612903   01-01-19        16775   Surakarta  Jawa Tengah      P1656   \n",
      "3      1612963   01-01-19            0     unknown      unknown      P3127   \n",
      "4      1612915   01-01-19            0     unknown      unknown      P1230   \n",
      "...        ...        ...          ...         ...          ...        ...   \n",
      "20178  1742263   31-12-19            0     unknown      unknown      P0471   \n",
      "20179  1742266   31-12-19        14737  Yogyakarta   Yogyakarta      P0987   \n",
      "20180  1742923   31-12-19        14293       Bogor   Jawa Barat      P3487   \n",
      "20181  1742632   31-12-19        17250    Surabaya   Jawa Timur      P0036   \n",
      "20182  1742629   31-12-19        14071     Bandung   Jawa Barat      P1108   \n",
      "\n",
      "         brand  quantity  item_price  total_price  \n",
      "0      BRAND_F         6      747000      4482000  \n",
      "1      BRAND_L         4      590000      2360000  \n",
      "2      BRAND_G         3     1325000      3975000  \n",
      "3      BRAND_S         1     1045000      1045000  \n",
      "4      BRAND_E         1     -891000       891000  \n",
      "...        ...       ...         ...          ...  \n",
      "20178  BRAND_B         1     1164000      1164000  \n",
      "20179  BRAND_D        12      590000      7080000  \n",
      "20180  BRAND_S        25      159000      3975000  \n",
      "20181  BRAND_A         1      240000       240000  \n",
      "20182  BRAND_D         2     2900000      5800000  \n",
      "\n",
      "[50856 rows x 10 columns]\n",
      "\n",
      "order_id yang bernilai undefined:\n",
      " Empty DataFrame\n",
      "Columns: [order_id, order_date, customer_id, city, province, product_id, brand, quantity, item_price, total_price]\n",
      "Index: []\n"
     ]
    },
    {
     "output_type": "stream",
     "name": "stderr",
     "text": [
      "C:\\Users\\User\\AppData\\Local\\Temp/ipykernel_11204/2822617236.py:29: FutureWarning: The pandas.datetime class is deprecated and will be removed from pandas in a future version. Import from datetime module instead.\n",
      "  retail_table['order_date'] = pd.datetime(retail_table['order_date'])\n"
     ]
    },
    {
     "output_type": "error",
     "ename": "TypeError",
     "evalue": "cannot convert the series to <class 'int'>",
     "traceback": [
      "\u001b[1;31m---------------------------------------------------------------------------\u001b[0m",
      "\u001b[1;31mTypeError\u001b[0m                                 Traceback (most recent call last)",
      "\u001b[1;32m~\\AppData\\Local\\Temp/ipykernel_11204/2822617236.py\u001b[0m in \u001b[0;36m<module>\u001b[1;34m\u001b[0m\n\u001b[0;32m     27\u001b[0m \u001b[0mretail_table\u001b[0m\u001b[1;33m[\u001b[0m\u001b[1;34m'order_id'\u001b[0m\u001b[1;33m]\u001b[0m \u001b[1;33m=\u001b[0m \u001b[0mretail_table\u001b[0m\u001b[1;33m[\u001b[0m\u001b[1;34m'order_id'\u001b[0m\u001b[1;33m]\u001b[0m\u001b[1;33m.\u001b[0m\u001b[0mastype\u001b[0m\u001b[1;33m(\u001b[0m\u001b[1;34m'int64'\u001b[0m\u001b[1;33m)\u001b[0m\u001b[1;33m\u001b[0m\u001b[1;33m\u001b[0m\u001b[0m\n\u001b[0;32m     28\u001b[0m \u001b[1;31m#      Transform order_date menjadi datetime Pandas\u001b[0m\u001b[1;33m\u001b[0m\u001b[1;33m\u001b[0m\u001b[1;33m\u001b[0m\u001b[0m\n\u001b[1;32m---> 29\u001b[1;33m \u001b[0mretail_table\u001b[0m\u001b[1;33m[\u001b[0m\u001b[1;34m'order_date'\u001b[0m\u001b[1;33m]\u001b[0m \u001b[1;33m=\u001b[0m \u001b[0mpd\u001b[0m\u001b[1;33m.\u001b[0m\u001b[0mdatetime\u001b[0m\u001b[1;33m(\u001b[0m\u001b[0mretail_table\u001b[0m\u001b[1;33m[\u001b[0m\u001b[1;34m'order_date'\u001b[0m\u001b[1;33m]\u001b[0m\u001b[1;33m)\u001b[0m\u001b[1;33m\u001b[0m\u001b[1;33m\u001b[0m\u001b[0m\n\u001b[0m\u001b[0;32m     30\u001b[0m \u001b[1;31m#      Cek dataframe info kembali untuk memastikan\u001b[0m\u001b[1;33m\u001b[0m\u001b[1;33m\u001b[0m\u001b[1;33m\u001b[0m\u001b[0m\n\u001b[0;32m     31\u001b[0m \u001b[0mprint\u001b[0m\u001b[1;33m(\u001b[0m\u001b[1;34m'\\nInfo:'\u001b[0m\u001b[1;33m)\u001b[0m\u001b[1;33m\u001b[0m\u001b[1;33m\u001b[0m\u001b[0m\n",
      "\u001b[1;32m~\\AppData\\Local\\Programs\\Python\\Python39\\lib\\site-packages\\pandas\\core\\series.py\u001b[0m in \u001b[0;36mwrapper\u001b[1;34m(self)\u001b[0m\n\u001b[0;32m    139\u001b[0m         \u001b[1;32mif\u001b[0m \u001b[0mlen\u001b[0m\u001b[1;33m(\u001b[0m\u001b[0mself\u001b[0m\u001b[1;33m)\u001b[0m \u001b[1;33m==\u001b[0m \u001b[1;36m1\u001b[0m\u001b[1;33m:\u001b[0m\u001b[1;33m\u001b[0m\u001b[1;33m\u001b[0m\u001b[0m\n\u001b[0;32m    140\u001b[0m             \u001b[1;32mreturn\u001b[0m \u001b[0mconverter\u001b[0m\u001b[1;33m(\u001b[0m\u001b[0mself\u001b[0m\u001b[1;33m.\u001b[0m\u001b[0miloc\u001b[0m\u001b[1;33m[\u001b[0m\u001b[1;36m0\u001b[0m\u001b[1;33m]\u001b[0m\u001b[1;33m)\u001b[0m\u001b[1;33m\u001b[0m\u001b[1;33m\u001b[0m\u001b[0m\n\u001b[1;32m--> 141\u001b[1;33m         \u001b[1;32mraise\u001b[0m \u001b[0mTypeError\u001b[0m\u001b[1;33m(\u001b[0m\u001b[1;34mf\"cannot convert the series to {converter}\"\u001b[0m\u001b[1;33m)\u001b[0m\u001b[1;33m\u001b[0m\u001b[1;33m\u001b[0m\u001b[0m\n\u001b[0m\u001b[0;32m    142\u001b[0m \u001b[1;33m\u001b[0m\u001b[0m\n\u001b[0;32m    143\u001b[0m     \u001b[0mwrapper\u001b[0m\u001b[1;33m.\u001b[0m\u001b[0m__name__\u001b[0m \u001b[1;33m=\u001b[0m \u001b[1;34mf\"__{converter.__name__}__\"\u001b[0m\u001b[1;33m\u001b[0m\u001b[1;33m\u001b[0m\u001b[0m\n",
      "\u001b[1;31mTypeError\u001b[0m: cannot convert the series to <class 'int'>"
     ]
    }
   ],
   "metadata": {}
  },
  {
   "cell_type": "markdown",
   "source": [],
   "metadata": {}
  }
 ],
 "metadata": {
  "orig_nbformat": 4,
  "language_info": {
   "name": "python",
   "version": "3.9.5",
   "mimetype": "text/x-python",
   "codemirror_mode": {
    "name": "ipython",
    "version": 3
   },
   "pygments_lexer": "ipython3",
   "nbconvert_exporter": "python",
   "file_extension": ".py"
  },
  "kernelspec": {
   "name": "python3",
   "display_name": "Python 3.9.5 64-bit"
  },
  "interpreter": {
   "hash": "2647ea34e536f865ab67ff9ddee7fd78773d956cec0cab53c79b32cd10da5d83"
  }
 },
 "nbformat": 4,
 "nbformat_minor": 2
}