{
 "cells": [
  {
   "cell_type": "markdown",
   "source": [
    "Performa Penjualan di Setiap Cabang - Part 1\r\n",
    "Diberikan 4 csv files yang isinya retail data untuk tiap Quarter:\r\n",
    "\r\n",
    "csv (data dari bulan January - March)       --> https://storage.googleapis.com/dqlab-dataset/10%25_original_randomstate%3D42/retail_data_from_1_until_3_reduce.csv\r\n",
    "csv (data dari bulan April - June)              --> https://storage.googleapis.com/dqlab-dataset/10%25_original_randomstate%3D42/retail_data_from_4_until_6_reduce.csv\r\n",
    "csv (data dari bulan July - September)      --> https://storage.googleapis.com/dqlab-dataset/10%25_original_randomstate%3D42/retail_data_from_7_until_9_reduce.csv\r\n",
    "csv (data dari bulan October - December)  --> https://storage.googleapis.com/dqlab-dataset/10%25_original_randomstate%3D42/retail_data_from_10_until_12_reduce.csv\r\n",
    " \r\n",
    "\r\n",
    "Goal: Automation untuk pembuatan grafik dari measurement yang dibutuhkan.\r\n",
    "\r\n",
    " \r\n",
    "\r\n",
    "Untuk part 1 ini yang perlu dilakukan:\r\n",
    "\r\n",
    "[1]. Load masing-masing data *.csv dengan Pandas\r\n",
    "\r\n",
    "[2]. Pengecekan dan Transformasi Data \r\n",
    "\r\n",
    "Cek data sekilas (melihat bentuk data biasanya 5 data teratas)\r\n",
    "Cek list kolom untuk semua dataframe apakah seluruh kolom dari keempat dataframe yang terpisah itu sama\r\n",
    "Jika sama digabungkan.\r\n",
    "Cek informasi dataframe yang telah digabungkan\r\n",
    "Statistik deskriptif dari dataframe yang telah digabungkan."
   ],
   "metadata": {}
  },
  {
   "cell_type": "markdown",
   "source": [
    "# Pada tahap ini kita melakukan import 4 dataframe"
   ],
   "metadata": {}
  },
  {
   "cell_type": "code",
   "execution_count": 2,
   "source": [
    "import pandas as pd\r\n",
    "import matplotlib.pyplot as plt\r\n",
    "\r\n",
    "# [1]. Load masing-masing data dengan pandas\r\n",
    "retail_data1 = pd.read_csv('https://storage.googleapis.com/dqlab-dataset/10%25_original_randomstate%3D42/retail_data_from_1_until_3_reduce.csv')\r\n",
    "retail_data2 = pd.read_csv('https://storage.googleapis.com/dqlab-dataset/10%25_original_randomstate%3D42/retail_data_from_1_until_3_reduce.csv')\r\n",
    "retail_data3 = pd.read_csv('https://storage.googleapis.com/dqlab-dataset/10%25_original_randomstate%3D42/retail_data_from_7_until_9_reduce.csv')\r\n",
    "retail_data4 = pd.read_csv('https://storage.googleapis.com/dqlab-dataset/10%25_original_randomstate%3D42/retail_data_from_10_until_12_reduce.csv')\r\n",
    "\r\n",
    "# [2]. Pengecekan Data\r\n",
    "print('PENGECEKAN DATA\\n\\n')\r\n",
    "#      Cek data sekilas (tampilkan 5 baris teratas)\r\n",
    "print(retail_data1.head())"
   ],
   "outputs": [
    {
     "output_type": "stream",
     "name": "stdout",
     "text": [
      "PENGECEKAN DATA\n",
      "\n",
      "\n",
      "   order_id order_date  customer_id       city     province product_id  \\\n",
      "0   1612885   01-01-19        16293     Malang   Jawa Timur      P1301   \n",
      "1   1612387   01-01-19        17228      Bogor   Jawa Barat      P2086   \n",
      "2   1612903   01-01-19        16775  Surakarta  Jawa Tengah      P1656   \n",
      "3   1612963   01-01-19            0    unknown      unknown      P3127   \n",
      "4   1612915   01-01-19            0    unknown      unknown      P1230   \n",
      "\n",
      "     brand  quantity  item_price  total_price  \n",
      "0  BRAND_F         6      747000      4482000  \n",
      "1  BRAND_L         4      590000      2360000  \n",
      "2  BRAND_G         3     1325000      3975000  \n",
      "3  BRAND_S         1     1045000      1045000  \n",
      "4  BRAND_E         1     -891000       891000  \n"
     ]
    }
   ],
   "metadata": {}
  },
  {
   "cell_type": "markdown",
   "source": [],
   "metadata": {}
  },
  {
   "cell_type": "markdown",
   "source": [],
   "metadata": {}
  }
 ],
 "metadata": {
  "orig_nbformat": 4,
  "language_info": {
   "name": "python",
   "version": "3.9.5",
   "mimetype": "text/x-python",
   "codemirror_mode": {
    "name": "ipython",
    "version": 3
   },
   "pygments_lexer": "ipython3",
   "nbconvert_exporter": "python",
   "file_extension": ".py"
  },
  "kernelspec": {
   "name": "python3",
   "display_name": "Python 3.9.5 64-bit"
  },
  "interpreter": {
   "hash": "2647ea34e536f865ab67ff9ddee7fd78773d956cec0cab53c79b32cd10da5d83"
  }
 },
 "nbformat": 4,
 "nbformat_minor": 2
}