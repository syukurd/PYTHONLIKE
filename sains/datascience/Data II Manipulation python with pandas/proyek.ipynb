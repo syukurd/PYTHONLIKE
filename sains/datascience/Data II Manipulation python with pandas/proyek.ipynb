{
 "cells": [
  {
   "cell_type": "markdown",
   "source": [
    "Performa Penjualan di Setiap Cabang - Part 1\r\n",
    "Diberikan 4 csv files yang isinya retail data untuk tiap Quarter:\r\n",
    "\r\n",
    "csv (data dari bulan January - March)       --> https://storage.googleapis.com/dqlab-dataset/10%25_original_randomstate%3D42/retail_data_from_1_until_3_reduce.csv\r\n",
    "csv (data dari bulan April - June)              --> https://storage.googleapis.com/dqlab-dataset/10%25_original_randomstate%3D42/retail_data_from_4_until_6_reduce.csv\r\n",
    "csv (data dari bulan July - September)      --> https://storage.googleapis.com/dqlab-dataset/10%25_original_randomstate%3D42/retail_data_from_7_until_9_reduce.csv\r\n",
    "csv (data dari bulan October - December)  --> https://storage.googleapis.com/dqlab-dataset/10%25_original_randomstate%3D42/retail_data_from_10_until_12_reduce.csv\r\n",
    " \r\n",
    "\r\n",
    "Goal: Automation untuk pembuatan grafik dari measurement yang dibutuhkan.\r\n",
    "\r\n",
    " \r\n",
    "\r\n",
    "Untuk part 1 ini yang perlu dilakukan:\r\n",
    "\r\n",
    "[1]. Load masing-masing data *.csv dengan Pandas\r\n",
    "\r\n",
    "[2]. Pengecekan dan Transformasi Data \r\n",
    "\r\n",
    "Cek data sekilas (melihat bentuk data biasanya 5 data teratas)\r\n",
    "Cek list kolom untuk semua dataframe apakah seluruh kolom dari keempat dataframe yang terpisah itu sama\r\n",
    "Jika sama digabungkan.\r\n",
    "Cek informasi dataframe yang telah digabungkan\r\n",
    "Statistik deskriptif dari dataframe yang telah digabungkan."
   ],
   "metadata": {}
  },
  {
   "cell_type": "code",
   "execution_count": null,
   "source": [
    "import pandas as pd\r\n",
    "import matplotlib.pyplot as plt\r\n",
    "\r\n",
    "# [1]. Load masing-masing data dengan pandas\r\n",
    "retail_data1 = pd.read_csv('https://storage.googleapis.com/dqlab-dataset/10%25_original_randomstate%3D42/retail_data_from_1_until_3_reduce.csv')\r\n",
    "retail_data2 = pd.read_csv('https://storage.googleapis.com/dqlab-dataset/10%25_original_randomstate%3D42/retail_data_from_4_until_6_reduce.csv')\r\n",
    "retail_data3 = pd.read_csv('https://storage.googleapis.com/dqlab-dataset/10%25_original_randomstate%3D42/retail_data_from_7_until_9_reduce.csv')\r\n",
    "retail_data4 = pd.read_csv('https://storage.googleapis.com/dqlab-dataset/10%25_original_randomstate%3D42/retail_data_from_10_until_12_reduce.csv')\r\n",
    "\r\n",
    "# [2]. Pengecekan Data\r\n",
    "print('PENGECEKAN DATA\\n\\n')\r\n",
    "#      Cek data sekilas (tampilkan 5 baris teratas)\r\n",
    "print(retail_data1.head())\r\n",
    "#      Cek list kolom untuk semua dataframe\r\n",
    "print('Kolom retail_data1: %s' %retail_data1.columns)\r\n",
    "print('Kolom retail_data2: %s' %retail_data2.columns)\r\n",
    "print('Kolom retail_data3: %s' %retail_data3.columns)\r\n",
    "print('Kolom retail_data4: %s' %retail_data4.columns)\r\n",
    "#      Concat multiple dataframe menjadi 1 dataframe\r\n",
    "retail_table = pd.concat([retail_data1,retail_data2,retail_data3,retail_data4])\r\n",
    "print('\\nJumlah baris:', retail_table.shape[0])\r\n",
    "#      Pengecekan dataframe info\r\n",
    "print('\\nInfo:')\r\n",
    "print(retail_table.info())\r\n",
    "#      Pengecekan statistik deskriptif\r\n",
    "print('\\nStatistik deskriptif:\\n', retail_table.describe())"
   ],
   "outputs": [],
   "metadata": {}
  },
  {
   "cell_type": "markdown",
   "source": [],
   "metadata": {}
  },
  {
   "cell_type": "markdown",
   "source": [
    "# Oke GO"
   ],
   "metadata": {}
  },
  {
   "cell_type": "code",
   "execution_count": null,
   "source": [
    "import pandas as pd\r\n",
    "import matplotlib.pyplot as plt\r\n",
    "\r\n",
    "retail_data1 = pd.read_csv('https://storage.googleapis.com/dqlab-dataset/10%25_original_randomstate%3D42/retail_data_from_1_until_3_reduce.csv')\r\n",
    "retail_data2 = pd.read_csv('https://storage.googleapis.com/dqlab-dataset/10%25_original_randomstate%3D42/retail_data_from_4_until_6_reduce.csv')\r\n",
    "retail_data3 = pd.read_csv('https://storage.googleapis.com/dqlab-dataset/10%25_original_randomstate%3D42/retail_data_from_7_until_9_reduce.csv')\r\n",
    "retail_data4 = pd.read_csv('https://storage.googleapis.com/dqlab-dataset/10%25_original_randomstate%3D42/retail_data_from_10_until_12_reduce.csv')\r\n",
    "\r\n",
    "retail_table = pd.concat([retail_data1, retail_data2, retail_data3, retail_data4])\r\n",
    "\r\n",
    "# [3]. Transformasi Data\r\n",
    "print('TRANSFORMASI DATA\\n\\n')\r\n",
    "#      Memastikan data yang memiliki item_price < 0 atau total_price < 0\r\n",
    "cek = retail_table.loc[(retail_table['item_price'] < 0) | retail_table['total_price']]\r\n",
    "print('\\nitem_price < 0 atau total_price < 0:\\n', cek)\r\n",
    "#      Jika tidak masuk akal datanya dapat dibuang\r\n",
    "if cek.shape[0] != 0:\r\n",
    "\tretail_table = retail_table.loc[(retail_table['item_price'] > 0) & (retail_table['total_price'])]\r\n",
    "#      Cek apakah masih ada order_id yang bernilai undefined dan delete row tersebut\r\n",
    "cek = retail_table.loc[retail_table['order_id']=='undefined']\r\n",
    "print('\\norder_id yang bernilai undefined:\\n', cek)\r\n",
    "#      Jika ada maka buang baris tersebut\r\n",
    "if cek.shape != 0:\r\n",
    "\tretail_table = retail_table.loc[retail_table['order_id']!='undefined']\r\n",
    "\r\n",
    "#      Transform order_id menjadi int64\r\n",
    "retail_table['order_id'] = retail_table['order_id'].astype('int64')\r\n",
    "#      Transform order_date menjadi datetime Pandas\r\n",
    "retail_table['order_date'] = pd.to_datetime(retail_table['order_date'])\r\n",
    "#      Cek dataframe info kembali untuk memastikan\r\n",
    "print('\\nInfo:')\r\n",
    "print(retail_table.info())\r\n",
    "#      Cek statistik deskriptif kembali, untuk memastikan\r\n",
    "print('\\nStatistik deskriptif:\\n', retail_table.describe())"
   ],
   "outputs": [],
   "metadata": {}
  },
  {
   "cell_type": "markdown",
   "source": [
    "# Salah"
   ],
   "metadata": {}
  },
  {
   "cell_type": "markdown",
   "source": [],
   "metadata": {}
  }
 ],
 "metadata": {
  "orig_nbformat": 4,
  "language_info": {
   "name": "python",
   "version": "3.9.5",
   "mimetype": "text/x-python",
   "codemirror_mode": {
    "name": "ipython",
    "version": 3
   },
   "pygments_lexer": "ipython3",
   "nbconvert_exporter": "python",
   "file_extension": ".py"
  },
  "kernelspec": {
   "name": "python3",
   "display_name": "Python 3.9.5 64-bit"
  },
  "interpreter": {
   "hash": "2647ea34e536f865ab67ff9ddee7fd78773d956cec0cab53c79b32cd10da5d83"
  }
 },
 "nbformat": 4,
 "nbformat_minor": 2
}