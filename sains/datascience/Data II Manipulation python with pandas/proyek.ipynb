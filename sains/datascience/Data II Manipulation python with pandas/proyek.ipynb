{
 "cells": [
  {
   "cell_type": "markdown",
   "source": [
    "Performa Penjualan di Setiap Cabang - Part 1\r\n",
    "Diberikan 4 csv files yang isinya retail data untuk tiap Quarter:\r\n",
    "\r\n",
    "csv (data dari bulan January - March)       --> https://storage.googleapis.com/dqlab-dataset/10%25_original_randomstate%3D42/retail_data_from_1_until_3_reduce.csv\r\n",
    "csv (data dari bulan April - June)              --> https://storage.googleapis.com/dqlab-dataset/10%25_original_randomstate%3D42/retail_data_from_4_until_6_reduce.csv\r\n",
    "csv (data dari bulan July - September)      --> https://storage.googleapis.com/dqlab-dataset/10%25_original_randomstate%3D42/retail_data_from_7_until_9_reduce.csv\r\n",
    "csv (data dari bulan October - December)  --> https://storage.googleapis.com/dqlab-dataset/10%25_original_randomstate%3D42/retail_data_from_10_until_12_reduce.csv\r\n",
    " \r\n",
    "\r\n",
    "Goal: Automation untuk pembuatan grafik dari measurement yang dibutuhkan.\r\n",
    "\r\n",
    " \r\n",
    "\r\n",
    "Untuk part 1 ini yang perlu dilakukan:\r\n",
    "\r\n",
    "[1]. Load masing-masing data *.csv dengan Pandas\r\n",
    "\r\n",
    "[2]. Pengecekan dan Transformasi Data \r\n",
    "\r\n",
    "Cek data sekilas (melihat bentuk data biasanya 5 data teratas)\r\n",
    "Cek list kolom untuk semua dataframe apakah seluruh kolom dari keempat dataframe yang terpisah itu sama\r\n",
    "Jika sama digabungkan.\r\n",
    "Cek informasi dataframe yang telah digabungkan\r\n",
    "Statistik deskriptif dari dataframe yang telah digabungkan."
   ],
   "metadata": {}
  },
  {
   "cell_type": "markdown",
   "source": [
    "# Mana semangatmu"
   ],
   "metadata": {}
  }
 ],
 "metadata": {
  "orig_nbformat": 4,
  "language_info": {
   "name": "python"
  }
 },
 "nbformat": 4,
 "nbformat_minor": 2
}