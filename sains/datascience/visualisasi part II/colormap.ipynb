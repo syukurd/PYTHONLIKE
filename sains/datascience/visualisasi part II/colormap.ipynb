{
 "metadata": {
  "language_info": {
   "codemirror_mode": {
    "name": "ipython",
    "version": 3
   },
   "file_extension": ".py",
   "mimetype": "text/x-python",
   "name": "python",
   "nbconvert_exporter": "python",
   "pygments_lexer": "ipython3",
   "version": "3.9.5"
  },
  "orig_nbformat": 4,
  "kernelspec": {
   "name": "python3",
   "display_name": "Python 3.9.5 64-bit"
  },
  "interpreter": {
   "hash": "2647ea34e536f865ab67ff9ddee7fd78773d956cec0cab53c79b32cd10da5d83"
  }
 },
 "nbformat": 4,
 "nbformat_minor": 2,
 "cells": [
  {
   "cell_type": "code",
   "execution_count": null,
   "metadata": {},
   "outputs": [],
   "source": [
    "import pandas as pd\n",
    "import datetime\n",
    "import matplotlib.pyplot as plt\n",
    "dataset = pd.read_csv('https://storage.googleapis.com/dqlab-dataset/retail_raw_reduced.csv')\n",
    "dataset['order_month'] = dataset['order_date'].apply(lambda x : datetime.datetime.strptime(x, '%Y-%m-%d').strftime('%Y-%m'))\n",
    "dataset['gmv'] = dataset['item_price'] * dataset['quantity']\n",
    "plt.clf()\n",
    "dataset.groupby(['order_month','province'])['gmv'].sum().unstack().plot()\n",
    "plt.title('Monthly GMV Year 2019 - Breakdown by province',loc = 'center',pad = 30, fontsize = 20, color = 'blue')\n",
    "plt.xlabel('Order Month', fontsize = 15)\n",
    "plt.ylabel ('Total Amount (Billions)',fontsize = 15)\n",
    "plt.grid(color = 'darkgray', linestyle = ':', linewidth = 0.5)\n",
    "plt.ylim(ymin = 0)\n",
    "labels, locations = plt.yticks()\n",
    "plt.yticks(labels, (labels/1000000000).astype(int))\n",
    "plt.legend(loc = 'lower center', bbox_to_anchor = (0.5, -0.5), shadow = True,ncol=3, title = 'Province', fontsize = 9, title_fontsize = 11)\n",
    "plt.gcf().set_size_inches(10,5)\n",
    "plt.tight_layout()\n",
    "plt.show()"
   ]
  },
  {
   "cell_type": "code",
   "execution_count": null,
   "metadata": {},
   "outputs": [],
   "source": [
    "import pandas as pd\n",
    "import datetime\n",
    "import matplotlib.pyplot as plt\n",
    "dataset = pd.read_csv('https://storage.googleapis.com/dqlab-dataset/retail_raw_reduced.csv')\n",
    "dataset['order_month'] = dataset['order_date'].apply(lambda x : datetime.datetime.strptime(x, '%Y-%m-%d').strftime('%Y-%m'))\n",
    "dataset['gmv'] = dataset['item_price'] * dataset['quantity']\n",
    "#tampilkan 5 top tertinggi\n",
    "# Buat variabel untuk 5 propinsi dengan GMV tertinggi\n",
    "top_provinces = (dataset.groupby(['province'])['gmv']\n",
    "                        .sum()\n",
    "                        .reset_index()\n",
    "                        .sort_values(by = 'gmv',ascending = False)\n",
    "                        .head(5))\n",
    "print(top_provinces)\n",
    "\n",
    "# Buat satu kolom lagi di dataset dengan nama province_top\n",
    "dataset['province_top'] = dataset['province'].apply(lambda x : x if(x in top_provinces['province'].to_list()) else 'other')\n",
    "\n",
    "# Plot multi-line chartnya\n",
    "import matplotlib.pyplot as plt\n",
    "dataset.groupby(['order_month','province_top'])['gmv'].sum().unstack().plot(marker = '.',cmap = 'plasma')\n",
    "\t\t\t\t\t\t\t\t\t\t\t\t\t\n",
    "plt.title('Monthly GMV Year 2019 - Breakdown by Province', loc = 'center',pad = 30, fontsize = 15, color = 'blue')\n",
    "plt.xlabel('Order Month', fontsize = 15)\n",
    "plt.ylabel('Total Amount (in Billions)', fontsize = 15)\n",
    "plt.grid(color = 'darkgray', linestyle = ':', linewidth = 0.5)\n",
    "plt.ylim(ymin = 0)\n",
    "labels, locations = plt.yticks()\n",
    "plt.yticks(labels, (labels/1000000000).astype(int))\n",
    "plt.legend(loc='upper center',bbox_to_anchor=(1.1,1),shadow=True ,ncol=1)\n",
    "plt.gcf().set_size_inches(12,5)\n",
    "plt.tight_layout()\n",
    "plt.show()\n"
   ]
  },
  {
   "cell_type": "code",
   "execution_count": null,
   "metadata": {},
   "outputs": [],
   "source": [
    "import pandas as pd\n",
    "import datetime\n",
    "import matplotlib.pyplot as plt\n",
    "dataset = pd.read_csv('https://storage.googleapis.com/dqlab-dataset/retail_raw_reduced.csv')\n",
    "dataset['order_month'] = dataset['order_date'].apply(lambda x : datetime.datetime.strptime(x, '%Y-%m-%d').strftime('%Y-%m'))\n",
    "dataset['gmv'] = dataset['item_price'] * dataset['quantity']\n",
    "#tampilkan 5 top tertinggi\n",
    "# Buat variabel untuk 5 propinsi dengan GMV tertinggi\n",
    "top_provinces = (dataset.groupby(['province'])['gmv']\n",
    "                        .sum()\n",
    "                        .reset_index()\n",
    "                        .sort_values(by = 'gmv',ascending = False)\n",
    "                        .head(5))\n",
    "print(top_provinces)\n",
    "\n",
    "# Buat satu kolom lagi di dataset dengan nama province_top\n",
    "dataset['province_top'] = dataset['province'].apply(lambda x : x if(x in top_provinces['province'].to_list()) else 'other')\n",
    "\n",
    "# Plot multi-line chartnya\n",
    "import matplotlib.pyplot as plt\n",
    "dataset.groupby(['order_month','province_top'])['gmv'].sum().unstack().plot(marker = '.',cmap = 'plasma')\n",
    "\t\t\t\t\t\t\t\t\t\t\t\t\t\n",
    "plt.title('Monthly GMV Year 2019 - Breakdown by Province', loc = 'center',pad = 30, fontsize = 15, color = 'blue')\n",
    "plt.xlabel('Order Month', fontsize = 15)\n",
    "plt.ylabel('Total Amount (in Billions)', fontsize = 15)\n",
    "plt.grid(color = 'darkgray', linestyle = ':', linewidth = 0.5)\n",
    "plt.ylim(ymin = 0)\n",
    "labels, locations = plt.yticks()\n",
    "plt.yticks(labels, (labels/1000000000).astype(int))\n",
    "plt.legend(loc='upper center',bbox_to_anchor=(1.3,1),shadow=True ,ncol=1)\n",
    "\n",
    "\n",
    "#MENGANOTASI MULTILINE CARD plt.annonate\n",
    "plt.annotate('GMV other meningkat pesat',xy = (5, 900000000), xytext=(4,1700000000), weight='bold',color='red',\n",
    "arrowprops=dict(arrowstyle='fancy', connectionstyle='arc3',color='red'))\n",
    "\n",
    "plt.annotate('DKI Jakarta mendominasi', xy=(3, 3350000000),xytext=(0, 3700000000), weight='bold', color='red',arrowprops=dict(arrowstyle='->', connectionstyle=\"angle\", color='red'))\n",
    "\n"
   ]
  },
  {
   "cell_type": "code",
   "execution_count": null,
   "metadata": {},
   "outputs": [],
   "source": []
  },
  {
   "cell_type": "code",
   "execution_count": null,
   "metadata": {},
   "outputs": [],
   "source": []
  }
 ]
}