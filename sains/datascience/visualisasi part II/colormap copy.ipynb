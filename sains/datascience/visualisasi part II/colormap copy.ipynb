{
 "metadata": {
  "language_info": {
   "codemirror_mode": {
    "name": "ipython",
    "version": 3
   },
   "file_extension": ".py",
   "mimetype": "text/x-python",
   "name": "python",
   "nbconvert_exporter": "python",
   "pygments_lexer": "ipython3",
   "version": "3.9.5"
  },
  "orig_nbformat": 4,
  "kernelspec": {
   "name": "python3",
   "display_name": "Python 3.9.5 64-bit"
  },
  "interpreter": {
   "hash": "2647ea34e536f865ab67ff9ddee7fd78773d956cec0cab53c79b32cd10da5d83"
  }
 },
 "nbformat": 4,
 "nbformat_minor": 2,
 "cells": [
  {
   "cell_type": "code",
   "execution_count": null,
   "source": [
    "import pandas as pd\r\n",
    "import datetime\r\n",
    "import matplotlib.pyplot as plt\r\n",
    "dataset = pd.read_csv('https://storage.googleapis.com/dqlab-dataset/retail_raw_reduced.csv')\r\n",
    "dataset['order_month'] = dataset['order_date'].apply(lambda x : datetime.datetime.strptime(x, '%Y-%m-%d').strftime('%Y-%m'))\r\n",
    "dataset['gmv'] = dataset['item_price'] * dataset['quantity']\r\n",
    "plt.clf()\r\n",
    "dataset.groupby(['order_month','province'])['gmv'].sum().unstack().plot()\r\n",
    "plt.title('Monthly GMV Year 2019 - Breakdown by province',loc = 'center',pad = 30, fontsize = 20, color = 'blue')\r\n",
    "plt.xlabel('Order Month', fontsize = 15)\r\n",
    "plt.ylabel ('Total Amount (Billions)',fontsize = 15)\r\n",
    "plt.grid(color = 'darkgray', linestyle = ':', linewidth = 0.5)\r\n",
    "plt.ylim(ymin = 0)\r\n",
    "labels, locations = plt.yticks()\r\n",
    "datadki = dataset[(dataset['province']=='DKI Jakarta') & (dataset['order_month'] >= '2019-10') ]\r\n",
    "datadki.head()\r\n"
   ],
   "outputs": [],
   "metadata": {}
  },
  {
   "cell_type": "markdown",
   "source": [
    "# MEMBUAT PIE CARD"
   ],
   "metadata": {}
  },
  {
   "cell_type": "code",
   "execution_count": null,
   "source": [
    "gmv_data_dki = datadki.groupby('city')['gmv'].sum().reset_index()\r\n",
    "\r\n",
    "plt.figure(figsize = (6,6))\r\n",
    "plt.pie(gmv_data_dki['gmv'],labels=gmv_data_dki['city'],autopct='%1.2f%%')\r\n",
    "# auto pct disini fungsinya untuk menampilkan nilai dari pie\r\n",
    "plt.title('GMV Contribution per City in 2019-10',loc='center',pad=30,fontsize=20,color='red')\r\n",
    "plt.show()\r\n"
   ],
   "outputs": [],
   "metadata": {}
  },
  {
   "cell_type": "code",
   "execution_count": null,
   "source": [
    "\r\n",
    "datadki"
   ],
   "outputs": [],
   "metadata": {}
  },
  {
   "cell_type": "code",
   "execution_count": null,
   "source": [],
   "outputs": [],
   "metadata": {}
  },
  {
   "cell_type": "markdown",
   "source": [
    "# Membuat Bar"
   ],
   "metadata": {}
  },
  {
   "cell_type": "code",
   "execution_count": null,
   "source": [
    "plt.clf()\r\n",
    "#membuat menjadi value biasa\r\n",
    "# datadki.groupby(['city'])['gmv'].sum().sort_values(ascending=False).plot(kind='bar',color='green') \r\n",
    "\r\n",
    "#Membuat stacked card\r\n",
    "datadki.groupby(['city','order_month'])['gmv'].sum().unstack().plot(kind='kde')\r\n",
    "plt.title('GMV Per City - DKI Jakarta in Q4 2019',loc='center',pad=30, fontsize=15, color='blue')\r\n",
    "plt.xlabel('Province', fontsize = 15)\r\n",
    "plt.ylabel('Total Amount (in Billions)', fontsize = 15)\r\n",
    "plt.ylim(ymin=0)\r\n",
    "labels, locations = plt.yticks()\r\n",
    "plt.yticks(labels, (labels/1000000000).astype(int))\r\n",
    "plt.legend(bbox_to_anchor=(1,1),shadow=True,title='Month')\r\n",
    "plt.xticks(rotation=45)\r\n",
    "plt.tight_layout()\r\n",
    "plt.show()"
   ],
   "outputs": [],
   "metadata": {}
  },
  {
   "cell_type": "code",
   "execution_count": null,
   "source": [
    "datadki.groupby(['order_month','city'],)['gmv'].sum().sort_values(ascending=False).unstack().plot(kind='bar',stacked=True)\r\n",
    "plt.title('GMV Per Month, Breakdown by City\\nDki Jakarta Q4 2019',loc='center',pad=30,fontsize=20,color='blue')\r\n",
    "plt.xlabel('Order Month', fontsize=12)\r\n",
    "plt.ylabel('Total Mount (in Billions)', fontsize=12)\r\n",
    "plt.legend(bbox_to_anchor=(1,1),shadow=True,ncol=1,title='City')\r\n",
    "plt.ylim(ymin=0)\r\n",
    "labels, locations= plt.yticks()\r\n",
    "plt.yticks(labels, (labels/1000000000).astype(int))\r\n",
    "plt.xticks(rotation=0)\r\n",
    "plt.tight_layout()\r\n",
    "plt.show()"
   ],
   "outputs": [],
   "metadata": {}
  },
  {
   "cell_type": "markdown",
   "source": [
    "# Membuat Agregat Data Customer\r\n"
   ],
   "metadata": {}
  },
  {
   "cell_type": "code",
   "execution_count": null,
   "source": [
    "datapercustomer = datadki.groupby('customer_id').agg({'order_id':'nunique','gmv':'sum','quantity':'sum'}).rename(columns={'order_id' : 'orders'})\r\n",
    "datapercustomer.sort_values(by = 'orders',ascending=True)\r\n",
    "plt.clf()\r\n",
    "plt.figure()\r\n",
    "# plt.hist(datapercustomer['orders'],range=(1,5),color='orange')\r\n",
    "\r\n",
    "plt.hist(datapercustomer['quantity'],range=(1,200),bins=100,color='brown')\r\n",
    "plt.xlabel('Quantity', fontsize = 12)\r\n",
    "plt.ylabel('Number of Customers', fontsize = 12)\r\n",
    "\r\n",
    "plt.xlim(xmin=0, xmax=200)\r\n",
    "plt.show()"
   ],
   "outputs": [],
   "metadata": {}
  },
  {
   "cell_type": "markdown",
   "source": [
    "# Histogram dengan range yang paling besar\r\n"
   ],
   "metadata": {}
  },
  {
   "cell_type": "code",
   "execution_count": null,
   "source": [
    "\r\n",
    "plt.figure(figsize=(10,5))\r\n",
    "plt.hist(datapercustomer['gmv'],bins=100,range=(1,200000000),color='orange')\r\n",
    "plt.xlabel('GMV',fontweight='bold',color='blue')\r\n",
    "plt.ylabel('Number Customer',fontweight='bold',color='blue')\r\n",
    "labels, locations = plt.xticks()\r\n",
    "plt.xticks(labels, (labels/1000000).astype(int))\r\n",
    "plt.xlim(xmin=0, xmax=200000000)\r\n",
    "plt.show()"
   ],
   "outputs": [],
   "metadata": {}
  },
  {
   "cell_type": "code",
   "execution_count": 51,
   "source": [
    "import matplotlib.pyplot as plt\r\n",
    "plt.clf()\r\n",
    "# Scatterplot pertama\r\n",
    "plt.figure()\r\n",
    "plt.scatter(datapercustomer['quantity'], datapercustomer['gmv'])\r\n",
    "plt.show()\r\n",
    "# Scatterplot kedua: perbaikan scatterplot pertama\r\n",
    "plt.figure(figsize=(10,8))\r\n",
    "plt.scatter(datapercustomer['quantity'],datapercustomer['gmv'], marker='+', color='red')\r\n",
    "plt.title('Correlation of Quantity and GMV per Customer\\nDKI Jakarta in Q4 2019',fontsize=15, color='blue')\r\n",
    "plt.xlabel('Quantity', fontsize = 12)\r\n",
    "plt.ylabel('GMV (in Millions)',fontsize = 12)\r\n",
    "plt.xlim(xmin=0,xmax=300)\r\n",
    "plt.ylim(ymin=0,ymax=150000000)\r\n",
    "labels, locations = plt.yticks()\r\n",
    "plt.yticks(labels, (labels/1000000).astype(int))\r\n",
    "plt.show()"
   ],
   "outputs": [
    {
     "output_type": "display_data",
     "data": {
      "text/plain": [
       "<Figure size 432x288 with 0 Axes>"
      ]
     },
     "metadata": {}
    },
    {
     "output_type": "display_data",
     "data": {
      "text/plain": [
       "<Figure size 432x288 with 1 Axes>"
      ],
      "image/png": "[encoded data removed]"
     },
     "metadata": {
      "needs_background": "light"
     }
    }
   ],
   "metadata": {}
  }
 ]
}