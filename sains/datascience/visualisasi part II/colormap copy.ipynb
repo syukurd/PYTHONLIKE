{
 "metadata": {
  "language_info": {
   "codemirror_mode": {
    "name": "ipython",
    "version": 3
   },
   "file_extension": ".py",
   "mimetype": "text/x-python",
   "name": "python",
   "nbconvert_exporter": "python",
   "pygments_lexer": "ipython3",
   "version": "3.9.5"
  },
  "orig_nbformat": 4,
  "kernelspec": {
   "name": "python3",
   "display_name": "Python 3.9.5 64-bit"
  },
  "interpreter": {
   "hash": "2647ea34e536f865ab67ff9ddee7fd78773d956cec0cab53c79b32cd10da5d83"
  }
 },
 "nbformat": 4,
 "nbformat_minor": 2,
 "cells": [
  {
   "cell_type": "code",
   "execution_count": null,
   "source": [
    "import pandas as pd\r\n",
    "import datetime\r\n",
    "import matplotlib.pyplot as plt\r\n",
    "dataset = pd.read_csv('https://storage.googleapis.com/dqlab-dataset/retail_raw_reduced.csv')\r\n",
    "dataset['order_month'] = dataset['order_date'].apply(lambda x : datetime.datetime.strptime(x, '%Y-%m-%d').strftime('%Y-%m'))\r\n",
    "dataset['gmv'] = dataset['item_price'] * dataset['quantity']\r\n",
    "plt.clf()\r\n",
    "dataset.groupby(['order_month','province'])['gmv'].sum().unstack().plot()\r\n",
    "plt.title('Monthly GMV Year 2019 - Breakdown by province',loc = 'center',pad = 30, fontsize = 20, color = 'blue')\r\n",
    "plt.xlabel('Order Month', fontsize = 15)\r\n",
    "plt.ylabel ('Total Amount (Billions)',fontsize = 15)\r\n",
    "plt.grid(color = 'darkgray', linestyle = ':', linewidth = 0.5)\r\n",
    "plt.ylim(ymin = 0)\r\n",
    "labels, locations = plt.yticks()\r\n",
    "datadki = dataset[(dataset['province']=='DKI Jakarta') & (dataset['order_month'] >= '2019-10') ]\r\n",
    "datadki.head()\r\n"
   ],
   "outputs": [],
   "metadata": {}
  },
  {
   "cell_type": "markdown",
   "source": [
    "# MEMBUAT PIE CARD"
   ],
   "metadata": {}
  },
  {
   "cell_type": "code",
   "execution_count": null,
   "source": [
    "gmv_data_dki = datadki.groupby('city')['gmv'].sum().reset_index()\r\n",
    "\r\n",
    "plt.figure(figsize = (6,6))\r\n",
    "plt.pie(gmv_data_dki['gmv'],labels=gmv_data_dki['city'],autopct='%1.2f%%')\r\n",
    "# auto pct disini fungsinya untuk menampilkan nilai dari pie\r\n",
    "plt.title('GMV Contribution per City in 2019-10',loc='center',pad=30,fontsize=20,color='red')\r\n",
    "plt.show()\r\n"
   ],
   "outputs": [],
   "metadata": {}
  },
  {
   "cell_type": "code",
   "execution_count": null,
   "source": [
    "\r\n",
    "datadki"
   ],
   "outputs": [],
   "metadata": {}
  },
  {
   "cell_type": "code",
   "execution_count": null,
   "source": [],
   "outputs": [],
   "metadata": {}
  },
  {
   "cell_type": "markdown",
   "source": [
    "# Membuat Bar"
   ],
   "metadata": {}
  },
  {
   "cell_type": "code",
   "execution_count": null,
   "source": [
    "plt.clf()\r\n",
    "#membuat menjadi value biasa\r\n",
    "# datadki.groupby(['city'])['gmv'].sum().sort_values(ascending=False).plot(kind='bar',color='green') \r\n",
    "\r\n",
    "#Membuat stacked card\r\n",
    "datadki.groupby(['city','order_month'])['gmv'].sum().unstack().plot(kind='kde')\r\n",
    "plt.title('GMV Per City - DKI Jakarta in Q4 2019',loc='center',pad=30, fontsize=15, color='blue')\r\n",
    "plt.xlabel('Province', fontsize = 15)\r\n",
    "plt.ylabel('Total Amount (in Billions)', fontsize = 15)\r\n",
    "plt.ylim(ymin=0)\r\n",
    "labels, locations = plt.yticks()\r\n",
    "plt.yticks(labels, (labels/1000000000).astype(int))\r\n",
    "plt.legend(bbox_to_anchor=(1,1),shadow=True,title='Month')\r\n",
    "plt.xticks(rotation=45)\r\n",
    "plt.tight_layout()\r\n",
    "plt.show()"
   ],
   "outputs": [],
   "metadata": {}
  },
  {
   "cell_type": "code",
   "execution_count": null,
   "source": [
    "datadki.groupby(['order_month','city'],)['gmv'].sum().sort_values(ascending=False).unstack().plot(kind='bar',stacked=True)\r\n",
    "plt.title('GMV Per Month, Breakdown by City\\nDki Jakarta Q4 2019',loc='center',pad=30,fontsize=20,color='blue')\r\n",
    "plt.xlabel('Order Month', fontsize=12)\r\n",
    "plt.ylabel('Total Mount (in Billions)', fontsize=12)\r\n",
    "plt.legend(bbox_to_anchor=(1,1),shadow=True,ncol=1,title='City')\r\n",
    "plt.ylim(ymin=0)\r\n",
    "labels, locations= plt.yticks()\r\n",
    "plt.yticks(labels, (labels/1000000000).astype(int))\r\n",
    "plt.xticks(rotation=0)\r\n",
    "plt.tight_layout()\r\n",
    "plt.show()"
   ],
   "outputs": [],
   "metadata": {}
  },
  {
   "cell_type": "markdown",
   "source": [
    "# Membuat Agregat Data Customer\r\n"
   ],
   "metadata": {}
  },
  {
   "cell_type": "code",
   "execution_count": 13,
   "source": [
    "datapercustomer = datadki.groupby('customer_id').agg({'order_id':'nunique','gmv':'sum','quantity':'sum'}).rename(columns={'order_id' : 'orders'})\r\n",
    "datapercustomer.sort_values(by = 'orders',ascending=True)"
   ],
   "outputs": [
    {
     "output_type": "execute_result",
     "data": {
      "text/plain": [
       "             orders        gmv  quantity\n",
       "customer_id                             \n",
       "12748            29  175286000       557\n",
       "17841            26  144788000       270\n",
       "14606            13   20714000        25\n",
       "13089             8   93554000       166\n",
       "16549             8   22714000        29\n",
       "...             ...        ...       ...\n",
       "15154             1    2689000         4\n",
       "15148             1    5400000        12\n",
       "15121             1    2424000         8\n",
       "15117             1    3494000         1\n",
       "15975             1   25410000        42\n",
       "\n",
       "[711 rows x 3 columns]"
      ],
      "text/html": [
       "<div>\n",
       "<style scoped>\n",
       "    .dataframe tbody tr th:only-of-type {\n",
       "        vertical-align: middle;\n",
       "    }\n",
       "\n",
       "    .dataframe tbody tr th {\n",
       "        vertical-align: top;\n",
       "    }\n",
       "\n",
       "    .dataframe thead th {\n",
       "        text-align: right;\n",
       "    }\n",
       "</style>\n",
       "<table border=\"1\" class=\"dataframe\">\n",
       "  <thead>\n",
       "    <tr style=\"text-align: right;\">\n",
       "      <th></th>\n",
       "      <th>orders</th>\n",
       "      <th>gmv</th>\n",
       "      <th>quantity</th>\n",
       "    </tr>\n",
       "    <tr>\n",
       "      <th>customer_id</th>\n",
       "      <th></th>\n",
       "      <th></th>\n",
       "      <th></th>\n",
       "    </tr>\n",
       "  </thead>\n",
       "  <tbody>\n",
       "    <tr>\n",
       "      <th>12748</th>\n",
       "      <td>29</td>\n",
       "      <td>175286000</td>\n",
       "      <td>557</td>\n",
       "    </tr>\n",
       "    <tr>\n",
       "      <th>17841</th>\n",
       "      <td>26</td>\n",
       "      <td>144788000</td>\n",
       "      <td>270</td>\n",
       "    </tr>\n",
       "    <tr>\n",
       "      <th>14606</th>\n",
       "      <td>13</td>\n",
       "      <td>20714000</td>\n",
       "      <td>25</td>\n",
       "    </tr>\n",
       "    <tr>\n",
       "      <th>13089</th>\n",
       "      <td>8</td>\n",
       "      <td>93554000</td>\n",
       "      <td>166</td>\n",
       "    </tr>\n",
       "    <tr>\n",
       "      <th>16549</th>\n",
       "      <td>8</td>\n",
       "      <td>22714000</td>\n",
       "      <td>29</td>\n",
       "    </tr>\n",
       "    <tr>\n",
       "      <th>...</th>\n",
       "      <td>...</td>\n",
       "      <td>...</td>\n",
       "      <td>...</td>\n",
       "    </tr>\n",
       "    <tr>\n",
       "      <th>15154</th>\n",
       "      <td>1</td>\n",
       "      <td>2689000</td>\n",
       "      <td>4</td>\n",
       "    </tr>\n",
       "    <tr>\n",
       "      <th>15148</th>\n",
       "      <td>1</td>\n",
       "      <td>5400000</td>\n",
       "      <td>12</td>\n",
       "    </tr>\n",
       "    <tr>\n",
       "      <th>15121</th>\n",
       "      <td>1</td>\n",
       "      <td>2424000</td>\n",
       "      <td>8</td>\n",
       "    </tr>\n",
       "    <tr>\n",
       "      <th>15117</th>\n",
       "      <td>1</td>\n",
       "      <td>3494000</td>\n",
       "      <td>1</td>\n",
       "    </tr>\n",
       "    <tr>\n",
       "      <th>15975</th>\n",
       "      <td>1</td>\n",
       "      <td>25410000</td>\n",
       "      <td>42</td>\n",
       "    </tr>\n",
       "  </tbody>\n",
       "</table>\n",
       "<p>711 rows × 3 columns</p>\n",
       "</div>"
      ]
     },
     "metadata": {},
     "execution_count": 13
    }
   ],
   "metadata": {}
  }
 ]
}