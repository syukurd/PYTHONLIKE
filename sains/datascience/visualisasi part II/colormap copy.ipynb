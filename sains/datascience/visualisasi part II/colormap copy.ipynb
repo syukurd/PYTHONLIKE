{
 "metadata": {
  "language_info": {
   "codemirror_mode": {
    "name": "ipython",
    "version": 3
   },
   "file_extension": ".py",
   "mimetype": "text/x-python",
   "name": "python",
   "nbconvert_exporter": "python",
   "pygments_lexer": "ipython3",
   "version": "3.9.5"
  },
  "orig_nbformat": 4,
  "kernelspec": {
   "name": "python3",
   "display_name": "Python 3.9.5 64-bit"
  },
  "interpreter": {
   "hash": "2647ea34e536f865ab67ff9ddee7fd78773d956cec0cab53c79b32cd10da5d83"
  }
 },
 "nbformat": 4,
 "nbformat_minor": 2,
 "cells": [
  {
   "cell_type": "code",
   "execution_count": null,
   "source": [
    "import pandas as pd\r\n",
    "import datetime\r\n",
    "import matplotlib.pyplot as plt\r\n",
    "dataset = pd.read_csv('https://storage.googleapis.com/dqlab-dataset/retail_raw_reduced.csv')\r\n",
    "dataset['order_month'] = dataset['order_date'].apply(lambda x : datetime.datetime.strptime(x, '%Y-%m-%d').strftime('%Y-%m'))\r\n",
    "dataset['gmv'] = dataset['item_price'] * dataset['quantity']\r\n",
    "plt.clf()\r\n",
    "dataset.groupby(['order_month','province'])['gmv'].sum().unstack().plot()\r\n",
    "plt.title('Monthly GMV Year 2019 - Breakdown by province',loc = 'center',pad = 30, fontsize = 20, color = 'blue')\r\n",
    "plt.xlabel('Order Month', fontsize = 15)\r\n",
    "plt.ylabel ('Total Amount (Billions)',fontsize = 15)\r\n",
    "plt.grid(color = 'darkgray', linestyle = ':', linewidth = 0.5)\r\n",
    "plt.ylim(ymin = 0)\r\n",
    "labels, locations = plt.yticks()\r\n",
    "datadki = dataset[(dataset['province']=='DKI Jakarta') & (dataset['order_month'] >= '2019-10') ]\r\n",
    "datadki.head()\r\n"
   ],
   "outputs": [],
   "metadata": {}
  },
  {
   "cell_type": "markdown",
   "source": [
    "# Mini Quis"
   ],
   "metadata": {}
  },
  {
   "cell_type": "code",
   "execution_count": null,
   "source": [
    "import matplotlib.pyplot as plt\r\n",
    "top_brands = (dataset[dataset['order_month']=='2019-12'].groupby('brand')['quantity']\r\n",
    "                .sum()\r\n",
    "                .reset_index()\r\n",
    "                .sort_values(by='quantity',ascending=False)\r\n",
    "                .head(5))\r\n",
    "dataset_top5brand_dec = dataset[(dataset['order_month' ]== '2019-12') & (dataset['brand'].isin(top_brands['brand'].to_list()))]\r\n",
    "\r\n",
    "dataset_top5brand_dec.groupby(['order_date','brand'])['quantity'].sum().unstack().plot(marker='.', cmap='plasma')\r\n",
    "plt.title('Daily Sold Quantity Dec 2019 - Breakdown by Brands',loc='center',pad=30, fontsize=15, color='blue')\r\n",
    "plt.xlabel('Order Date', fontsize = 12)\r\n",
    "plt.ylabel('Quantity',fontsize = 12)\r\n",
    "plt.grid(color='darkgray', linestyle=':', linewidth=0.5)\r\n",
    "plt.ylim(ymin=0)\r\n",
    "plt.legend(loc='upper center', bbox_to_anchor=(1.1, 1), shadow=True, ncol=1)\r\n",
    "plt.annotate('Terjadi lonjakan', xy=(7, 310), xytext=(8, 300),\r\n",
    "             weight='bold', color='red',\r\n",
    "             arrowprops=dict(arrowstyle='->',\r\n",
    "                             connectionstyle=\"arc3\",\r\n",
    "                             color='red'))\r\n",
    "plt.gcf().set_size_inches(10,5)\r\n",
    "plt.tight_layout()\r\n",
    "plt.show()\r\n",
    "\r\n"
   ],
   "outputs": [],
   "metadata": {}
  },
  {
   "cell_type": "code",
   "execution_count": null,
   "source": [
    "# Stacked chart Penjulan produk diatas 100 dan dibawah 100 selama Desember 2019\r\n",
    "\r\n",
    "\r\n",
    "import matplotlib.pyplot as plt\r\n",
    "#membuat dataframe baru, untuk agregat jumlah quantity terjual per product\r\n",
    "dataset_top5brand_dec_per_product = dataset_top5brand_dec.groupby(['brand','product_id'])['quantity'].sum().reset_index()\r\n",
    "\r\n",
    "#beri kolom baru untuk menandai product yang terjual >= 100 dan <100\r\n",
    "dataset_top5brand_dec_per_product['quantity_group'] = dataset_top5brand_dec_per_product['quantity'].apply(lambda x: '>= 100' if x>=100 else '< 100')\r\n",
    "dataset_top5brand_dec_per_product.sort_values('quantity',ascending=False,inplace=True)\r\n",
    "\r\n",
    "#membuat referensi pengurutan brand berdasarkan banyaknya semua product\r\n",
    "s_sort = dataset_top5brand_dec_per_product.groupby('brand')['product_id'].nunique().sort_values(ascending=False)\r\n",
    "\r\n",
    "#plot stacked barchart\r\n",
    "dataset_top5brand_dec_per_product.groupby(['brand','quantity_group'])['product_id'].nunique().reindex(index=s_sort.index, level='brand').unstack().plot(kind='bar', stacked=True)\r\n",
    "plt.title('Number of Sold Products per Brand, December 2019',loc='center',pad=30, fontsize=15, color='blue')\r\n",
    "plt.xlabel('Brand', fontsize = 15)\r\n",
    "plt.ylabel('Number of Products',fontsize = 15)\r\n",
    "plt.ylim(ymin=0)\r\n",
    "plt.xticks(rotation=0)\r\n",
    "plt.show()"
   ],
   "outputs": [],
   "metadata": {}
  },
  {
   "cell_type": "markdown",
   "source": [
    "# Mini Quis case 5 - Membuat Histogram"
   ],
   "metadata": {}
  },
  {
   "cell_type": "code",
   "execution_count": null,
   "source": [
    "import matplotlib.pyplot as plt\r\n",
    "plt.figure(figsize=(10,5))\r\n",
    "plt.hist(dataset_top5brand_dec.groupby('product_id')['item_price'].median(), bins=10, stacked=True, range=(1,2000000), color='green')\r\n",
    "plt.title('Distribution of Price Median per Product\\nTop 5 Brands in Dec 2019',fontsize=15, color='blue')\r\n",
    "plt.xlabel('Price Median', fontsize = 12)\r\n",
    "plt.ylabel('Number of Products',fontsize = 12)\r\n",
    "plt.xlim(xmin=0,xmax=2000000)\r\n",
    "plt.show()"
   ],
   "outputs": [],
   "metadata": {}
  },
  {
   "cell_type": "markdown",
   "source": [],
   "metadata": {}
  },
  {
   "cell_type": "markdown",
   "source": [
    "# Case 6a - Membuat korelasi gmv vs quantity"
   ],
   "metadata": {}
  },
  {
   "cell_type": "markdown",
   "source": [],
   "metadata": {}
  },
  {
   "cell_type": "code",
   "execution_count": null,
   "source": [
    "import matplotlib.pyplot as plt\r\n",
    "#agregat per product\r\n",
    "data_per_product_top5brand_dec = dataset_top5brand_dec.groupby('product_id').agg({'quantity': 'sum', 'gmv':'sum', 'item_price':'median'}).reset_index()\r\n",
    "\r\n",
    "#scatter plot\r\n",
    "plt.figure(figsize=(10,8))\r\n",
    "plt.scatter(data_per_product_top5brand_dec['quantity'],data_per_product_top5brand_dec['gmv'], marker='+', color='red')\r\n",
    "plt.title('Correlation of Quantity and GMV per Product\\nTop 5 Brands in December 2019',fontsize=15, color='blue')\r\n",
    "plt.xlabel('Quantity', fontsize = 12)\r\n",
    "plt.ylabel('GMV (in Millions)',fontsize = 12)\r\n",
    "plt.xlim(xmin=0,xmax=300)\r\n",
    "plt.ylim(ymin=0,ymax=200000000)\r\n",
    "labels, locations = plt.yticks()\r\n",
    "plt.yticks(labels, (labels/1000000).astype(int))\r\n",
    "plt.show()"
   ],
   "outputs": [],
   "metadata": {}
  },
  {
   "cell_type": "markdown",
   "source": [
    "# Mini Quis case 6b korelasi median harga vs quantity"
   ],
   "metadata": {}
  },
  {
   "cell_type": "code",
   "execution_count": null,
   "source": [
    "import matplotlib.pyplot as plt\r\n",
    "plt.clf()\r\n",
    "#agregat per product\r\n",
    "data_per_product_top5brand_dec = dataset_top5brand_dec.groupby('product_id').agg({'quantity': 'sum', 'gmv':'sum', 'item_price':'median'}).reset_index()\r\n",
    "\r\n",
    "#scatter plot\r\n",
    "plt.figure(figsize=(10,8))\r\n",
    "plt.scatter(data_per_product_top5brand_dec['item_price'],data_per_product_top5brand_dec['quantity'], marker='o', color='green')\r\n",
    "plt.title('Correlation of Quantity and GMV per Product\\nTop 5 Brands in December 2019',fontsize=15, color='blue')\r\n",
    "plt.xlabel('Price Median', fontsize = 12)\r\n",
    "plt.ylabel('Quantity',fontsize = 12)\r\n",
    "plt.xlim(xmin=0,xmax=2000000)\r\n",
    "plt.ylim(ymin=0,ymax=250)\r\n",
    "plt.show()"
   ],
   "outputs": [],
   "metadata": {}
  },
  {
   "cell_type": "code",
   "execution_count": null,
   "source": [
    "import matplotlib.pyplot as plt\r\n",
    "plt.clf()\r\n",
    "dataset_top5brand_dec.groupby('brand')['product_id'].nunique().sort_values(ascending=False).plot(kind='bar', color='green')\r\n",
    "plt.title('Number of Sold Product per Brand, December 2019',loc='center',pad=30, fontsize=15, color='blue')\r\n",
    "plt.xlabel('Brand', fontsize = 15)\r\n",
    "plt.ylabel('Number of Product',fontsize = 15)\r\n",
    "plt.ylim(ymin=0)\r\n",
    "plt.xticks(rotation=0)\r\n",
    "plt.show()"
   ],
   "outputs": [],
   "metadata": {}
  },
  {
   "cell_type": "code",
   "execution_count": null,
   "source": [
    "#membuat dataframe baru, untuk agregat jumlah quantity terjual per product\r\n",
    "top5dataset = dataset_top5brand_dec.groupby(['brand','product_id'])['quantity'].sum().reset_index()\r\n",
    "\r\n",
    "#beri kolom baru untuk menandai product yang terjual >= 100 dan <100\r\n",
    "top5dataset['quantity group'] = top5dataset['quantity'].apply(lambda x : '>=100' if  x >=100 else  '< 100')\r\n",
    "top5dataset.sort_values('quantity', ascending =False,)\r\n",
    "\r\n"
   ],
   "outputs": [],
   "metadata": {}
  },
  {
   "cell_type": "code",
   "execution_count": null,
   "source": [
    "dataset_top5brand_dec\r\n"
   ],
   "outputs": [],
   "metadata": {}
  },
  {
   "cell_type": "code",
   "execution_count": null,
   "source": [
    "top = (dataset[(dataset['order_month' == '2019-12'])()])"
   ],
   "outputs": [],
   "metadata": {}
  },
  {
   "cell_type": "markdown",
   "source": [
    "# MEMBUAT PIE CARD"
   ],
   "metadata": {}
  },
  {
   "cell_type": "code",
   "execution_count": null,
   "source": [
    "gmv_data_dki = datadki.groupby('city')['gmv'].sum().reset_index()\r\n",
    "\r\n",
    "plt.figure(figsize = (6,6))\r\n",
    "plt.pie(gmv_data_dki['gmv'],labels=gmv_data_dki['city'],autopct='%1.2f%%')\r\n",
    "# auto pct disini fungsinya untuk menampilkan nilai dari pie\r\n",
    "plt.title('GMV Contribution per City in 2019-10',loc='center',pad=30,fontsize=20,color='red')\r\n",
    "plt.show()\r\n"
   ],
   "outputs": [],
   "metadata": {}
  },
  {
   "cell_type": "code",
   "execution_count": null,
   "source": [
    "\r\n",
    "datadki"
   ],
   "outputs": [],
   "metadata": {}
  },
  {
   "cell_type": "code",
   "execution_count": null,
   "source": [],
   "outputs": [],
   "metadata": {}
  },
  {
   "cell_type": "markdown",
   "source": [
    "# Membuat Bar"
   ],
   "metadata": {}
  },
  {
   "cell_type": "code",
   "execution_count": null,
   "source": [
    "plt.clf()\r\n",
    "#membuat menjadi value biasa\r\n",
    "# datadki.groupby(['city'])['gmv'].sum().sort_values(ascending=False).plot(kind='bar',color='green') \r\n",
    "\r\n",
    "#Membuat stacked card\r\n",
    "datadki.groupby(['city','order_month'])['gmv'].sum().unstack().plot(kind='kde')\r\n",
    "plt.title('GMV Per City - DKI Jakarta in Q4 2019',loc='center',pad=30, fontsize=15, color='blue')\r\n",
    "plt.xlabel('Province', fontsize = 15)\r\n",
    "plt.ylabel('Total Amount (in Billions)', fontsize = 15)\r\n",
    "plt.ylim(ymin=0)\r\n",
    "labels, locations = plt.yticks()\r\n",
    "plt.yticks(labels, (labels/1000000000).astype(int))\r\n",
    "plt.legend(bbox_to_anchor=(1,1),shadow=True,title='Month')\r\n",
    "plt.xticks(rotation=45)\r\n",
    "plt.tight_layout()\r\n",
    "plt.show()"
   ],
   "outputs": [],
   "metadata": {}
  },
  {
   "cell_type": "code",
   "execution_count": null,
   "source": [
    "datadki.groupby(['order_month','city'],)['gmv'].sum().sort_values(ascending=False).unstack().plot(kind='bar',stacked=True)\r\n",
    "plt.title('GMV Per Month, Breakdown by City\\nDki Jakarta Q4 2019',loc='center',pad=30,fontsize=20,color='blue')\r\n",
    "plt.xlabel('Order Month', fontsize=12)\r\n",
    "plt.ylabel('Total Mount (in Billions)', fontsize=12)\r\n",
    "plt.legend(bbox_to_anchor=(1,1),shadow=True,ncol=1,title='City')\r\n",
    "plt.ylim(ymin=0)\r\n",
    "labels, locations= plt.yticks()\r\n",
    "plt.yticks(labels, (labels/1000000000).astype(int))\r\n",
    "plt.xticks(rotation=0)\r\n",
    "plt.tight_layout()\r\n",
    "plt.show()"
   ],
   "outputs": [],
   "metadata": {}
  },
  {
   "cell_type": "markdown",
   "source": [
    "# Membuat Agregat Data Customer\r\n"
   ],
   "metadata": {}
  },
  {
   "cell_type": "code",
   "execution_count": null,
   "source": [
    "datapercustomer = datadki.groupby('customer_id').agg({'order_id':'nunique','gmv':'sum','quantity':'sum'}).rename(columns={'order_id' : 'orders'})\r\n",
    "datapercustomer.sort_values(by = 'orders',ascending=True)\r\n",
    "plt.clf()\r\n",
    "plt.figure()\r\n",
    "# plt.hist(datapercustomer['orders'],range=(1,5),color='orange')\r\n",
    "\r\n",
    "plt.hist(datapercustomer['quantity'],range=(1,200),bins=100,color='brown')\r\n",
    "plt.xlabel('Quantity', fontsize = 12)\r\n",
    "plt.ylabel('Number of Customers', fontsize = 12)\r\n",
    "\r\n",
    "plt.xlim(xmin=0, xmax=200)\r\n",
    "plt.show()"
   ],
   "outputs": [],
   "metadata": {}
  },
  {
   "cell_type": "markdown",
   "source": [
    "# Histogram dengan range yang paling besar\r\n"
   ],
   "metadata": {}
  },
  {
   "cell_type": "code",
   "execution_count": null,
   "source": [
    "\r\n",
    "plt.figure(figsize=(10,5))\r\n",
    "plt.hist(datapercustomer['gmv'],bins=100,range=(1,200000000),color='orange')\r\n",
    "plt.xlabel('GMV',fontweight='bold',color='blue')\r\n",
    "plt.ylabel('Number Customer',fontweight='bold',color='blue')\r\n",
    "labels, locations = plt.xticks()\r\n",
    "plt.xticks(labels, (labels/1000000).astype(int))\r\n",
    "plt.xlim(xmin=0, xmax=200000000)\r\n",
    "plt.show()"
   ],
   "outputs": [],
   "metadata": {}
  },
  {
   "cell_type": "code",
   "execution_count": null,
   "source": [
    "import matplotlib.pyplot as plt\r\n",
    "plt.clf()\r\n",
    "# Scatterplot pertama\r\n",
    "plt.figure()\r\n",
    "plt.scatter(datapercustomer['quantity'], datapercustomer['gmv'])\r\n",
    "plt.show()\r\n",
    "# Scatterplot kedua: perbaikan scatterplot pertama\r\n",
    "plt.figure(figsize=(10,8))\r\n",
    "plt.scatter(datapercustomer['quantity'],datapercustomer['gmv'], marker='+', color='red')\r\n",
    "plt.title('Correlation of Quantity and GMV per Customer\\nDKI Jakarta in Q4 2019',fontsize=15, color='blue')\r\n",
    "plt.xlabel('Quantity', fontsize = 12)\r\n",
    "plt.ylabel('GMV (in Millions)',fontsize = 12)\r\n",
    "plt.xlim(xmin=0,xmax=300)\r\n",
    "plt.ylim(ymin=0,ymax=150000000)\r\n",
    "labels, locations = plt.yticks()\r\n",
    "plt.yticks(labels, (labels/1000000).astype(int))\r\n",
    "plt.show()"
   ],
   "outputs": [],
   "metadata": {}
  }
 ]
}