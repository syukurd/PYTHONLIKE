{
 "cells": [
  {
   "cell_type": "code",
   "execution_count": null,
   "source": [
    "import pandas as pd\r\n",
    "raw_data = pd.read_csv(\"https://storage.googleapis.com/dqlab-dataset/dataset_statistic.csv\", sep=';')\r\n",
    "\r\n",
    "# melihat dimensi dari raw_data\r\n",
    "print (raw_data.shape)\r\n",
    "\r\n",
    "# mengambil jumlah data\r\n",
    "print (raw_data.shape[0])"
   ],
   "outputs": [],
   "metadata": {}
  },
  {
   "cell_type": "code",
   "execution_count": null,
   "source": [
    "print(raw_data.columns)"
   ],
   "outputs": [],
   "metadata": {}
  },
  {
   "cell_type": "code",
   "execution_count": null,
   "source": [
    "# Melihat data yang hilang\r\n",
    "print(raw_data.isna())\r\n",
    "#hitung data yang menggunakan method isna\r\n",
    "print(raw_data.isna().sum())"
   ],
   "outputs": [],
   "metadata": {}
  },
  {
   "cell_type": "code",
   "execution_count": null,
   "source": [
    "import pandas as pd\r\n",
    "raw_data = pd.read_csv(\"https://storage.googleapis.com/dqlab-dataset/dataset_statistic.csv\", sep=';')\r\n",
    "\r\n",
    "print (raw_data.describe())\r\n",
    "\r\n",
    "# Mencari nilai maksimum dari tiap kolom\r\n",
    "raw_data.max()\r\n",
    " \r\n",
    "# Mencari nilai maksimum dari kolom 'Harga'\r\n",
    "raw_data['Harga'].max()\r\n",
    " \r\n",
    "# Mencari nilai minimum dari kolom 'Harga'\r\n",
    "raw_data['Harga'].min()"
   ],
   "outputs": [],
   "metadata": {}
  },
  {
   "cell_type": "code",
   "execution_count": null,
   "source": [
    "raw_data.sum(numeric_only=True)"
   ],
   "outputs": [],
   "metadata": {}
  },
  {
   "cell_type": "code",
   "execution_count": null,
   "source": [
    "raw_data.columns"
   ],
   "outputs": [],
   "metadata": {}
  },
  {
   "cell_type": "code",
   "execution_count": null,
   "source": [
    "raw_data[:10]"
   ],
   "outputs": [],
   "metadata": {}
  },
  {
   "cell_type": "code",
   "execution_count": null,
   "source": [
    "import pandas as pd\r\n",
    "raw_data = pd.read_csv(\"https://storage.googleapis.com/dqlab-dataset/dataset_statistic.csv\", sep=';')\r\n",
    "\r\n",
    "# mengambil data dari baris ke-0 sampai baris ke-(10-1) atau baris ke-9\r\n",
    "print(raw_data[:10])\r\n",
    " \r\n",
    "# mengambil data dari baris ke-3 sampai baris ke-(5-1) atau baris ke-4\r\n",
    "print(raw_data[3:5])\r\n",
    " \r\n",
    "# mengambil data pada baris ke-1, ke-3 dan ke-10\r\n",
    "print(raw_data.loc[[1,3,10]])\r\n",
    "\r\n",
    "# Mengambil kolom 'Jenis Kelamin' dan 'Pendapatan' dan ambil baris ke-1 sampai ke-9\r\n",
    "print(raw_data[['Jenis Kelamin', 'Pendapatan']][1:10])\r\n",
    " \r\n",
    "# Mengambil kolom 'Harga' dan 'Tingkat Kepuasan' dan ambil baris ke-1, ke-10 dan ke-15\r\n",
    "print(raw_data[['Harga', 'Tingkat Kepuasan']].loc[[1,10,15]]) "
   ],
   "outputs": [],
   "metadata": {}
  },
  {
   "cell_type": "code",
   "execution_count": null,
   "source": [
    "import numpy as np\r\n",
    "import pandas as pd\r\n",
    "raw_data = pd.read_csv(\"https://storage.googleapis.com/dqlab-dataset/dataset_statistic.csv\", sep=';')\r\n",
    "\r\n",
    "# mengambil hanya data untuk produk 'A'\r\n",
    "produk_A = raw_data[raw_data['Produk'] == 'A']\r\n",
    " \r\n",
    "# menghitung rerata pendapatan menggunakan method .mean pada objek pandas DataFrame\r\n",
    "print (produk_A['Pendapatan'].mean())\r\n",
    " \r\n",
    "# menghitung rerata pendapatan menggunakan method .mean pada objek pandas DataFrame dengan numpy\r\n",
    "print (np.mean(produk_A['Pendapatan']))"
   ],
   "outputs": [],
   "metadata": {}
  },
  {
   "cell_type": "code",
   "execution_count": null,
   "source": [
    "# Hitung median dari pendapatan menggunakan pandas\r\n",
    "print(produk_A['Pendapatan'].median())\r\n",
    " \r\n",
    "# Hitung median dari pendapatan menggunakan numpy\r\n",
    "print(np.median(produk_A['Pendapatan']))"
   ],
   "outputs": [],
   "metadata": {}
  },
  {
   "cell_type": "code",
   "execution_count": 35,
   "source": [
    "import pandas as pd\r\n",
    "raw_data = pd.read_csv(\"https://storage.googleapis.com/dqlab-dataset/dataset_statistic.csv\", sep=';')\r\n",
    "\r\n",
    "# Melihat jumlah dari masing-masing produk\r\n",
    "print(raw_data['Produk'].value_counts())"
   ],
   "outputs": [
    {
     "output_type": "execute_result",
     "data": {
      "text/plain": [
       "800000     4\n",
       "600000     3\n",
       "950000     3\n",
       "1200000    3\n",
       "400000     2\n",
       "6450000    1\n",
       "1700000    1\n",
       "1100000    1\n",
       "700000     1\n",
       "1000000    1\n",
       "Name: Pendapatan, dtype: int64"
      ]
     },
     "metadata": {},
     "execution_count": 35
    }
   ],
   "metadata": {}
  }
 ],
 "metadata": {
  "orig_nbformat": 4,
  "language_info": {
   "name": "python",
   "version": "3.9.5",
   "mimetype": "text/x-python",
   "codemirror_mode": {
    "name": "ipython",
    "version": 3
   },
   "pygments_lexer": "ipython3",
   "nbconvert_exporter": "python",
   "file_extension": ".py"
  },
  "kernelspec": {
   "name": "python3",
   "display_name": "Python 3.9.5 64-bit"
  },
  "interpreter": {
   "hash": "2647ea34e536f865ab67ff9ddee7fd78773d956cec0cab53c79b32cd10da5d83"
  }
 },
 "nbformat": 4,
 "nbformat_minor": 2
}