{
 "cells": [
  {
   "cell_type": "code",
   "execution_count": null,
   "source": [
    "import pandas as pd\r\n",
    "raw_data = pd.read_csv(\"https://storage.googleapis.com/dqlab-dataset/dataset_statistic.csv\", sep=';')\r\n",
    "\r\n",
    "# melihat dimensi dari raw_data\r\n",
    "print (raw_data.shape)\r\n",
    "\r\n",
    "# mengambil jumlah data\r\n",
    "print (raw_data.shape[0])"
   ],
   "outputs": [],
   "metadata": {}
  },
  {
   "cell_type": "code",
   "execution_count": null,
   "source": [
    "print(raw_data.columns)"
   ],
   "outputs": [],
   "metadata": {}
  },
  {
   "cell_type": "code",
   "execution_count": null,
   "source": [
    "# Melihat data yang hilang\r\n",
    "print(raw_data.isna())\r\n",
    "#hitung data yang menggunakan method isna\r\n",
    "print(raw_data.isna().sum())"
   ],
   "outputs": [],
   "metadata": {}
  },
  {
   "cell_type": "code",
   "execution_count": null,
   "source": [
    "import pandas as pd\r\n",
    "raw_data = pd.read_csv(\"https://storage.googleapis.com/dqlab-dataset/dataset_statistic.csv\", sep=';')\r\n",
    "\r\n",
    "print (raw_data.describe())\r\n",
    "\r\n",
    "# Mencari nilai maksimum dari tiap kolom\r\n",
    "raw_data.max()\r\n",
    " \r\n",
    "# Mencari nilai maksimum dari kolom 'Harga'\r\n",
    "raw_data['Harga'].max()\r\n",
    " \r\n",
    "# Mencari nilai minimum dari kolom 'Harga'\r\n",
    "raw_data['Harga'].min()"
   ],
   "outputs": [],
   "metadata": {}
  }
 ],
 "metadata": {
  "orig_nbformat": 4,
  "language_info": {
   "name": "python",
   "version": "3.9.5",
   "mimetype": "text/x-python",
   "codemirror_mode": {
    "name": "ipython",
    "version": 3
   },
   "pygments_lexer": "ipython3",
   "nbconvert_exporter": "python",
   "file_extension": ".py"
  },
  "kernelspec": {
   "name": "python3",
   "display_name": "Python 3.9.5 64-bit"
  },
  "interpreter": {
   "hash": "2647ea34e536f865ab67ff9ddee7fd78773d956cec0cab53c79b32cd10da5d83"
  }
 },
 "nbformat": 4,
 "nbformat_minor": 2
}