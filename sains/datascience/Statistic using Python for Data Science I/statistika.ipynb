{
 "cells": [
  {
   "cell_type": "code",
   "execution_count": null,
   "source": [
    "import pandas as pd\r\n",
    "raw_data = pd.read_csv(\"https://storage.googleapis.com/dqlab-dataset/dataset_statistic.csv\", sep=';')\r\n",
    "\r\n",
    "# melihat dimensi dari raw_data\r\n",
    "print (raw_data.shape)\r\n",
    "\r\n",
    "# mengambil jumlah data\r\n",
    "print (raw_data.shape[0])"
   ],
   "outputs": [],
   "metadata": {}
  },
  {
   "cell_type": "code",
   "execution_count": null,
   "source": [
    "print(raw_data.columns)"
   ],
   "outputs": [],
   "metadata": {}
  },
  {
   "cell_type": "code",
   "execution_count": null,
   "source": [
    "# Melihat data yang hilang\r\n",
    "print(raw_data.isna())\r\n",
    "#hitung data yang menggunakan method isna\r\n",
    "print(raw_data.isna().sum())"
   ],
   "outputs": [],
   "metadata": {}
  },
  {
   "cell_type": "code",
   "execution_count": null,
   "source": [
    "import pandas as pd\r\n",
    "raw_data = pd.read_csv(\"https://storage.googleapis.com/dqlab-dataset/dataset_statistic.csv\", sep=';')\r\n",
    "\r\n",
    "print (raw_data.describe())\r\n",
    "\r\n",
    "# Mencari nilai maksimum dari tiap kolom\r\n",
    "raw_data.max()\r\n",
    " \r\n",
    "# Mencari nilai maksimum dari kolom 'Harga'\r\n",
    "raw_data['Harga'].max()\r\n",
    " \r\n",
    "# Mencari nilai minimum dari kolom 'Harga'\r\n",
    "raw_data['Harga'].min()"
   ],
   "outputs": [],
   "metadata": {}
  },
  {
   "cell_type": "code",
   "execution_count": null,
   "source": [
    "raw_data.sum(numeric_only=True)"
   ],
   "outputs": [],
   "metadata": {}
  },
  {
   "cell_type": "code",
   "execution_count": null,
   "source": [
    "raw_data.columns"
   ],
   "outputs": [],
   "metadata": {}
  },
  {
   "cell_type": "code",
   "execution_count": null,
   "source": [
    "raw_data[:10]"
   ],
   "outputs": [],
   "metadata": {}
  },
  {
   "cell_type": "code",
   "execution_count": 15,
   "source": [
    "import pandas as pd\r\n",
    "raw_data = pd.read_csv(\"https://storage.googleapis.com/dqlab-dataset/dataset_statistic.csv\", sep=';')\r\n",
    "\r\n",
    "# mengambil data dari baris ke-0 sampai baris ke-(10-1) atau baris ke-9\r\n",
    "print(raw_data[:10])\r\n",
    " \r\n",
    "# mengambil data dari baris ke-3 sampai baris ke-(5-1) atau baris ke-4\r\n",
    "print(raw_data[3:5])\r\n",
    " \r\n",
    "# mengambil data pada baris ke-1, ke-3 dan ke-10\r\n",
    "print(raw_data.loc[[1,3,10]])\r\n",
    "\r\n",
    "# Mengambil kolom 'Jenis Kelamin' dan 'Pendapatan' dan ambil baris ke-1 sampai ke-9\r\n",
    "print(raw_data[['Jenis Kelamin', 'Pendapatan']][1:10])\r\n",
    " \r\n",
    "# Mengambil kolom 'Harga' dan 'Tingkat Kepuasan' dan ambil baris ke-1, ke-10 dan ke-15\r\n",
    "print(raw_data[['Harga', 'Tingkat Kepuasan']].loc[[1,10,15]])"
   ],
   "outputs": [
    {
     "output_type": "stream",
     "name": "stdout",
     "text": [
      "    ID Pelanggan   Nama  Jenis Kelamin  Pendapatan Produk   Harga  Jumlah   \\\n",
      "1              2   Dian              2     1200000      D  250000        4   \n",
      "3              4  Fajar              1      400000      A  100000        2   \n",
      "10            11  Maria              2      600000      A  100000        4   \n",
      "\n",
      "      Total  Tingkat Kepuasan  \n",
      "1   1000000                 2  \n",
      "3    200000                 3  \n",
      "10   400000                 3  \n"
     ]
    }
   ],
   "metadata": {}
  }
 ],
 "metadata": {
  "orig_nbformat": 4,
  "language_info": {
   "name": "python",
   "version": "3.9.5",
   "mimetype": "text/x-python",
   "codemirror_mode": {
    "name": "ipython",
    "version": 3
   },
   "pygments_lexer": "ipython3",
   "nbconvert_exporter": "python",
   "file_extension": ".py"
  },
  "kernelspec": {
   "name": "python3",
   "display_name": "Python 3.9.5 64-bit"
  },
  "interpreter": {
   "hash": "2647ea34e536f865ab67ff9ddee7fd78773d956cec0cab53c79b32cd10da5d83"
  }
 },
 "nbformat": 4,
 "nbformat_minor": 2
}