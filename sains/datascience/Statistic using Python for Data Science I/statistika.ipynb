{
 "cells": [
  {
   "cell_type": "code",
   "execution_count": null,
   "source": [
    "import pandas as pd\r\n",
    "raw_data = pd.read_csv(\"https://storage.googleapis.com/dqlab-dataset/dataset_statistic.csv\", sep=';')\r\n",
    "\r\n",
    "# melihat dimensi dari raw_data\r\n",
    "print (raw_data.shape)\r\n",
    "\r\n",
    "# mengambil jumlah data\r\n",
    "print (raw_data.shape[0])"
   ],
   "outputs": [],
   "metadata": {}
  },
  {
   "cell_type": "code",
   "execution_count": null,
   "source": [
    "print(raw_data.columns)"
   ],
   "outputs": [],
   "metadata": {}
  },
  {
   "cell_type": "code",
   "execution_count": null,
   "source": [
    "# Melihat data yang hilang\r\n",
    "print(raw_data.isna())\r\n",
    "#hitung data yang menggunakan method isna\r\n",
    "print(raw_data.isna().sum())"
   ],
   "outputs": [],
   "metadata": {}
  },
  {
   "cell_type": "code",
   "execution_count": null,
   "source": [
    "import pandas as pd\r\n",
    "raw_data = pd.read_csv(\"https://storage.googleapis.com/dqlab-dataset/dataset_statistic.csv\", sep=';')\r\n",
    "\r\n",
    "print (raw_data.describe())\r\n",
    "\r\n",
    "# Mencari nilai maksimum dari tiap kolom\r\n",
    "raw_data.max()\r\n",
    " \r\n",
    "# Mencari nilai maksimum dari kolom 'Harga'\r\n",
    "raw_data['Harga'].max()\r\n",
    " \r\n",
    "# Mencari nilai minimum dari kolom 'Harga'\r\n",
    "raw_data['Harga'].min()"
   ],
   "outputs": [],
   "metadata": {}
  },
  {
   "cell_type": "code",
   "execution_count": null,
   "source": [
    "raw_data.sum(numeric_only=True)"
   ],
   "outputs": [],
   "metadata": {}
  },
  {
   "cell_type": "code",
   "execution_count": null,
   "source": [
    "raw_data.columns"
   ],
   "outputs": [],
   "metadata": {}
  },
  {
   "cell_type": "code",
   "execution_count": null,
   "source": [
    "raw_data[:10]"
   ],
   "outputs": [],
   "metadata": {}
  },
  {
   "cell_type": "code",
   "execution_count": null,
   "source": [
    "import pandas as pd\r\n",
    "raw_data = pd.read_csv(\"https://storage.googleapis.com/dqlab-dataset/dataset_statistic.csv\", sep=';')\r\n",
    "\r\n",
    "# mengambil data dari baris ke-0 sampai baris ke-(10-1) atau baris ke-9\r\n",
    "print(raw_data[:10])\r\n",
    " \r\n",
    "# mengambil data dari baris ke-3 sampai baris ke-(5-1) atau baris ke-4\r\n",
    "print(raw_data[3:5])\r\n",
    " \r\n",
    "# mengambil data pada baris ke-1, ke-3 dan ke-10\r\n",
    "print(raw_data.loc[[1,3,10]])\r\n",
    "\r\n",
    "# Mengambil kolom 'Jenis Kelamin' dan 'Pendapatan' dan ambil baris ke-1 sampai ke-9\r\n",
    "print(raw_data[['Jenis Kelamin', 'Pendapatan']][1:10])\r\n",
    " \r\n",
    "# Mengambil kolom 'Harga' dan 'Tingkat Kepuasan' dan ambil baris ke-1, ke-10 dan ke-15\r\n",
    "print(raw_data[['Harga', 'Tingkat Kepuasan']].loc[[1,10,15]]) "
   ],
   "outputs": [],
   "metadata": {}
  },
  {
   "cell_type": "code",
   "execution_count": null,
   "source": [
    "import numpy as np\r\n",
    "import pandas as pd\r\n",
    "raw_data = pd.read_csv(\"https://storage.googleapis.com/dqlab-dataset/dataset_statistic.csv\", sep=';')\r\n",
    "\r\n",
    "# mengambil hanya data untuk produk 'A'\r\n",
    "produk_A = raw_data[raw_data['Produk'] == 'A']\r\n",
    " \r\n",
    "# menghitung rerata pendapatan menggunakan method .mean pada objek pandas DataFrame\r\n",
    "print (produk_A['Pendapatan'].mean())\r\n",
    " \r\n",
    "# menghitung rerata pendapatan menggunakan method .mean pada objek pandas DataFrame dengan numpy\r\n",
    "print (np.mean(produk_A['Pendapatan']))"
   ],
   "outputs": [],
   "metadata": {}
  },
  {
   "cell_type": "code",
   "execution_count": null,
   "source": [
    "# Hitung median dari pendapatan menggunakan pandas\r\n",
    "print(produk_A['Pendapatan'].median())\r\n",
    " \r\n",
    "# Hitung median dari pendapatan menggunakan numpy\r\n",
    "print(np.median(produk_A['Pendapatan']))"
   ],
   "outputs": [],
   "metadata": {}
  },
  {
   "cell_type": "code",
   "execution_count": null,
   "source": [
    "import numpy as np\r\n",
    "import pandas as pd\r\n",
    "raw_data = pd.read_csv(\"https://storage.googleapis.com/dqlab-dataset/dataset_statistic.csv\", sep=';')\r\n",
    "\r\n",
    "# Melihat jumlah dari masing-masing produk\r\n",
    "print(raw_data['Produk'].value_counts())"
   ],
   "outputs": [],
   "metadata": {}
  },
  {
   "cell_type": "code",
   "execution_count": null,
   "source": [
    "# mencari median atau 50% dari data menggunakan pandas\r\n",
    "raw_data['Pendapatan'].quantile(q = 0.5)\r\n",
    " \r\n",
    "# mencari median atau 50% dari data menggunakan pandas\r\n",
    "np.quantile(raw_data['Pendapatan'], q=0.5)"
   ],
   "outputs": [],
   "metadata": {}
  },
  {
   "cell_type": "code",
   "execution_count": null,
   "source": [
    "import numpy as np\r\n",
    "import pandas as pd\r\n",
    "raw_data = pd.read_csv(\"https://storage.googleapis.com/dqlab-dataset/dataset_statistic.csv\", sep=';')\r\n",
    "\r\n",
    "# menghitung rerata dan median 'Pendapatan' dan 'Harga'\r\n",
    "print(raw_data[['Pendapatan','Harga']].agg([np.mean, np.median]))\r\n",
    " \r\n",
    "# menghitung rerata dan median Pendapatan dan Harga dari tiap produk\r\n",
    "print(raw_data[['Pendapatan','Harga','Produk']].groupby('Produk').agg([np.mean, np.median]))"
   ],
   "outputs": [],
   "metadata": {}
  },
  {
   "cell_type": "code",
   "execution_count": null,
   "source": [
    "# Jika kita ingin menghitung rata-rata dan median dari variabel 'Pendapatan' dan 'Harga', maka kita dapat menggunakan method:\r\n",
    "np.mean(raw_data['Pendapatan'])\r\n",
    "np.quantile(raw_data['Pendapatan'],q=0.5)\r\n"
   ],
   "outputs": [],
   "metadata": {}
  },
  {
   "cell_type": "code",
   "execution_count": null,
   "source": [
    "raw_data['Produk'].value_counts()/raw_data.shape[0]"
   ],
   "outputs": [],
   "metadata": {}
  },
  {
   "cell_type": "code",
   "execution_count": null,
   "source": [
    "# Cari nilai rentang dari kolom 'Pendapatan'\r\n",
    "print (raw_data['Pendapatan'].max() - raw_data['Pendapatan'].min())"
   ],
   "outputs": [],
   "metadata": {}
  },
  {
   "cell_type": "code",
   "execution_count": 52,
   "source": [
    "import numpy as np\r\n",
    "import pandas as pd\r\n",
    "raw_data = pd.read_csv(\"https://storage.googleapis.com/dqlab-dataset/dataset_statistic.csv\", sep=';')\r\n",
    "raw_data.columns"
   ],
   "outputs": [
    {
     "output_type": "execute_result",
     "data": {
      "text/plain": [
       "Index(['ID Pelanggan', 'Nama', 'Jenis Kelamin', 'Pendapatan', 'Produk',\n",
       "       'Harga', 'Jumlah ', 'Total', 'Tingkat Kepuasan'],\n",
       "      dtype='object')"
      ]
     },
     "metadata": {},
     "execution_count": 52
    }
   ],
   "metadata": {}
  },
  {
   "cell_type": "code",
   "execution_count": 53,
   "source": [
    "import numpy as np\r\n",
    "import pandas as pd\r\n",
    "raw_data = pd.read_csv(\"https://storage.googleapis.com/dqlab-dataset/dataset_statistic.csv\", sep=';')\r\n",
    "\r\n",
    "# menghitung variansi umur menggunakan method .var() dari pandas\r\n",
    "print (raw_data['Pendapatan'].var())\r\n",
    " \r\n",
    "# menghitung variansi umur menggunakan method .var() dari numpy\r\n",
    "print (np.var(raw_data['Pendapatan']))\r\n",
    "\r\n",
    "# mengatur variansi populasi dengan method `.var()` dari pandas\r\n",
    "print (raw_data['Pendapatan'].var(ddof=0))"
   ],
   "outputs": [
    {
     "output_type": "stream",
     "name": "stdout",
     "text": [
      "1645684210526.3157\n",
      "1563400000000.0\n",
      "1563400000000.0\n"
     ]
    }
   ],
   "metadata": {}
  },
  {
   "cell_type": "code",
   "execution_count": 54,
   "source": [
    "import numpy as np\r\n",
    "import pandas as pd\r\n",
    "raw_data = pd.read_csv(\"https://storage.googleapis.com/dqlab-dataset/dataset_statistic.csv\", sep=';')\r\n",
    "\r\n",
    "# menghitung deviasi baku sampel pendapatan menggunakan method std() dari pandas\r\n",
    "print (raw_data['Pendapatan'].std())\r\n",
    " \r\n",
    "# menghitung deviasi baku sampel pendapatan menggunakan method std() dari numpy\r\n",
    "print (np.std(raw_data['Pendapatan'], ddof = 1))"
   ],
   "outputs": [
    {
     "output_type": "stream",
     "name": "stdout",
     "text": [
      "1282842.2391417876\n",
      "1282842.2391417876\n"
     ]
    }
   ],
   "metadata": {}
  },
  {
   "cell_type": "code",
   "execution_count": 55,
   "source": [
    "import pandas as pd\r\n",
    "raw_data = pd.read_csv(\"https://storage.googleapis.com/dqlab-dataset/dataset_statistic.csv\", sep=';')\r\n",
    "\r\n",
    "# menghitung korelasi dari setiap pasang variabel pada raw_data\r\n",
    "print (raw_data.corr())\r\n",
    "\r\n",
    "# mencari korelasi 'kendall' untuk tiap pasang variabel\r\n",
    "print (raw_data.corr(method='kendall'))\r\n",
    " \r\n",
    "# mencari korelasi 'spearman' untuk tiap pasang variabel\r\n",
    "print (raw_data.corr(method='spearman'))"
   ],
   "outputs": [
    {
     "output_type": "stream",
     "name": "stdout",
     "text": [
      "                  ID Pelanggan  Jenis Kelamin  Pendapatan     Harga   Jumlah   \\\n",
      "ID Pelanggan          1.000000       0.151375    0.110958 -0.028707  0.011289   \n",
      "Jenis Kelamin         0.151375       1.000000    0.192849  0.457555 -0.104168   \n",
      "Pendapatan            0.110958       0.192849    1.000000  0.322443  0.399825   \n",
      "Harga                -0.028707       0.457555    0.322443  1.000000 -0.138883   \n",
      "Jumlah                0.011289      -0.104168    0.399825 -0.138883  1.000000   \n",
      "Total                -0.039968       0.238051    0.592044  0.645455  0.636097   \n",
      "Tingkat Kepuasan     -0.245717      -0.088339   -0.312663 -0.380798  0.017568   \n",
      "\n",
      "                     Total  Tingkat Kepuasan  \n",
      "ID Pelanggan     -0.039968         -0.245717  \n",
      "Jenis Kelamin     0.238051         -0.088339  \n",
      "Pendapatan        0.592044         -0.312663  \n",
      "Harga             0.645455         -0.380798  \n",
      "Jumlah            0.636097          0.017568  \n",
      "Total             1.000000         -0.268345  \n",
      "Tingkat Kepuasan -0.268345          1.000000  \n",
      "                  ID Pelanggan  Jenis Kelamin  Pendapatan     Harga   Jumlah   \\\n",
      "ID Pelanggan          1.000000       0.126650   -0.054998 -0.005753  0.024016   \n",
      "Jenis Kelamin         0.126650       1.000000    0.190245  0.415339 -0.090299   \n",
      "Pendapatan           -0.054998       0.190245    1.000000  0.523053  0.501925   \n",
      "Harga                -0.005753       0.415339    0.523053  1.000000 -0.098450   \n",
      "Jumlah                0.024016      -0.090299    0.501925 -0.098450  1.000000   \n",
      "Total                -0.065998       0.190245    0.988506  0.535078  0.501925   \n",
      "Tingkat Kepuasan     -0.183817      -0.085796   -0.165588 -0.325659 -0.028923   \n",
      "\n",
      "                     Total  Tingkat Kepuasan  \n",
      "ID Pelanggan     -0.065998         -0.183817  \n",
      "Jenis Kelamin     0.190245         -0.085796  \n",
      "Pendapatan        0.988506         -0.165588  \n",
      "Harga             0.535078         -0.325659  \n",
      "Jumlah            0.501925         -0.028923  \n",
      "Total             1.000000         -0.165588  \n",
      "Tingkat Kepuasan -0.165588          1.000000  \n",
      "                  ID Pelanggan  Jenis Kelamin  Pendapatan     Harga   Jumlah   \\\n",
      "ID Pelanggan          1.000000       0.151375   -0.063711 -0.039149  0.046356   \n",
      "Jenis Kelamin         0.151375       1.000000    0.219508  0.463635 -0.098864   \n",
      "Pendapatan           -0.063711       0.219508    1.000000  0.640000  0.607110   \n",
      "Harga                -0.039149       0.463635    0.640000  1.000000 -0.130749   \n",
      "Jumlah                0.046356      -0.098864    0.607110 -0.130749  1.000000   \n",
      "Total                -0.069779       0.219508    0.998470  0.646194  0.607110   \n",
      "Tingkat Kepuasan     -0.238890      -0.090784   -0.192463 -0.378933 -0.023874   \n",
      "\n",
      "                     Total  Tingkat Kepuasan  \n",
      "ID Pelanggan     -0.069779         -0.238890  \n",
      "Jenis Kelamin     0.219508         -0.090784  \n",
      "Pendapatan        0.998470         -0.192463  \n",
      "Harga             0.646194         -0.378933  \n",
      "Jumlah            0.607110         -0.023874  \n",
      "Total             1.000000         -0.192463  \n",
      "Tingkat Kepuasan -0.192463          1.000000  \n"
     ]
    }
   ],
   "metadata": {}
  }
 ],
 "metadata": {
  "orig_nbformat": 4,
  "language_info": {
   "name": "python",
   "version": "3.9.5",
   "mimetype": "text/x-python",
   "codemirror_mode": {
    "name": "ipython",
    "version": 3
   },
   "pygments_lexer": "ipython3",
   "nbconvert_exporter": "python",
   "file_extension": ".py"
  },
  "kernelspec": {
   "name": "python3",
   "display_name": "Python 3.9.5 64-bit"
  },
  "interpreter": {
   "hash": "2647ea34e536f865ab67ff9ddee7fd78773d956cec0cab53c79b32cd10da5d83"
  }
 },
 "nbformat": 4,
 "nbformat_minor": 2
}