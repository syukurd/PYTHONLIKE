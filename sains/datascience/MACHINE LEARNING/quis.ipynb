{
 "cells": [
  {
   "cell_type": "code",
   "execution_count": null,
   "source": [],
   "outputs": [],
   "metadata": {}
  },
  {
   "cell_type": "markdown",
   "source": [
    "# Quis Case Study: Promos for our e-commerce - Part 1"
   ],
   "metadata": {}
  },
  {
   "cell_type": "code",
   "execution_count": null,
   "source": [
    "#import library \r\n",
    "import pandas as pd\r\n",
    "\r\n",
    "# Baca data 'ecommerce_banner_promo.csv'\r\n",
    "data = pd.read_csv('https://storage.googleapis.com/dqlab-dataset/pythonTutorial/ecommerce_banner_promo.csv')\r\n",
    "\r\n",
    "#1. Data eksplorasi dengan head(), info(), describe(), shape\r\n",
    "print(\"\\n[1] Data eksplorasi dengan head(), info(), describe(), shape\")\r\n",
    "print(\"Lima data teratas:\")\r\n",
    "print(data.head())\r\n",
    "print(\"Informasi dataset:\")\r\n",
    "print(data.info())\r\n",
    "print(\"Statistik deskriptif dataset:\")\r\n",
    "print(data.describe())\r\n",
    "print(\"Ukuran dataset:\")\r\n",
    "print(data.shape)"
   ],
   "outputs": [],
   "metadata": {}
  },
  {
   "cell_type": "code",
   "execution_count": null,
   "source": [],
   "outputs": [],
   "metadata": {}
  },
  {
   "cell_type": "code",
   "execution_count": null,
   "source": [
    "#2. Data eksplorasi dengan dengan mengecek korelasi dari setiap feature menggunakan fungsi corr()\r\n",
    "print(\"\\n[2] Data eksplorasi dengan dengan mengecek korelasi dari setiap feature menggunakan fungsi corr()\")\r\n",
    "print(data.corr())\r\n",
    "\r\n",
    "#3. Data eksplorasi dengan mengecek distribusi label menggunakan fungsi groupby() dan size()\r\n",
    "print(\"\\n[3] Data eksplorasi dengan mengecek distribusi label menggunakan fungsi groupby() dan size()\")\r\n",
    "print(data.groupby('Clicked on Ad').size())"
   ],
   "outputs": [],
   "metadata": {}
  },
  {
   "cell_type": "code",
   "execution_count": null,
   "source": [
    "#import library\r\n",
    "import matplotlib.pyplot as plt\r\n",
    "import seaborn as sns\r\n",
    "# Seting: matplotlib and seaborn\r\n",
    "sns.set_style('whitegrid')\r\n",
    "plt.style.use('fivethirtyeight')\r\n",
    "#4. Data eksplorasi dengan visualisasi\r\n",
    "#4a. Visualisasi Jumlah user dibagi ke dalam rentang usia (Age) menggunakan histogram (hist()) plot\r\n",
    "plt.figure(figsize=(10, 5))\r\n",
    "plt.hist(data['Age'], bins = data.Age.nunique())\r\n",
    "plt.xlabel('Age')\r\n",
    "plt.tight_layout()\r\n",
    "plt.show()\r\n",
    "#4b. Gunakan pairplot() dari seaborn (sns) modul untuk menggambarkan hubungan setiap feature.\r\n",
    "plt.figure()\r\n",
    "sns.pairplot(data)\r\n",
    "plt.show()\r\n"
   ],
   "outputs": [],
   "metadata": {}
  },
  {
   "cell_type": "code",
   "execution_count": 10,
   "source": [
    "#import library\r\n",
    "from sklearn.model_selection import train_test_split\r\n",
    "from sklearn.linear_model import LogisticRegression\r\n",
    "\r\n",
    "#6.Lakukan pemodelan dengan Logistic Regression, gunakan perbandingan 80:20 untuk training vs testing\r\n",
    "print(\"\\n[6] Lakukan pemodelan dengan Logistic Regression, gunakan perbandingan 80:20 untuk training vs testing\")\r\n",
    "\r\n",
    "#6a.Drop Non-Numerical (object type) feature from X, as Logistic Regression can only take numbers, and also drop Target/label, assign Target Variable to y.\r\n",
    "X = data.drop(['Ad Topic Line','City','Country','Timestamp','Clicked on Ad'], axis = 1)\r\n",
    "y = data['Clicked on Ad']\r\n",
    "\r\n",
    "#6b. splitting the data\r\n",
    "X_train, X_test, y_train, y_test = train_test_split(X, y, test_size = 0.20, random_state = 42)\r\n",
    "\r\n",
    "#6c. Modelling\r\n",
    "# Call the classifier\r\n",
    "logreg = LogisticRegression()\r\n",
    "\r\n",
    "# Fit the classifier to the training data\r\n",
    "logreg = logreg.fit(X_train,y_train)\r\n",
    "\r\n",
    "# Prediksi model\r\n",
    "y_pred = logreg.predict(X_test)\r\n",
    "\r\n",
    "#6d. Evaluasi Model Performance\r\n",
    "print(\"Evaluasi Model Performance:\")\r\n",
    "print(\"Training Accuracy :\", logreg.score(X_train, y_train))\r\n",
    "print(\"Testing Accuracy :\", logreg.score(X_test, y_test))\r\n"
   ],
   "outputs": [
    {
     "output_type": "stream",
     "name": "stdout",
     "text": [
      "\n",
      "[6] Lakukan pemodelan dengan Logistic Regression, gunakan perbandingan 80:20 untuk training vs testing\n",
      "Evaluasi Model Performance:\n",
      "Training Accuracy : 0.9\n",
      "Testing Accuracy : 0.9\n"
     ]
    }
   ],
   "metadata": {}
  },
  {
   "cell_type": "code",
   "execution_count": null,
   "source": [
    "# Import library\r\n",
    "from sklearn.metrics import confusion_matrix, classification_report\r\n",
    "\r\n",
    "#7. Print Confusion matrix dan classification report\r\n",
    "print(\"\\n[7] Print Confusion matrix dan classification report\")\r\n",
    "\r\n",
    "#apply confusion_matrix function to y_test and y_pred\r\n",
    "print(\"Confusion matrix:\")\r\n",
    "cm = confusion_matrix(y_test,y_pred)\r\n",
    "print(cm)\r\n",
    "\r\n",
    "#apply classification_report function to y_test and y_pred\r\n",
    "print(\"Classification report:\")\r\n",
    "cr = classification_report(y_test,y_pred)\r\n",
    "print(cr)"
   ],
   "outputs": [],
   "metadata": {}
  }
 ],
 "metadata": {
  "orig_nbformat": 4,
  "language_info": {
   "name": "python",
   "version": "3.9.5",
   "mimetype": "text/x-python",
   "codemirror_mode": {
    "name": "ipython",
    "version": 3
   },
   "pygments_lexer": "ipython3",
   "nbconvert_exporter": "python",
   "file_extension": ".py"
  },
  "kernelspec": {
   "name": "python3",
   "display_name": "Python 3.9.5 64-bit"
  },
  "interpreter": {
   "hash": "2647ea34e536f865ab67ff9ddee7fd78773d956cec0cab53c79b32cd10da5d83"
  }
 },
 "nbformat": 4,
 "nbformat_minor": 2
}