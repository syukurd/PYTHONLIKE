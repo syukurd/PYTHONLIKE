{
 "cells": [
  {
   "cell_type": "code",
   "execution_count": null,
   "source": [],
   "outputs": [],
   "metadata": {}
  },
  {
   "cell_type": "markdown",
   "source": [
    "# Quis Case Study: Promos for our e-commerce - Part 1"
   ],
   "metadata": {}
  },
  {
   "cell_type": "code",
   "execution_count": null,
   "source": [
    "#import library \r\n",
    "import pandas as pd\r\n",
    "\r\n",
    "# Baca data 'ecommerce_banner_promo.csv'\r\n",
    "data = pd.read_csv('https://storage.googleapis.com/dqlab-dataset/pythonTutorial/ecommerce_banner_promo.csv')\r\n",
    "\r\n",
    "#1. Data eksplorasi dengan head(), info(), describe(), shape\r\n",
    "print(\"\\n[1] Data eksplorasi dengan head(), info(), describe(), shape\")\r\n",
    "print(\"Lima data teratas:\")\r\n",
    "print(data.head())\r\n",
    "print(\"Informasi dataset:\")\r\n",
    "print(data.info())\r\n",
    "print(\"Statistik deskriptif dataset:\")\r\n",
    "print(data.describe())\r\n",
    "print(\"Ukuran dataset:\")\r\n",
    "print(data.shape)"
   ],
   "outputs": [],
   "metadata": {}
  },
  {
   "cell_type": "code",
   "execution_count": null,
   "source": [],
   "outputs": [],
   "metadata": {}
  },
  {
   "cell_type": "code",
   "execution_count": 3,
   "source": [
    "#2. Data eksplorasi dengan dengan mengecek korelasi dari setiap feature menggunakan fungsi corr()\r\n",
    "print(\"\\n[2] Data eksplorasi dengan dengan mengecek korelasi dari setiap feature menggunakan fungsi corr()\")\r\n",
    "print(data.corr())\r\n",
    "\r\n",
    "#3. Data eksplorasi dengan mengecek distribusi label menggunakan fungsi groupby() dan size()\r\n",
    "print(\"\\n[3] Data eksplorasi dengan mengecek distribusi label menggunakan fungsi groupby() dan size()\")\r\n",
    "print(data.groupby('Clicked on Ad').size())"
   ],
   "outputs": [
    {
     "output_type": "stream",
     "name": "stdout",
     "text": [
      "\n",
      "[2] Data eksplorasi dengan dengan mengecek korelasi dari setiap feature menggunakan fungsi corr()\n",
      "                          Daily Time Spent on Site       Age  Area Income  \\\n",
      "Daily Time Spent on Site                  1.000000 -0.331513     0.310954   \n",
      "Age                                      -0.331513  1.000000    -0.182605   \n",
      "Area Income                               0.310954 -0.182605     1.000000   \n",
      "Daily Internet Usage                      0.518658 -0.367209     0.337496   \n",
      "Male                                     -0.018951 -0.021044     0.001322   \n",
      "Clicked on Ad                            -0.748117  0.492531    -0.476255   \n",
      "\n",
      "                          Daily Internet Usage      Male  Clicked on Ad  \n",
      "Daily Time Spent on Site              0.518658 -0.018951      -0.748117  \n",
      "Age                                  -0.367209 -0.021044       0.492531  \n",
      "Area Income                           0.337496  0.001322      -0.476255  \n",
      "Daily Internet Usage                  1.000000  0.028012      -0.786539  \n",
      "Male                                  0.028012  1.000000      -0.038027  \n",
      "Clicked on Ad                        -0.786539 -0.038027       1.000000  \n",
      "\n",
      "[3] Data eksplorasi dengan mengecek distribusi label menggunakan fungsi groupby() dan size()\n",
      "Clicked on Ad\n",
      "0    500\n",
      "1    500\n",
      "dtype: int64\n"
     ]
    }
   ],
   "metadata": {}
  },
  {
   "cell_type": "code",
   "execution_count": 6,
   "source": [
    "#import library\r\n",
    "import matplotlib.pyplot as plt\r\n",
    "import seaborn as sns\r\n",
    "# Seting: matplotlib and seaborn\r\n",
    "sns.set_style('whitegrid')\r\n",
    "plt.style.use('fivethirtyeight')\r\n",
    "#4. Data eksplorasi dengan visualisasi\r\n",
    "#4a. Visualisasi Jumlah user dibagi ke dalam rentang usia (Age) menggunakan histogram (hist()) plot\r\n",
    "plt.figure(figsize=(10, 5))\r\n",
    "plt.hist(data['Age'], bins = data.Age.nunique())\r\n",
    "plt.xlabel('Age')\r\n",
    "plt.tight_layout()\r\n",
    "plt.show()\r\n",
    "#4b. Gunakan pairplot() dari seaborn (sns) modul untuk menggambarkan hubungan setiap feature.\r\n",
    "plt.figure()\r\n",
    "sns.pairplot(data)\r\n",
    "plt.show()\r\n"
   ],
   "outputs": [
    {
     "output_type": "display_data",
     "data": {
      "text/plain": [
       "<Figure size 720x360 with 1 Axes>"
      ],
      "image/png": "[encoded data removed]"
     },
     "metadata": {}
    }
   ],
   "metadata": {}
  }
 ],
 "metadata": {
  "orig_nbformat": 4,
  "language_info": {
   "name": "python",
   "version": "3.9.5",
   "mimetype": "text/x-python",
   "codemirror_mode": {
    "name": "ipython",
    "version": 3
   },
   "pygments_lexer": "ipython3",
   "nbconvert_exporter": "python",
   "file_extension": ".py"
  },
  "kernelspec": {
   "name": "python3",
   "display_name": "Python 3.9.5 64-bit"
  },
  "interpreter": {
   "hash": "2647ea34e536f865ab67ff9ddee7fd78773d956cec0cab53c79b32cd10da5d83"
  }
 },
 "nbformat": 4,
 "nbformat_minor": 2
}